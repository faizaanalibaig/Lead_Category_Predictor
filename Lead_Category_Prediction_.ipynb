{
 "cells": [
  {
   "cell_type": "markdown",
   "id": "eb661bd8",
   "metadata": {},
   "source": [
    "# Business Case"
   ]
  },
  {
   "cell_type": "markdown",
   "id": "7066efe1",
   "metadata": {},
   "source": [
    "## PROJECT GOAL: \n",
    "**1. Data exploration insights – Sales effectiveness.**\n",
    "\n",
    "**2. ML model to predict the Lead Category (High Potential , Low Potential)**"
   ]
  },
  {
   "cell_type": "code",
   "execution_count": 1,
   "id": "274a1011",
   "metadata": {},
   "outputs": [],
   "source": [
    "# Importing Basic libraries\n",
    "import numpy as np\n",
    "import pandas as pd\n",
    "import matplotlib.pyplot as plt\n",
    "%matplotlib inline\n",
    "import seaborn as sns\n",
    "import warnings\n",
    "warnings.filterwarnings('ignore')"
   ]
  },
  {
   "cell_type": "code",
   "execution_count": 2,
   "id": "adf1d83e",
   "metadata": {},
   "outputs": [],
   "source": [
    "# Loading the dataset\n",
    "data = pd.read_csv('data.csv')"
   ]
  },
  {
   "cell_type": "code",
   "execution_count": 3,
   "id": "38935701",
   "metadata": {},
   "outputs": [
    {
     "data": {
      "text/html": [
       "<div>\n",
       "<style scoped>\n",
       "    .dataframe tbody tr th:only-of-type {\n",
       "        vertical-align: middle;\n",
       "    }\n",
       "\n",
       "    .dataframe tbody tr th {\n",
       "        vertical-align: top;\n",
       "    }\n",
       "\n",
       "    .dataframe thead th {\n",
       "        text-align: right;\n",
       "    }\n",
       "</style>\n",
       "<table border=\"1\" class=\"dataframe\">\n",
       "  <thead>\n",
       "    <tr style=\"text-align: right;\">\n",
       "      <th></th>\n",
       "      <th>Created</th>\n",
       "      <th>Product_ID</th>\n",
       "      <th>Source</th>\n",
       "      <th>Mobile</th>\n",
       "      <th>EMAIL</th>\n",
       "      <th>Sales_Agent</th>\n",
       "      <th>Location</th>\n",
       "      <th>Delivery_Mode</th>\n",
       "      <th>Status</th>\n",
       "    </tr>\n",
       "  </thead>\n",
       "  <tbody>\n",
       "    <tr>\n",
       "      <th>0</th>\n",
       "      <td>14-11-2018 10:05</td>\n",
       "      <td>NaN</td>\n",
       "      <td>Website</td>\n",
       "      <td>984XXXXXXX</td>\n",
       "      <td>aXXXXXXX@gmail.com</td>\n",
       "      <td>Sales-Agent-11</td>\n",
       "      <td>NaN</td>\n",
       "      <td>Mode-5</td>\n",
       "      <td>Open</td>\n",
       "    </tr>\n",
       "    <tr>\n",
       "      <th>1</th>\n",
       "      <td>14-11-2018 09:22</td>\n",
       "      <td>NaN</td>\n",
       "      <td>Website</td>\n",
       "      <td>XXXXXXX</td>\n",
       "      <td>#VALUE!</td>\n",
       "      <td>Sales-Agent-10</td>\n",
       "      <td>NaN</td>\n",
       "      <td>Mode-5</td>\n",
       "      <td>Open</td>\n",
       "    </tr>\n",
       "    <tr>\n",
       "      <th>2</th>\n",
       "      <td>14-11-2018 09:21</td>\n",
       "      <td>NaN</td>\n",
       "      <td>Website</td>\n",
       "      <td>XXXXXXX</td>\n",
       "      <td>dXXXXXXX@yahoo.com</td>\n",
       "      <td>Sales-Agent-10</td>\n",
       "      <td>NaN</td>\n",
       "      <td>Mode-5</td>\n",
       "      <td>Open</td>\n",
       "    </tr>\n",
       "    <tr>\n",
       "      <th>3</th>\n",
       "      <td>14-11-2018 08:46</td>\n",
       "      <td>NaN</td>\n",
       "      <td>Website</td>\n",
       "      <td>XXXXXXX</td>\n",
       "      <td>wXXXXXXX@gmail.com</td>\n",
       "      <td>Sales-Agent-10</td>\n",
       "      <td>NaN</td>\n",
       "      <td>Mode-5</td>\n",
       "      <td>Open</td>\n",
       "    </tr>\n",
       "    <tr>\n",
       "      <th>4</th>\n",
       "      <td>14-11-2018 07:34</td>\n",
       "      <td>NaN</td>\n",
       "      <td>Website</td>\n",
       "      <td>XXXXXXX</td>\n",
       "      <td>cXXXXXXX@gmail.com</td>\n",
       "      <td>Sales-Agent-10</td>\n",
       "      <td>NaN</td>\n",
       "      <td>Mode-5</td>\n",
       "      <td>Open</td>\n",
       "    </tr>\n",
       "  </tbody>\n",
       "</table>\n",
       "</div>"
      ],
      "text/plain": [
       "            Created  Product_ID   Source      Mobile               EMAIL  \\\n",
       "0  14-11-2018 10:05         NaN  Website  984XXXXXXX  aXXXXXXX@gmail.com   \n",
       "1  14-11-2018 09:22         NaN  Website     XXXXXXX             #VALUE!   \n",
       "2  14-11-2018 09:21         NaN  Website     XXXXXXX  dXXXXXXX@yahoo.com   \n",
       "3  14-11-2018 08:46         NaN  Website     XXXXXXX  wXXXXXXX@gmail.com   \n",
       "4  14-11-2018 07:34         NaN  Website     XXXXXXX  cXXXXXXX@gmail.com   \n",
       "\n",
       "      Sales_Agent Location Delivery_Mode Status  \n",
       "0  Sales-Agent-11      NaN        Mode-5   Open  \n",
       "1  Sales-Agent-10      NaN        Mode-5   Open  \n",
       "2  Sales-Agent-10      NaN        Mode-5   Open  \n",
       "3  Sales-Agent-10      NaN        Mode-5   Open  \n",
       "4  Sales-Agent-10      NaN        Mode-5   Open  "
      ]
     },
     "execution_count": 3,
     "metadata": {},
     "output_type": "execute_result"
    }
   ],
   "source": [
    "# first five records of our dataframe\n",
    "data.head()"
   ]
  },
  {
   "cell_type": "code",
   "execution_count": 4,
   "id": "6b3a90af",
   "metadata": {},
   "outputs": [
    {
     "data": {
      "text/html": [
       "<div>\n",
       "<style scoped>\n",
       "    .dataframe tbody tr th:only-of-type {\n",
       "        vertical-align: middle;\n",
       "    }\n",
       "\n",
       "    .dataframe tbody tr th {\n",
       "        vertical-align: top;\n",
       "    }\n",
       "\n",
       "    .dataframe thead th {\n",
       "        text-align: right;\n",
       "    }\n",
       "</style>\n",
       "<table border=\"1\" class=\"dataframe\">\n",
       "  <thead>\n",
       "    <tr style=\"text-align: right;\">\n",
       "      <th></th>\n",
       "      <th>Created</th>\n",
       "      <th>Product_ID</th>\n",
       "      <th>Source</th>\n",
       "      <th>Mobile</th>\n",
       "      <th>EMAIL</th>\n",
       "      <th>Sales_Agent</th>\n",
       "      <th>Location</th>\n",
       "      <th>Delivery_Mode</th>\n",
       "      <th>Status</th>\n",
       "    </tr>\n",
       "  </thead>\n",
       "  <tbody>\n",
       "    <tr>\n",
       "      <th>0</th>\n",
       "      <td>14-11-2018 10:05</td>\n",
       "      <td>NaN</td>\n",
       "      <td>Website</td>\n",
       "      <td>984XXXXXXX</td>\n",
       "      <td>aXXXXXXX@gmail.com</td>\n",
       "      <td>Sales-Agent-11</td>\n",
       "      <td>NaN</td>\n",
       "      <td>Mode-5</td>\n",
       "      <td>Open</td>\n",
       "    </tr>\n",
       "    <tr>\n",
       "      <th>1</th>\n",
       "      <td>14-11-2018 09:22</td>\n",
       "      <td>NaN</td>\n",
       "      <td>Website</td>\n",
       "      <td>XXXXXXX</td>\n",
       "      <td>#VALUE!</td>\n",
       "      <td>Sales-Agent-10</td>\n",
       "      <td>NaN</td>\n",
       "      <td>Mode-5</td>\n",
       "      <td>Open</td>\n",
       "    </tr>\n",
       "    <tr>\n",
       "      <th>2</th>\n",
       "      <td>14-11-2018 09:21</td>\n",
       "      <td>NaN</td>\n",
       "      <td>Website</td>\n",
       "      <td>XXXXXXX</td>\n",
       "      <td>dXXXXXXX@yahoo.com</td>\n",
       "      <td>Sales-Agent-10</td>\n",
       "      <td>NaN</td>\n",
       "      <td>Mode-5</td>\n",
       "      <td>Open</td>\n",
       "    </tr>\n",
       "    <tr>\n",
       "      <th>3</th>\n",
       "      <td>14-11-2018 08:46</td>\n",
       "      <td>NaN</td>\n",
       "      <td>Website</td>\n",
       "      <td>XXXXXXX</td>\n",
       "      <td>wXXXXXXX@gmail.com</td>\n",
       "      <td>Sales-Agent-10</td>\n",
       "      <td>NaN</td>\n",
       "      <td>Mode-5</td>\n",
       "      <td>Open</td>\n",
       "    </tr>\n",
       "    <tr>\n",
       "      <th>4</th>\n",
       "      <td>14-11-2018 07:34</td>\n",
       "      <td>NaN</td>\n",
       "      <td>Website</td>\n",
       "      <td>XXXXXXX</td>\n",
       "      <td>cXXXXXXX@gmail.com</td>\n",
       "      <td>Sales-Agent-10</td>\n",
       "      <td>NaN</td>\n",
       "      <td>Mode-5</td>\n",
       "      <td>Open</td>\n",
       "    </tr>\n",
       "    <tr>\n",
       "      <th>5</th>\n",
       "      <td>14-11-2018 07:33</td>\n",
       "      <td>NaN</td>\n",
       "      <td>Website</td>\n",
       "      <td>XXXXXXX</td>\n",
       "      <td>rXXXXXXX@gmail.com</td>\n",
       "      <td>Sales-Agent-10</td>\n",
       "      <td>NaN</td>\n",
       "      <td>Mode-5</td>\n",
       "      <td>Open</td>\n",
       "    </tr>\n",
       "    <tr>\n",
       "      <th>6</th>\n",
       "      <td>14-11-2018 05:58</td>\n",
       "      <td>NaN</td>\n",
       "      <td>Website</td>\n",
       "      <td>XXXXXXX</td>\n",
       "      <td>aXXXXXXX@gmail.com</td>\n",
       "      <td>Sales-Agent-10</td>\n",
       "      <td>NaN</td>\n",
       "      <td>Mode-5</td>\n",
       "      <td>Open</td>\n",
       "    </tr>\n",
       "    <tr>\n",
       "      <th>7</th>\n",
       "      <td>14-11-2018 05:49</td>\n",
       "      <td>NaN</td>\n",
       "      <td>Website</td>\n",
       "      <td>XXXXXXX</td>\n",
       "      <td>rXXXXXXX@gmail.com</td>\n",
       "      <td>Sales-Agent-10</td>\n",
       "      <td>NaN</td>\n",
       "      <td>Mode-5</td>\n",
       "      <td>Open</td>\n",
       "    </tr>\n",
       "    <tr>\n",
       "      <th>8</th>\n",
       "      <td>14-11-2018 05:40</td>\n",
       "      <td>NaN</td>\n",
       "      <td>Website</td>\n",
       "      <td>078XXXXXXX</td>\n",
       "      <td>DXXXXXXXheblue.com</td>\n",
       "      <td>Sales-Agent-10</td>\n",
       "      <td>NaN</td>\n",
       "      <td>Mode-5</td>\n",
       "      <td>Open</td>\n",
       "    </tr>\n",
       "    <tr>\n",
       "      <th>9</th>\n",
       "      <td>14-11-2018 05:06</td>\n",
       "      <td>NaN</td>\n",
       "      <td>Website</td>\n",
       "      <td>XXXXXXX</td>\n",
       "      <td>jXXXXXXX@gmail.com</td>\n",
       "      <td>Sales-Agent-10</td>\n",
       "      <td>NaN</td>\n",
       "      <td>Mode-5</td>\n",
       "      <td>Open</td>\n",
       "    </tr>\n",
       "    <tr>\n",
       "      <th>10</th>\n",
       "      <td>14-11-2018 05:03</td>\n",
       "      <td>NaN</td>\n",
       "      <td>Website</td>\n",
       "      <td>XXXXXXX</td>\n",
       "      <td>dXXXXXXXt9@aol.com</td>\n",
       "      <td>Sales-Agent-10</td>\n",
       "      <td>NaN</td>\n",
       "      <td>Mode-5</td>\n",
       "      <td>Open</td>\n",
       "    </tr>\n",
       "    <tr>\n",
       "      <th>11</th>\n",
       "      <td>14-11-2018 04:52</td>\n",
       "      <td>NaN</td>\n",
       "      <td>Website</td>\n",
       "      <td>XXXXXXX</td>\n",
       "      <td>eXXXXXXX@gmail.com</td>\n",
       "      <td>Sales-Agent-10</td>\n",
       "      <td>NaN</td>\n",
       "      <td>Mode-5</td>\n",
       "      <td>Open</td>\n",
       "    </tr>\n",
       "    <tr>\n",
       "      <th>12</th>\n",
       "      <td>14-11-2018 02:37</td>\n",
       "      <td>NaN</td>\n",
       "      <td>Website</td>\n",
       "      <td>467XXXXXXX</td>\n",
       "      <td>bXXXXXXX@gmail.com</td>\n",
       "      <td>Sales-Agent-10</td>\n",
       "      <td>NaN</td>\n",
       "      <td>Mode-5</td>\n",
       "      <td>Open</td>\n",
       "    </tr>\n",
       "    <tr>\n",
       "      <th>13</th>\n",
       "      <td>13-11-2018 23:40</td>\n",
       "      <td>NaN</td>\n",
       "      <td>NaN</td>\n",
       "      <td>XXXXXXX</td>\n",
       "      <td>#VALUE!</td>\n",
       "      <td>Sales-Agent-10</td>\n",
       "      <td>NaN</td>\n",
       "      <td>Mode-5</td>\n",
       "      <td>Open</td>\n",
       "    </tr>\n",
       "    <tr>\n",
       "      <th>14</th>\n",
       "      <td>13-11-2018 21:14</td>\n",
       "      <td>NaN</td>\n",
       "      <td>Website</td>\n",
       "      <td>984XXXXXXX</td>\n",
       "      <td>SXXXXXXXutlook.com</td>\n",
       "      <td>Sales-Agent-10</td>\n",
       "      <td>NaN</td>\n",
       "      <td>Mode-5</td>\n",
       "      <td>Open</td>\n",
       "    </tr>\n",
       "    <tr>\n",
       "      <th>15</th>\n",
       "      <td>13-11-2018 20:45</td>\n",
       "      <td>NaN</td>\n",
       "      <td>NaN</td>\n",
       "      <td>XXXXXXX</td>\n",
       "      <td>#VALUE!</td>\n",
       "      <td>Sales-Agent-10</td>\n",
       "      <td>NaN</td>\n",
       "      <td>Mode-5</td>\n",
       "      <td>Open</td>\n",
       "    </tr>\n",
       "    <tr>\n",
       "      <th>16</th>\n",
       "      <td>13-11-2018 20:15</td>\n",
       "      <td>NaN</td>\n",
       "      <td>Website</td>\n",
       "      <td>XXXXXXX</td>\n",
       "      <td>#VALUE!</td>\n",
       "      <td>Sales-Agent-10</td>\n",
       "      <td>NaN</td>\n",
       "      <td>Mode-5</td>\n",
       "      <td>Open</td>\n",
       "    </tr>\n",
       "    <tr>\n",
       "      <th>17</th>\n",
       "      <td>13-11-2018 20:14</td>\n",
       "      <td>NaN</td>\n",
       "      <td>Website</td>\n",
       "      <td>XXXXXXX</td>\n",
       "      <td>#VALUE!</td>\n",
       "      <td>Sales-Agent-10</td>\n",
       "      <td>NaN</td>\n",
       "      <td>Mode-5</td>\n",
       "      <td>Open</td>\n",
       "    </tr>\n",
       "    <tr>\n",
       "      <th>18</th>\n",
       "      <td>13-11-2018 18:51</td>\n",
       "      <td>9.0</td>\n",
       "      <td>Live Chat-Google Organic</td>\n",
       "      <td>971XXXXXXX</td>\n",
       "      <td>mXXXXXXX@gmail.com</td>\n",
       "      <td>Sales-Agent-3</td>\n",
       "      <td>Bangalore</td>\n",
       "      <td>Mode-1</td>\n",
       "      <td>Potential</td>\n",
       "    </tr>\n",
       "    <tr>\n",
       "      <th>19</th>\n",
       "      <td>13-11-2018 18:48</td>\n",
       "      <td>19.0</td>\n",
       "      <td>Call</td>\n",
       "      <td>701XXXXXXX</td>\n",
       "      <td>#VALUE!</td>\n",
       "      <td>Sales-Agent-4</td>\n",
       "      <td>Other Locations</td>\n",
       "      <td>Mode-5</td>\n",
       "      <td>Potential</td>\n",
       "    </tr>\n",
       "  </tbody>\n",
       "</table>\n",
       "</div>"
      ],
      "text/plain": [
       "             Created  Product_ID                    Source      Mobile  \\\n",
       "0   14-11-2018 10:05         NaN                   Website  984XXXXXXX   \n",
       "1   14-11-2018 09:22         NaN                   Website     XXXXXXX   \n",
       "2   14-11-2018 09:21         NaN                   Website     XXXXXXX   \n",
       "3   14-11-2018 08:46         NaN                   Website     XXXXXXX   \n",
       "4   14-11-2018 07:34         NaN                   Website     XXXXXXX   \n",
       "5   14-11-2018 07:33         NaN                   Website     XXXXXXX   \n",
       "6   14-11-2018 05:58         NaN                   Website     XXXXXXX   \n",
       "7   14-11-2018 05:49         NaN                   Website     XXXXXXX   \n",
       "8   14-11-2018 05:40         NaN                   Website  078XXXXXXX   \n",
       "9   14-11-2018 05:06         NaN                   Website     XXXXXXX   \n",
       "10  14-11-2018 05:03         NaN                   Website     XXXXXXX   \n",
       "11  14-11-2018 04:52         NaN                   Website     XXXXXXX   \n",
       "12  14-11-2018 02:37         NaN                   Website  467XXXXXXX   \n",
       "13  13-11-2018 23:40         NaN                       NaN     XXXXXXX   \n",
       "14  13-11-2018 21:14         NaN                   Website  984XXXXXXX   \n",
       "15  13-11-2018 20:45         NaN                       NaN     XXXXXXX   \n",
       "16  13-11-2018 20:15         NaN                   Website     XXXXXXX   \n",
       "17  13-11-2018 20:14         NaN                   Website     XXXXXXX   \n",
       "18  13-11-2018 18:51         9.0  Live Chat-Google Organic  971XXXXXXX   \n",
       "19  13-11-2018 18:48        19.0                      Call  701XXXXXXX   \n",
       "\n",
       "                 EMAIL     Sales_Agent         Location Delivery_Mode  \\\n",
       "0   aXXXXXXX@gmail.com  Sales-Agent-11              NaN        Mode-5   \n",
       "1              #VALUE!  Sales-Agent-10              NaN        Mode-5   \n",
       "2   dXXXXXXX@yahoo.com  Sales-Agent-10              NaN        Mode-5   \n",
       "3   wXXXXXXX@gmail.com  Sales-Agent-10              NaN        Mode-5   \n",
       "4   cXXXXXXX@gmail.com  Sales-Agent-10              NaN        Mode-5   \n",
       "5   rXXXXXXX@gmail.com  Sales-Agent-10              NaN        Mode-5   \n",
       "6   aXXXXXXX@gmail.com  Sales-Agent-10              NaN        Mode-5   \n",
       "7   rXXXXXXX@gmail.com  Sales-Agent-10              NaN        Mode-5   \n",
       "8   DXXXXXXXheblue.com  Sales-Agent-10              NaN        Mode-5   \n",
       "9   jXXXXXXX@gmail.com  Sales-Agent-10              NaN        Mode-5   \n",
       "10  dXXXXXXXt9@aol.com  Sales-Agent-10              NaN        Mode-5   \n",
       "11  eXXXXXXX@gmail.com  Sales-Agent-10              NaN        Mode-5   \n",
       "12  bXXXXXXX@gmail.com  Sales-Agent-10              NaN        Mode-5   \n",
       "13             #VALUE!  Sales-Agent-10              NaN        Mode-5   \n",
       "14  SXXXXXXXutlook.com  Sales-Agent-10              NaN        Mode-5   \n",
       "15             #VALUE!  Sales-Agent-10              NaN        Mode-5   \n",
       "16             #VALUE!  Sales-Agent-10              NaN        Mode-5   \n",
       "17             #VALUE!  Sales-Agent-10              NaN        Mode-5   \n",
       "18  mXXXXXXX@gmail.com   Sales-Agent-3        Bangalore        Mode-1   \n",
       "19             #VALUE!   Sales-Agent-4  Other Locations        Mode-5   \n",
       "\n",
       "       Status  \n",
       "0        Open  \n",
       "1        Open  \n",
       "2        Open  \n",
       "3        Open  \n",
       "4        Open  \n",
       "5        Open  \n",
       "6        Open  \n",
       "7        Open  \n",
       "8        Open  \n",
       "9        Open  \n",
       "10       Open  \n",
       "11       Open  \n",
       "12       Open  \n",
       "13       Open  \n",
       "14       Open  \n",
       "15       Open  \n",
       "16       Open  \n",
       "17       Open  \n",
       "18  Potential  \n",
       "19  Potential  "
      ]
     },
     "execution_count": 4,
     "metadata": {},
     "output_type": "execute_result"
    }
   ],
   "source": [
    "data.head(20)"
   ]
  },
  {
   "cell_type": "code",
   "execution_count": 5,
   "id": "940eaafe",
   "metadata": {},
   "outputs": [
    {
     "data": {
      "text/plain": [
       "(7422, 9)"
      ]
     },
     "execution_count": 5,
     "metadata": {},
     "output_type": "execute_result"
    }
   ],
   "source": [
    "data.shape"
   ]
  },
  {
   "cell_type": "code",
   "execution_count": 6,
   "id": "ac3ef77b",
   "metadata": {},
   "outputs": [
    {
     "data": {
      "text/html": [
       "<div>\n",
       "<style scoped>\n",
       "    .dataframe tbody tr th:only-of-type {\n",
       "        vertical-align: middle;\n",
       "    }\n",
       "\n",
       "    .dataframe tbody tr th {\n",
       "        vertical-align: top;\n",
       "    }\n",
       "\n",
       "    .dataframe thead th {\n",
       "        text-align: right;\n",
       "    }\n",
       "</style>\n",
       "<table border=\"1\" class=\"dataframe\">\n",
       "  <thead>\n",
       "    <tr style=\"text-align: right;\">\n",
       "      <th></th>\n",
       "      <th>Created</th>\n",
       "      <th>Product_ID</th>\n",
       "      <th>Source</th>\n",
       "      <th>Mobile</th>\n",
       "      <th>EMAIL</th>\n",
       "      <th>Sales_Agent</th>\n",
       "      <th>Location</th>\n",
       "      <th>Delivery_Mode</th>\n",
       "      <th>Status</th>\n",
       "    </tr>\n",
       "  </thead>\n",
       "  <tbody>\n",
       "    <tr>\n",
       "      <th>7417</th>\n",
       "      <td>28-04-2018 09:45</td>\n",
       "      <td>9.0</td>\n",
       "      <td>Call</td>\n",
       "      <td>NaN</td>\n",
       "      <td>aXXXXXXX@gmail.com</td>\n",
       "      <td>Sales-Agent-6</td>\n",
       "      <td>Mumbai</td>\n",
       "      <td>Mode-4</td>\n",
       "      <td>LOST</td>\n",
       "    </tr>\n",
       "    <tr>\n",
       "      <th>7418</th>\n",
       "      <td>28-04-2018 09:43</td>\n",
       "      <td>15.0</td>\n",
       "      <td>Call</td>\n",
       "      <td>NaN</td>\n",
       "      <td>#VALUE!</td>\n",
       "      <td>Sales-Agent-12</td>\n",
       "      <td>Other Locations</td>\n",
       "      <td>Mode-5</td>\n",
       "      <td>LOST</td>\n",
       "    </tr>\n",
       "    <tr>\n",
       "      <th>7419</th>\n",
       "      <td>28-04-2018 09:20</td>\n",
       "      <td>5.0</td>\n",
       "      <td>Live Chat-Direct</td>\n",
       "      <td>NaN</td>\n",
       "      <td>sXXXXXXX@gmail.com</td>\n",
       "      <td>Sales-Agent-11</td>\n",
       "      <td>Bangalore</td>\n",
       "      <td>Mode-1</td>\n",
       "      <td>Not Responding</td>\n",
       "    </tr>\n",
       "    <tr>\n",
       "      <th>7420</th>\n",
       "      <td>28-04-2018 08:04</td>\n",
       "      <td>21.0</td>\n",
       "      <td>CRM form</td>\n",
       "      <td>NaN</td>\n",
       "      <td>YXXXXXXX@gmail.com</td>\n",
       "      <td>Sales-Agent-4</td>\n",
       "      <td>Other Locations</td>\n",
       "      <td>Mode-1</td>\n",
       "      <td>Just Enquiry</td>\n",
       "    </tr>\n",
       "    <tr>\n",
       "      <th>7421</th>\n",
       "      <td>28-04-2018 07:54</td>\n",
       "      <td>25.0</td>\n",
       "      <td>Website</td>\n",
       "      <td>NaN</td>\n",
       "      <td>cXXXXXXX@gmail.com</td>\n",
       "      <td>Sales-Agent-3</td>\n",
       "      <td>Chennai</td>\n",
       "      <td>Mode-1</td>\n",
       "      <td>CONVERTED</td>\n",
       "    </tr>\n",
       "  </tbody>\n",
       "</table>\n",
       "</div>"
      ],
      "text/plain": [
       "               Created  Product_ID            Source Mobile  \\\n",
       "7417  28-04-2018 09:45         9.0              Call    NaN   \n",
       "7418  28-04-2018 09:43        15.0              Call    NaN   \n",
       "7419  28-04-2018 09:20         5.0  Live Chat-Direct    NaN   \n",
       "7420  28-04-2018 08:04        21.0          CRM form    NaN   \n",
       "7421  28-04-2018 07:54        25.0           Website    NaN   \n",
       "\n",
       "                   EMAIL     Sales_Agent         Location Delivery_Mode  \\\n",
       "7417  aXXXXXXX@gmail.com   Sales-Agent-6           Mumbai        Mode-4   \n",
       "7418             #VALUE!  Sales-Agent-12  Other Locations        Mode-5   \n",
       "7419  sXXXXXXX@gmail.com  Sales-Agent-11        Bangalore        Mode-1   \n",
       "7420  YXXXXXXX@gmail.com   Sales-Agent-4  Other Locations        Mode-1   \n",
       "7421  cXXXXXXX@gmail.com   Sales-Agent-3          Chennai        Mode-1   \n",
       "\n",
       "              Status  \n",
       "7417            LOST  \n",
       "7418            LOST  \n",
       "7419  Not Responding  \n",
       "7420    Just Enquiry  \n",
       "7421       CONVERTED  "
      ]
     },
     "execution_count": 6,
     "metadata": {},
     "output_type": "execute_result"
    }
   ],
   "source": [
    "data.tail()"
   ]
  },
  {
   "cell_type": "code",
   "execution_count": 7,
   "id": "26e555ea",
   "metadata": {},
   "outputs": [
    {
     "data": {
      "text/plain": [
       "Index(['Created', 'Product_ID', 'Source', 'Mobile', 'EMAIL', 'Sales_Agent',\n",
       "       'Location', 'Delivery_Mode', 'Status'],\n",
       "      dtype='object')"
      ]
     },
     "execution_count": 7,
     "metadata": {},
     "output_type": "execute_result"
    }
   ],
   "source": [
    "data.columns"
   ]
  },
  {
   "cell_type": "code",
   "execution_count": 8,
   "id": "d9888ff8",
   "metadata": {},
   "outputs": [
    {
     "data": {
      "text/plain": [
       "Call                             2547\n",
       "Live Chat-Direct                 1834\n",
       "Website                          1594\n",
       "Live Chat-Google Organic          274\n",
       "Live Chat -PPC                    249\n",
       "Live Chat-Blog                    237\n",
       "Customer Referral                 180\n",
       "US Website                        137\n",
       "Just Dial                          56\n",
       "Existing Client                    51\n",
       "Personal Contact                   50\n",
       "Live Chat-CPC                      50\n",
       "By Recommendation                  32\n",
       "CRM form                           23\n",
       "Existing Customer                  22\n",
       "Live Chat-Google Ads               21\n",
       "Campaign                           19\n",
       "E-mail Campaign                    12\n",
       "Live Chat-Adwords Remarketing       7\n",
       "Live Chat-Quora                     2\n",
       "Other                               2\n",
       "SMS Campaign                        2\n",
       "Live Chat-Youtube                   2\n",
       "E-Mail Message                      1\n",
       "Live Chat-Justdial                  1\n",
       "Name: Source, dtype: int64"
      ]
     },
     "execution_count": 8,
     "metadata": {},
     "output_type": "execute_result"
    }
   ],
   "source": [
    "data.Source.value_counts()"
   ]
  },
  {
   "cell_type": "code",
   "execution_count": 9,
   "id": "fa2bf919",
   "metadata": {
    "scrolled": true
   },
   "outputs": [
    {
     "data": {
      "text/plain": [
       "Other Locations    2500\n",
       "Bangalore          2084\n",
       "Chennai             909\n",
       "Hyderabad           528\n",
       "Delhi               471\n",
       "Mumbai              402\n",
       "Pune                142\n",
       "UAE                  79\n",
       "Trivandrum           58\n",
       "Kolkata              55\n",
       "USA                  45\n",
       "UK                   41\n",
       "AUSTRALIA            25\n",
       "Singapore            17\n",
       "Malaysia              4\n",
       "EUROPE                3\n",
       "Howrah                1\n",
       "Name: Location, dtype: int64"
      ]
     },
     "execution_count": 9,
     "metadata": {},
     "output_type": "execute_result"
    }
   ],
   "source": [
    "data.Location.value_counts()"
   ]
  },
  {
   "cell_type": "markdown",
   "id": "d5ffc40c",
   "metadata": {},
   "source": [
    "# Domain Analysis"
   ]
  },
  {
   "cell_type": "markdown",
   "id": "98d7284b",
   "metadata": {},
   "source": [
    "let's perform domain analysis on each of the features in our dataset to gain a better understanding of their significance and potential relevance to the project:\n",
    "\n",
    "1. **Created**:\n",
    "   - Domain Analysis: This represents the date when a lead or opportunity was created.\n",
    "   - Significance: The timestamp can be valuable for time-based analysis, understanding seasonality, and measuring the effectiveness of lead generation efforts over time.\n",
    "\n",
    "2. **Product_ID**:\n",
    "   - Domain Analysis: It represents the product or service associated with the lead.\n",
    "   - Significance: The type of product or service might impact lead quality, as some products may have higher demand or appeal to specific customer segments.\n",
    "\n",
    "3. **Source**:\n",
    "   - Domain Analysis: This feature indicates the source through which leads were acquired (e.g., website, Call, Live Chat-Direct).\n",
    "   - Significance: Knowing the lead source can help assess the effectiveness of different marketing channels and campaigns in generating high-quality leads.\n",
    "\n",
    "4. **Mobile**:\n",
    "   - Domain Analysis: the lead provided a mobile number.\n",
    "   - Significance: Mobile number availability could be related to lead quality and the ability to contact and convert leads.\n",
    "\n",
    "5. **EMAIL**:\n",
    "   - Domain Analysis: lead provided an email address.\n",
    "   - Significance: Similar to mobile, email availability is crucial for communication and lead conversion.\n",
    "\n",
    "6. **Sales_Agent**:\n",
    "   - Domain Analysis: Represents the sales agent responsible for the lead.\n",
    "   - Significance: The effectiveness of different sales agents in converting leads can be assessed, helping optimize the sales team's performance.\n",
    "\n",
    "7. **Location**:\n",
    "   - Domain Analysis: Indicates the geographical location associated with the lead.\n",
    "   - Significance: Location data may be important for understanding regional variations in lead quality and sales performance.\n",
    "\n",
    "8. **Delivery_Mode**:\n",
    "   - Domain Analysis: Describes the mode of product/service delivery.\n",
    "   - Significance: This could be relevant for assessing lead quality, as some delivery modes might be preferred by specific customer segments.\n",
    "\n",
    "9. **Status**:\n",
    "   - Domain Analysis: Represents the current status of the lead or opportunity.\n",
    "   - Significance: Lead status is crucial for evaluating the success of sales efforts and conversion rates."
   ]
  },
  {
   "cell_type": "code",
   "execution_count": 10,
   "id": "673c1d57",
   "metadata": {
    "scrolled": true
   },
   "outputs": [
    {
     "data": {
      "text/plain": [
       "Sales-Agent-4     1500\n",
       "Sales-Agent-11    1420\n",
       "Sales-Agent-5     1190\n",
       "Sales-Agent-9      879\n",
       "Sales-Agent-3      781\n",
       "Sales-Agent-7      736\n",
       "Sales-Agent-2      389\n",
       "Sales-Agent-12     269\n",
       "Sales-Agent-6      114\n",
       "Sales-Agent-8       68\n",
       "Sales-Agent-10      49\n",
       "Sales-Agent-1        4\n",
       "Name: Sales_Agent, dtype: int64"
      ]
     },
     "execution_count": 10,
     "metadata": {},
     "output_type": "execute_result"
    }
   ],
   "source": [
    "data.Sales_Agent.value_counts()"
   ]
  },
  {
   "cell_type": "code",
   "execution_count": 11,
   "id": "2a64693e",
   "metadata": {
    "scrolled": true
   },
   "outputs": [
    {
     "data": {
      "text/plain": [
       "Junk Lead               1536\n",
       "Not Responding          1129\n",
       "CONVERTED                834\n",
       "Just Enquiry             760\n",
       "Potential                708\n",
       "Long Term                646\n",
       "In Progress Positive     643\n",
       "In Progress Negative     626\n",
       "LOST                     440\n",
       "Open                      82\n",
       "converted                 18\n",
       "Name: Status, dtype: int64"
      ]
     },
     "execution_count": 11,
     "metadata": {},
     "output_type": "execute_result"
    }
   ],
   "source": [
    "data['Status'].value_counts()"
   ]
  },
  {
   "cell_type": "code",
   "execution_count": 12,
   "id": "48f86179",
   "metadata": {},
   "outputs": [
    {
     "data": {
      "text/plain": [
       "Mode-5    2975\n",
       "Mode-1    2627\n",
       "Mode-3    1688\n",
       "Mode-4     121\n",
       "Mode-2      11\n",
       "Name: Delivery_Mode, dtype: int64"
      ]
     },
     "execution_count": 12,
     "metadata": {},
     "output_type": "execute_result"
    }
   ],
   "source": [
    "data.Delivery_Mode.value_counts()"
   ]
  },
  {
   "cell_type": "markdown",
   "id": "e0dfb341",
   "metadata": {},
   "source": [
    "# Exploratory data Analysis"
   ]
  },
  {
   "cell_type": "code",
   "execution_count": 13,
   "id": "d5c19173",
   "metadata": {},
   "outputs": [
    {
     "name": "stdout",
     "output_type": "stream",
     "text": [
      "<class 'pandas.core.frame.DataFrame'>\n",
      "RangeIndex: 7422 entries, 0 to 7421\n",
      "Data columns (total 9 columns):\n",
      " #   Column         Non-Null Count  Dtype  \n",
      "---  ------         --------------  -----  \n",
      " 0   Created        7422 non-null   object \n",
      " 1   Product_ID     7364 non-null   float64\n",
      " 2   Source         7405 non-null   object \n",
      " 3   Mobile         5612 non-null   object \n",
      " 4   EMAIL          7422 non-null   object \n",
      " 5   Sales_Agent    7399 non-null   object \n",
      " 6   Location       7364 non-null   object \n",
      " 7   Delivery_Mode  7422 non-null   object \n",
      " 8   Status         7422 non-null   object \n",
      "dtypes: float64(1), object(8)\n",
      "memory usage: 522.0+ KB\n"
     ]
    }
   ],
   "source": [
    "data.info()"
   ]
  },
  {
   "cell_type": "code",
   "execution_count": 14,
   "id": "1cec96b8",
   "metadata": {},
   "outputs": [
    {
     "data": {
      "text/html": [
       "<div>\n",
       "<style scoped>\n",
       "    .dataframe tbody tr th:only-of-type {\n",
       "        vertical-align: middle;\n",
       "    }\n",
       "\n",
       "    .dataframe tbody tr th {\n",
       "        vertical-align: top;\n",
       "    }\n",
       "\n",
       "    .dataframe thead th {\n",
       "        text-align: right;\n",
       "    }\n",
       "</style>\n",
       "<table border=\"1\" class=\"dataframe\">\n",
       "  <thead>\n",
       "    <tr style=\"text-align: right;\">\n",
       "      <th></th>\n",
       "      <th>Product_ID</th>\n",
       "    </tr>\n",
       "  </thead>\n",
       "  <tbody>\n",
       "    <tr>\n",
       "      <th>count</th>\n",
       "      <td>7364.000000</td>\n",
       "    </tr>\n",
       "    <tr>\n",
       "      <th>mean</th>\n",
       "      <td>15.947311</td>\n",
       "    </tr>\n",
       "    <tr>\n",
       "      <th>std</th>\n",
       "      <td>6.072937</td>\n",
       "    </tr>\n",
       "    <tr>\n",
       "      <th>min</th>\n",
       "      <td>0.000000</td>\n",
       "    </tr>\n",
       "    <tr>\n",
       "      <th>25%</th>\n",
       "      <td>12.000000</td>\n",
       "    </tr>\n",
       "    <tr>\n",
       "      <th>50%</th>\n",
       "      <td>18.000000</td>\n",
       "    </tr>\n",
       "    <tr>\n",
       "      <th>75%</th>\n",
       "      <td>19.000000</td>\n",
       "    </tr>\n",
       "    <tr>\n",
       "      <th>max</th>\n",
       "      <td>28.000000</td>\n",
       "    </tr>\n",
       "  </tbody>\n",
       "</table>\n",
       "</div>"
      ],
      "text/plain": [
       "        Product_ID\n",
       "count  7364.000000\n",
       "mean     15.947311\n",
       "std       6.072937\n",
       "min       0.000000\n",
       "25%      12.000000\n",
       "50%      18.000000\n",
       "75%      19.000000\n",
       "max      28.000000"
      ]
     },
     "execution_count": 14,
     "metadata": {},
     "output_type": "execute_result"
    }
   ],
   "source": [
    "data.describe()"
   ]
  },
  {
   "cell_type": "code",
   "execution_count": 15,
   "id": "e127e4e9",
   "metadata": {},
   "outputs": [
    {
     "data": {
      "text/html": [
       "<div>\n",
       "<style scoped>\n",
       "    .dataframe tbody tr th:only-of-type {\n",
       "        vertical-align: middle;\n",
       "    }\n",
       "\n",
       "    .dataframe tbody tr th {\n",
       "        vertical-align: top;\n",
       "    }\n",
       "\n",
       "    .dataframe thead th {\n",
       "        text-align: right;\n",
       "    }\n",
       "</style>\n",
       "<table border=\"1\" class=\"dataframe\">\n",
       "  <thead>\n",
       "    <tr style=\"text-align: right;\">\n",
       "      <th></th>\n",
       "      <th>Created</th>\n",
       "      <th>Source</th>\n",
       "      <th>Mobile</th>\n",
       "      <th>EMAIL</th>\n",
       "      <th>Sales_Agent</th>\n",
       "      <th>Location</th>\n",
       "      <th>Delivery_Mode</th>\n",
       "      <th>Status</th>\n",
       "    </tr>\n",
       "  </thead>\n",
       "  <tbody>\n",
       "    <tr>\n",
       "      <th>count</th>\n",
       "      <td>7422</td>\n",
       "      <td>7405</td>\n",
       "      <td>5612</td>\n",
       "      <td>7422</td>\n",
       "      <td>7399</td>\n",
       "      <td>7364</td>\n",
       "      <td>7422</td>\n",
       "      <td>7422</td>\n",
       "    </tr>\n",
       "    <tr>\n",
       "      <th>unique</th>\n",
       "      <td>6752</td>\n",
       "      <td>25</td>\n",
       "      <td>486</td>\n",
       "      <td>883</td>\n",
       "      <td>12</td>\n",
       "      <td>17</td>\n",
       "      <td>5</td>\n",
       "      <td>11</td>\n",
       "    </tr>\n",
       "    <tr>\n",
       "      <th>top</th>\n",
       "      <td>26-09-2018 11:30</td>\n",
       "      <td>Call</td>\n",
       "      <td>XXXXXXX</td>\n",
       "      <td>#VALUE!</td>\n",
       "      <td>Sales-Agent-4</td>\n",
       "      <td>Other Locations</td>\n",
       "      <td>Mode-5</td>\n",
       "      <td>Junk Lead</td>\n",
       "    </tr>\n",
       "    <tr>\n",
       "      <th>freq</th>\n",
       "      <td>4</td>\n",
       "      <td>2547</td>\n",
       "      <td>222</td>\n",
       "      <td>1701</td>\n",
       "      <td>1500</td>\n",
       "      <td>2500</td>\n",
       "      <td>2975</td>\n",
       "      <td>1536</td>\n",
       "    </tr>\n",
       "  </tbody>\n",
       "</table>\n",
       "</div>"
      ],
      "text/plain": [
       "                 Created Source   Mobile    EMAIL    Sales_Agent  \\\n",
       "count               7422   7405     5612     7422           7399   \n",
       "unique              6752     25      486      883             12   \n",
       "top     26-09-2018 11:30   Call  XXXXXXX  #VALUE!  Sales-Agent-4   \n",
       "freq                   4   2547      222     1701           1500   \n",
       "\n",
       "               Location Delivery_Mode     Status  \n",
       "count              7364          7422       7422  \n",
       "unique               17             5         11  \n",
       "top     Other Locations        Mode-5  Junk Lead  \n",
       "freq               2500          2975       1536  "
      ]
     },
     "execution_count": 15,
     "metadata": {},
     "output_type": "execute_result"
    }
   ],
   "source": [
    "data.describe(include = 'O')"
   ]
  },
  {
   "cell_type": "markdown",
   "id": "65b18b41",
   "metadata": {},
   "source": [
    "### Univariate Analysis"
   ]
  },
  {
   "cell_type": "code",
   "execution_count": 16,
   "id": "dceb5155",
   "metadata": {},
   "outputs": [
    {
     "data": {
      "image/png": "[encoded data removed]",
      "text/plain": [
       "<Figure size 1440x1800 with 9 Axes>"
      ]
     },
     "metadata": {
      "needs_background": "light"
     },
     "output_type": "display_data"
    }
   ],
   "source": [
    "plt.figure(figsize = (20,25))\n",
    "plotnumber = 1\n",
    "for column in data:\n",
    "    ax = plt.subplot(3,3,plotnumber)\n",
    "    sns.histplot(data[column], kde = True )\n",
    "    plt.title(column)\n",
    "    plotnumber += 1\n",
    "plt.tight_layout()\n",
    "plt.show()"
   ]
  },
  {
   "cell_type": "markdown",
   "id": "313c9dfa",
   "metadata": {},
   "source": [
    "**Insights from Univariate Analysis**\n",
    "\n",
    "Not all the data follows a normal distribution.\n",
    "\n",
    "**Product_ID:** in this feature Product_ID number 18.0 have the highest number of records, Product_ID number 15.0 have second highest number of records and Product_ID number 19.0 have third highest number records and so on.\n",
    "\n",
    "**Source:** Maximum number of leads we got from call, second highest number of leads we got from Live chat-direct and third is from website and so on.\n",
    "\n",
    "**Sales_Agent:** Agent number 4 has the highest number of records, followed by agent number 11 in the second position, and agent number 5 in the third position. This suggests that Agent 4 has the most extensive set of records, Agent 11 has the second-highest, and Agent 5 comes in third, with a gradually decreasing number of records for other agents as you move down the list.\n",
    "\n",
    "**Location:** other Locations have the maximum number of records that is 2500 records having other locations, second is Bangalore and third is Chennai and so on.\n",
    "\n",
    "**Delivary_Mode:** There are 5 types of delivery modes are there, fifth one is having the highest number of records, second is second type of delivary_mode and second one is having very less number of records \n",
    "\n",
    "**Status:** Maximum number of leads we get is Junk Lead whose count is 1536 number of records, Second is like Not Responding and so on."
   ]
  },
  {
   "cell_type": "markdown",
   "id": "ad22ca53",
   "metadata": {},
   "source": [
    "## Bivariate Analysis"
   ]
  },
  {
   "cell_type": "code",
   "execution_count": 17,
   "id": "fc098452",
   "metadata": {},
   "outputs": [
    {
     "data": {
      "image/png": "[encoded data removed]",
      "text/plain": [
       "<Figure size 1008x576 with 2 Axes>"
      ]
     },
     "metadata": {
      "needs_background": "light"
     },
     "output_type": "display_data"
    }
   ],
   "source": [
    "# Create the heatmap\n",
    "plt.figure(figsize=(14, 8))\n",
    "bivariate_table = pd.crosstab(data['Sales_Agent'], data['Status'])\n",
    "sns.heatmap(bivariate_table, annot=True, cmap='YlGnBu',fmt = 'd')\n",
    "plt.title('Relationship Between Sales_Agent and Status')\n",
    "plt.show()"
   ]
  },
  {
   "cell_type": "markdown",
   "id": "6cedee83",
   "metadata": {},
   "source": [
    "**Insights**\n",
    "\n",
    "1. **Top Performers**: Most of the sales and the highest number of records are associated with four agents: Agent-4, Agent-5, Agent-11, and Agent-9. These agents have excelled based on this data.\n",
    "\n",
    "\n",
    "2. **Moderate Performers**: Agents Agent-12, Agent-2, Agent-3, and Agent-7 fall into this category. Among them, Agent-3 has performed relatively better compared to the other three in this group.\n",
    "\n",
    "\n",
    "3. **Below-Average Performers**: Agents Agent-6 and Agent-8 are considered below-average performers. Agent-6 is slightly better than Agent-8 in this regard.\n",
    "\n",
    "\n",
    "4. **Low Activity**: Agents 1 and 10 appear to have low or insignificant activity or performance."
   ]
  },
  {
   "cell_type": "code",
   "execution_count": 18,
   "id": "e5351319",
   "metadata": {},
   "outputs": [
    {
     "data": {
      "image/png": "[encoded data removed]",
      "text/plain": [
       "<Figure size 1080x720 with 2 Axes>"
      ]
     },
     "metadata": {
      "needs_background": "light"
     },
     "output_type": "display_data"
    }
   ],
   "source": [
    "plt.figure(figsize =(15,10))\n",
    "bivariate_table = pd.crosstab(data['Source'], data['Status'])\n",
    "sns.heatmap(bivariate_table, annot=True, cmap='YlGnBu',fmt='d')\n",
    "plt.title('Relationship Between Source and Status')\n",
    "plt.show()"
   ]
  },
  {
   "cell_type": "markdown",
   "id": "de0a59f1",
   "metadata": {},
   "source": [
    "**Insights**\n",
    "\n",
    "\n",
    "1. **Major Lead Sources**: The majority of leads come from only three sources: Website, Live Chat-Direct, and Call.\n",
    "\n",
    "\n",
    "2. **Effective Source**: The data suggests that 'Customer Referral' is a potent source for generating positive leads. This is evident because most of the records are associated with positive leads or reports in progress, and there are very few records related to negative leads.\n",
    "\n",
    "\n",
    "3. **Moderate Sources**: Several sources fall into the moderate category, including 'Live Chat-Google Organic,' 'Live Chat -PPC,' 'Live Chat-Blog,' 'Existing Client,' 'Existing Customer,' and 'Personal Contact.'\n",
    "\n",
    "\n",
    "4. **Positive Leads from Recommendations**: 'By Recommendation' is another source that consistently provides good positive leads.\n",
    "\n",
    "\n",
    "5. **Limited Response from 'US Website'**: Although 'US Website' doesn't yield positive leads currently, it does generate some response. There's potential for positive leads in the future.\n",
    "\n",
    "\n",
    "6. **Ineffective Sources**: Sources like 'Live Chat-Justdial,' 'SMS Campaign,' 'E-Mail Message,' 'Live Chat-Quora,' 'Other,' 'Live Chat-Youtube,' and 'Live Chat-Adwords Remarketing' do not appear to be significant for obtaining positive leads. Investing in these sources for positive leads seems unproductive or useless."
   ]
  },
  {
   "cell_type": "code",
   "execution_count": 19,
   "id": "75c24a74",
   "metadata": {},
   "outputs": [
    {
     "data": {
      "image/png": "[encoded data removed]",
      "text/plain": [
       "<Figure size 1008x576 with 2 Axes>"
      ]
     },
     "metadata": {
      "needs_background": "light"
     },
     "output_type": "display_data"
    }
   ],
   "source": [
    "plt.figure(figsize =(14,8))\n",
    "bivariate_table = pd.crosstab(data['Location'], data['Status'])\n",
    "sns.heatmap(bivariate_table, annot=True, cmap='YlGnBu',fmt='d')\n",
    "plt.title('Relationship Between Location and Status')\n",
    "plt.show()"
   ]
  },
  {
   "cell_type": "markdown",
   "id": "d30e4cdc",
   "metadata": {},
   "source": [
    "**Insights**\n",
    "\n",
    "\n",
    "1. **Most Records Concentrated**: The majority of records are linked to only four locations: 'Bangalore,' 'Other Locations,' 'Chennai,' and 'Hyderabad.' Notably, 'Bangalore' stands out as the source of the highest number of positive leads.\n",
    "\n",
    "\n",
    "2. **Moderate Locations**: Locations such as 'Delhi,' 'Mumbai,' 'Pune,' and 'UAE' fall into the moderate category. These locations also have a moderate number of positive leads.\n",
    "\n",
    "\n",
    "3. **Promising Locations**: Locations like 'UK,' 'USA,' 'Australia,' and 'Malaysia' show promising results with a significant number of positive leads and relatively fewer negative leads.\n",
    "\n",
    "\n",
    "4. From Europe and Howrah there is no response or we can say very very less number of records are related to those Locations"
   ]
  },
  {
   "cell_type": "code",
   "execution_count": 20,
   "id": "d6a9258d",
   "metadata": {},
   "outputs": [
    {
     "data": {
      "image/png": "[encoded data removed]",
      "text/plain": [
       "<Figure size 1080x720 with 2 Axes>"
      ]
     },
     "metadata": {
      "needs_background": "light"
     },
     "output_type": "display_data"
    }
   ],
   "source": [
    "plt.figure(figsize =(15,10))\n",
    "bivariate_table = pd.crosstab(data['Product_ID'], data['Status'])\n",
    "sns.heatmap(bivariate_table, annot=True, cmap='YlGnBu',fmt='d')\n",
    "plt.title('Relationship Between Product_ID and Status')\n",
    "plt.show()"
   ]
  },
  {
   "cell_type": "markdown",
   "id": "3f633872",
   "metadata": {},
   "source": [
    "**Insights**\n",
    "1. Product IDs 18 and 19 have not only generated the highest sales but also account for the largest share of entries in this dataset.\n",
    "\n",
    "2. With the exception of Product IDs 5, 9, 18, 19, 20, and 27, the remaining products appear to have limited significance, largely consisting of low-potential leads and unrelated data.\n",
    "\n",
    "3. Notably, Product ID 15 has received the highest number of junk leads among all the products."
   ]
  },
  {
   "cell_type": "markdown",
   "id": "de374a74",
   "metadata": {},
   "source": [
    "## Data Pre Processing"
   ]
  },
  {
   "cell_type": "code",
   "execution_count": 21,
   "id": "28e382d5",
   "metadata": {},
   "outputs": [
    {
     "data": {
      "text/html": [
       "<div>\n",
       "<style scoped>\n",
       "    .dataframe tbody tr th:only-of-type {\n",
       "        vertical-align: middle;\n",
       "    }\n",
       "\n",
       "    .dataframe tbody tr th {\n",
       "        vertical-align: top;\n",
       "    }\n",
       "\n",
       "    .dataframe thead th {\n",
       "        text-align: right;\n",
       "    }\n",
       "</style>\n",
       "<table border=\"1\" class=\"dataframe\">\n",
       "  <thead>\n",
       "    <tr style=\"text-align: right;\">\n",
       "      <th></th>\n",
       "      <th>Created</th>\n",
       "      <th>Product_ID</th>\n",
       "      <th>Source</th>\n",
       "      <th>Mobile</th>\n",
       "      <th>EMAIL</th>\n",
       "      <th>Sales_Agent</th>\n",
       "      <th>Location</th>\n",
       "      <th>Delivery_Mode</th>\n",
       "      <th>Status</th>\n",
       "    </tr>\n",
       "  </thead>\n",
       "  <tbody>\n",
       "    <tr>\n",
       "      <th>0</th>\n",
       "      <td>14-11-2018 10:05</td>\n",
       "      <td>NaN</td>\n",
       "      <td>Website</td>\n",
       "      <td>984XXXXXXX</td>\n",
       "      <td>aXXXXXXX@gmail.com</td>\n",
       "      <td>Sales-Agent-11</td>\n",
       "      <td>NaN</td>\n",
       "      <td>Mode-5</td>\n",
       "      <td>Open</td>\n",
       "    </tr>\n",
       "    <tr>\n",
       "      <th>1</th>\n",
       "      <td>14-11-2018 09:22</td>\n",
       "      <td>NaN</td>\n",
       "      <td>Website</td>\n",
       "      <td>XXXXXXX</td>\n",
       "      <td>#VALUE!</td>\n",
       "      <td>Sales-Agent-10</td>\n",
       "      <td>NaN</td>\n",
       "      <td>Mode-5</td>\n",
       "      <td>Open</td>\n",
       "    </tr>\n",
       "    <tr>\n",
       "      <th>2</th>\n",
       "      <td>14-11-2018 09:21</td>\n",
       "      <td>NaN</td>\n",
       "      <td>Website</td>\n",
       "      <td>XXXXXXX</td>\n",
       "      <td>dXXXXXXX@yahoo.com</td>\n",
       "      <td>Sales-Agent-10</td>\n",
       "      <td>NaN</td>\n",
       "      <td>Mode-5</td>\n",
       "      <td>Open</td>\n",
       "    </tr>\n",
       "    <tr>\n",
       "      <th>3</th>\n",
       "      <td>14-11-2018 08:46</td>\n",
       "      <td>NaN</td>\n",
       "      <td>Website</td>\n",
       "      <td>XXXXXXX</td>\n",
       "      <td>wXXXXXXX@gmail.com</td>\n",
       "      <td>Sales-Agent-10</td>\n",
       "      <td>NaN</td>\n",
       "      <td>Mode-5</td>\n",
       "      <td>Open</td>\n",
       "    </tr>\n",
       "    <tr>\n",
       "      <th>4</th>\n",
       "      <td>14-11-2018 07:34</td>\n",
       "      <td>NaN</td>\n",
       "      <td>Website</td>\n",
       "      <td>XXXXXXX</td>\n",
       "      <td>cXXXXXXX@gmail.com</td>\n",
       "      <td>Sales-Agent-10</td>\n",
       "      <td>NaN</td>\n",
       "      <td>Mode-5</td>\n",
       "      <td>Open</td>\n",
       "    </tr>\n",
       "  </tbody>\n",
       "</table>\n",
       "</div>"
      ],
      "text/plain": [
       "            Created  Product_ID   Source      Mobile               EMAIL  \\\n",
       "0  14-11-2018 10:05         NaN  Website  984XXXXXXX  aXXXXXXX@gmail.com   \n",
       "1  14-11-2018 09:22         NaN  Website     XXXXXXX             #VALUE!   \n",
       "2  14-11-2018 09:21         NaN  Website     XXXXXXX  dXXXXXXX@yahoo.com   \n",
       "3  14-11-2018 08:46         NaN  Website     XXXXXXX  wXXXXXXX@gmail.com   \n",
       "4  14-11-2018 07:34         NaN  Website     XXXXXXX  cXXXXXXX@gmail.com   \n",
       "\n",
       "      Sales_Agent Location Delivery_Mode Status  \n",
       "0  Sales-Agent-11      NaN        Mode-5   Open  \n",
       "1  Sales-Agent-10      NaN        Mode-5   Open  \n",
       "2  Sales-Agent-10      NaN        Mode-5   Open  \n",
       "3  Sales-Agent-10      NaN        Mode-5   Open  \n",
       "4  Sales-Agent-10      NaN        Mode-5   Open  "
      ]
     },
     "execution_count": 21,
     "metadata": {},
     "output_type": "execute_result"
    }
   ],
   "source": [
    "data.head()"
   ]
  },
  {
   "cell_type": "code",
   "execution_count": 22,
   "id": "7fc92576",
   "metadata": {},
   "outputs": [
    {
     "data": {
      "text/html": [
       "<div>\n",
       "<style scoped>\n",
       "    .dataframe tbody tr th:only-of-type {\n",
       "        vertical-align: middle;\n",
       "    }\n",
       "\n",
       "    .dataframe tbody tr th {\n",
       "        vertical-align: top;\n",
       "    }\n",
       "\n",
       "    .dataframe thead th {\n",
       "        text-align: right;\n",
       "    }\n",
       "</style>\n",
       "<table border=\"1\" class=\"dataframe\">\n",
       "  <thead>\n",
       "    <tr style=\"text-align: right;\">\n",
       "      <th></th>\n",
       "      <th>Created</th>\n",
       "      <th>Product_ID</th>\n",
       "      <th>Source</th>\n",
       "      <th>Mobile</th>\n",
       "      <th>EMAIL</th>\n",
       "      <th>Sales_Agent</th>\n",
       "      <th>Location</th>\n",
       "      <th>Delivery_Mode</th>\n",
       "      <th>Status</th>\n",
       "    </tr>\n",
       "  </thead>\n",
       "  <tbody>\n",
       "    <tr>\n",
       "      <th>7417</th>\n",
       "      <td>28-04-2018 09:45</td>\n",
       "      <td>9.0</td>\n",
       "      <td>Call</td>\n",
       "      <td>NaN</td>\n",
       "      <td>aXXXXXXX@gmail.com</td>\n",
       "      <td>Sales-Agent-6</td>\n",
       "      <td>Mumbai</td>\n",
       "      <td>Mode-4</td>\n",
       "      <td>LOST</td>\n",
       "    </tr>\n",
       "    <tr>\n",
       "      <th>7418</th>\n",
       "      <td>28-04-2018 09:43</td>\n",
       "      <td>15.0</td>\n",
       "      <td>Call</td>\n",
       "      <td>NaN</td>\n",
       "      <td>#VALUE!</td>\n",
       "      <td>Sales-Agent-12</td>\n",
       "      <td>Other Locations</td>\n",
       "      <td>Mode-5</td>\n",
       "      <td>LOST</td>\n",
       "    </tr>\n",
       "    <tr>\n",
       "      <th>7419</th>\n",
       "      <td>28-04-2018 09:20</td>\n",
       "      <td>5.0</td>\n",
       "      <td>Live Chat-Direct</td>\n",
       "      <td>NaN</td>\n",
       "      <td>sXXXXXXX@gmail.com</td>\n",
       "      <td>Sales-Agent-11</td>\n",
       "      <td>Bangalore</td>\n",
       "      <td>Mode-1</td>\n",
       "      <td>Not Responding</td>\n",
       "    </tr>\n",
       "    <tr>\n",
       "      <th>7420</th>\n",
       "      <td>28-04-2018 08:04</td>\n",
       "      <td>21.0</td>\n",
       "      <td>CRM form</td>\n",
       "      <td>NaN</td>\n",
       "      <td>YXXXXXXX@gmail.com</td>\n",
       "      <td>Sales-Agent-4</td>\n",
       "      <td>Other Locations</td>\n",
       "      <td>Mode-1</td>\n",
       "      <td>Just Enquiry</td>\n",
       "    </tr>\n",
       "    <tr>\n",
       "      <th>7421</th>\n",
       "      <td>28-04-2018 07:54</td>\n",
       "      <td>25.0</td>\n",
       "      <td>Website</td>\n",
       "      <td>NaN</td>\n",
       "      <td>cXXXXXXX@gmail.com</td>\n",
       "      <td>Sales-Agent-3</td>\n",
       "      <td>Chennai</td>\n",
       "      <td>Mode-1</td>\n",
       "      <td>CONVERTED</td>\n",
       "    </tr>\n",
       "  </tbody>\n",
       "</table>\n",
       "</div>"
      ],
      "text/plain": [
       "               Created  Product_ID            Source Mobile  \\\n",
       "7417  28-04-2018 09:45         9.0              Call    NaN   \n",
       "7418  28-04-2018 09:43        15.0              Call    NaN   \n",
       "7419  28-04-2018 09:20         5.0  Live Chat-Direct    NaN   \n",
       "7420  28-04-2018 08:04        21.0          CRM form    NaN   \n",
       "7421  28-04-2018 07:54        25.0           Website    NaN   \n",
       "\n",
       "                   EMAIL     Sales_Agent         Location Delivery_Mode  \\\n",
       "7417  aXXXXXXX@gmail.com   Sales-Agent-6           Mumbai        Mode-4   \n",
       "7418             #VALUE!  Sales-Agent-12  Other Locations        Mode-5   \n",
       "7419  sXXXXXXX@gmail.com  Sales-Agent-11        Bangalore        Mode-1   \n",
       "7420  YXXXXXXX@gmail.com   Sales-Agent-4  Other Locations        Mode-1   \n",
       "7421  cXXXXXXX@gmail.com   Sales-Agent-3          Chennai        Mode-1   \n",
       "\n",
       "              Status  \n",
       "7417            LOST  \n",
       "7418            LOST  \n",
       "7419  Not Responding  \n",
       "7420    Just Enquiry  \n",
       "7421       CONVERTED  "
      ]
     },
     "execution_count": 22,
     "metadata": {},
     "output_type": "execute_result"
    }
   ],
   "source": [
    "data.tail()"
   ]
  },
  {
   "cell_type": "code",
   "execution_count": 23,
   "id": "a662b602",
   "metadata": {},
   "outputs": [
    {
     "name": "stdout",
     "output_type": "stream",
     "text": [
      "<class 'pandas.core.frame.DataFrame'>\n",
      "RangeIndex: 7422 entries, 0 to 7421\n",
      "Data columns (total 9 columns):\n",
      " #   Column         Non-Null Count  Dtype  \n",
      "---  ------         --------------  -----  \n",
      " 0   Created        7422 non-null   object \n",
      " 1   Product_ID     7364 non-null   float64\n",
      " 2   Source         7405 non-null   object \n",
      " 3   Mobile         5612 non-null   object \n",
      " 4   EMAIL          7422 non-null   object \n",
      " 5   Sales_Agent    7399 non-null   object \n",
      " 6   Location       7364 non-null   object \n",
      " 7   Delivery_Mode  7422 non-null   object \n",
      " 8   Status         7422 non-null   object \n",
      "dtypes: float64(1), object(8)\n",
      "memory usage: 522.0+ KB\n"
     ]
    }
   ],
   "source": [
    "data.info()"
   ]
  },
  {
   "cell_type": "code",
   "execution_count": 24,
   "id": "5681c934",
   "metadata": {},
   "outputs": [
    {
     "data": {
      "text/plain": [
       "Mode-5    2975\n",
       "Mode-1    2627\n",
       "Mode-3    1688\n",
       "Mode-4     121\n",
       "Mode-2      11\n",
       "Name: Delivery_Mode, dtype: int64"
      ]
     },
     "execution_count": 24,
     "metadata": {},
     "output_type": "execute_result"
    }
   ],
   "source": [
    "data.Delivery_Mode.value_counts()"
   ]
  },
  {
   "cell_type": "code",
   "execution_count": 25,
   "id": "64b8681f",
   "metadata": {},
   "outputs": [
    {
     "data": {
      "text/plain": [
       "Junk Lead               1536\n",
       "Not Responding          1129\n",
       "CONVERTED                834\n",
       "Just Enquiry             760\n",
       "Potential                708\n",
       "Long Term                646\n",
       "In Progress Positive     643\n",
       "In Progress Negative     626\n",
       "LOST                     440\n",
       "Open                      82\n",
       "converted                 18\n",
       "Name: Status, dtype: int64"
      ]
     },
     "execution_count": 25,
     "metadata": {},
     "output_type": "execute_result"
    }
   ],
   "source": [
    "data.Status.value_counts()"
   ]
  },
  {
   "cell_type": "code",
   "execution_count": 26,
   "id": "328e750f",
   "metadata": {},
   "outputs": [
    {
     "data": {
      "text/plain": [
       "2"
      ]
     },
     "execution_count": 26,
     "metadata": {},
     "output_type": "execute_result"
    }
   ],
   "source": [
    "data.duplicated().sum()"
   ]
  },
  {
   "cell_type": "markdown",
   "id": "890e7ec1",
   "metadata": {},
   "source": [
    "There are 2 duplicate records are present in this dataset"
   ]
  },
  {
   "cell_type": "code",
   "execution_count": 27,
   "id": "06ab44e9",
   "metadata": {},
   "outputs": [],
   "source": [
    "# Dropping Duplicate records\n",
    "data.drop_duplicates(inplace=True)"
   ]
  },
  {
   "cell_type": "code",
   "execution_count": 28,
   "id": "421555e4",
   "metadata": {},
   "outputs": [
    {
     "data": {
      "text/plain": [
       "0"
      ]
     },
     "execution_count": 28,
     "metadata": {},
     "output_type": "execute_result"
    }
   ],
   "source": [
    "data.duplicated().sum()"
   ]
  },
  {
   "cell_type": "code",
   "execution_count": 29,
   "id": "dda74a06",
   "metadata": {
    "scrolled": true
   },
   "outputs": [
    {
     "data": {
      "text/plain": [
       "Created             0\n",
       "Product_ID         56\n",
       "Source             17\n",
       "Mobile           1810\n",
       "EMAIL               0\n",
       "Sales_Agent        23\n",
       "Location           56\n",
       "Delivery_Mode       0\n",
       "Status              0\n",
       "dtype: int64"
      ]
     },
     "execution_count": 29,
     "metadata": {},
     "output_type": "execute_result"
    }
   ],
   "source": [
    "# Checking for null values\n",
    "data.isnull().sum()"
   ]
  },
  {
   "cell_type": "code",
   "execution_count": 30,
   "id": "f634da6a",
   "metadata": {},
   "outputs": [],
   "source": [
    "ax = data['Product_ID'].isnull()"
   ]
  },
  {
   "cell_type": "code",
   "execution_count": 31,
   "id": "ec554105",
   "metadata": {},
   "outputs": [
    {
     "data": {
      "text/plain": [
       "0        True\n",
       "1        True\n",
       "2        True\n",
       "3        True\n",
       "4        True\n",
       "        ...  \n",
       "7417    False\n",
       "7418    False\n",
       "7419    False\n",
       "7420    False\n",
       "7421    False\n",
       "Name: Product_ID, Length: 7420, dtype: bool"
      ]
     },
     "execution_count": 31,
     "metadata": {},
     "output_type": "execute_result"
    }
   ],
   "source": [
    "ax"
   ]
  },
  {
   "cell_type": "code",
   "execution_count": 32,
   "id": "c2afa2a7",
   "metadata": {},
   "outputs": [
    {
     "data": {
      "text/html": [
       "<div>\n",
       "<style scoped>\n",
       "    .dataframe tbody tr th:only-of-type {\n",
       "        vertical-align: middle;\n",
       "    }\n",
       "\n",
       "    .dataframe tbody tr th {\n",
       "        vertical-align: top;\n",
       "    }\n",
       "\n",
       "    .dataframe thead th {\n",
       "        text-align: right;\n",
       "    }\n",
       "</style>\n",
       "<table border=\"1\" class=\"dataframe\">\n",
       "  <thead>\n",
       "    <tr style=\"text-align: right;\">\n",
       "      <th></th>\n",
       "      <th>Created</th>\n",
       "      <th>Product_ID</th>\n",
       "      <th>Source</th>\n",
       "      <th>Mobile</th>\n",
       "      <th>EMAIL</th>\n",
       "      <th>Sales_Agent</th>\n",
       "      <th>Location</th>\n",
       "      <th>Delivery_Mode</th>\n",
       "      <th>Status</th>\n",
       "    </tr>\n",
       "  </thead>\n",
       "  <tbody>\n",
       "    <tr>\n",
       "      <th>0</th>\n",
       "      <td>14-11-2018 10:05</td>\n",
       "      <td>NaN</td>\n",
       "      <td>Website</td>\n",
       "      <td>984XXXXXXX</td>\n",
       "      <td>aXXXXXXX@gmail.com</td>\n",
       "      <td>Sales-Agent-11</td>\n",
       "      <td>NaN</td>\n",
       "      <td>Mode-5</td>\n",
       "      <td>Open</td>\n",
       "    </tr>\n",
       "    <tr>\n",
       "      <th>1</th>\n",
       "      <td>14-11-2018 09:22</td>\n",
       "      <td>NaN</td>\n",
       "      <td>Website</td>\n",
       "      <td>XXXXXXX</td>\n",
       "      <td>#VALUE!</td>\n",
       "      <td>Sales-Agent-10</td>\n",
       "      <td>NaN</td>\n",
       "      <td>Mode-5</td>\n",
       "      <td>Open</td>\n",
       "    </tr>\n",
       "    <tr>\n",
       "      <th>2</th>\n",
       "      <td>14-11-2018 09:21</td>\n",
       "      <td>NaN</td>\n",
       "      <td>Website</td>\n",
       "      <td>XXXXXXX</td>\n",
       "      <td>dXXXXXXX@yahoo.com</td>\n",
       "      <td>Sales-Agent-10</td>\n",
       "      <td>NaN</td>\n",
       "      <td>Mode-5</td>\n",
       "      <td>Open</td>\n",
       "    </tr>\n",
       "    <tr>\n",
       "      <th>3</th>\n",
       "      <td>14-11-2018 08:46</td>\n",
       "      <td>NaN</td>\n",
       "      <td>Website</td>\n",
       "      <td>XXXXXXX</td>\n",
       "      <td>wXXXXXXX@gmail.com</td>\n",
       "      <td>Sales-Agent-10</td>\n",
       "      <td>NaN</td>\n",
       "      <td>Mode-5</td>\n",
       "      <td>Open</td>\n",
       "    </tr>\n",
       "    <tr>\n",
       "      <th>4</th>\n",
       "      <td>14-11-2018 07:34</td>\n",
       "      <td>NaN</td>\n",
       "      <td>Website</td>\n",
       "      <td>XXXXXXX</td>\n",
       "      <td>cXXXXXXX@gmail.com</td>\n",
       "      <td>Sales-Agent-10</td>\n",
       "      <td>NaN</td>\n",
       "      <td>Mode-5</td>\n",
       "      <td>Open</td>\n",
       "    </tr>\n",
       "    <tr>\n",
       "      <th>5</th>\n",
       "      <td>14-11-2018 07:33</td>\n",
       "      <td>NaN</td>\n",
       "      <td>Website</td>\n",
       "      <td>XXXXXXX</td>\n",
       "      <td>rXXXXXXX@gmail.com</td>\n",
       "      <td>Sales-Agent-10</td>\n",
       "      <td>NaN</td>\n",
       "      <td>Mode-5</td>\n",
       "      <td>Open</td>\n",
       "    </tr>\n",
       "    <tr>\n",
       "      <th>6</th>\n",
       "      <td>14-11-2018 05:58</td>\n",
       "      <td>NaN</td>\n",
       "      <td>Website</td>\n",
       "      <td>XXXXXXX</td>\n",
       "      <td>aXXXXXXX@gmail.com</td>\n",
       "      <td>Sales-Agent-10</td>\n",
       "      <td>NaN</td>\n",
       "      <td>Mode-5</td>\n",
       "      <td>Open</td>\n",
       "    </tr>\n",
       "    <tr>\n",
       "      <th>7</th>\n",
       "      <td>14-11-2018 05:49</td>\n",
       "      <td>NaN</td>\n",
       "      <td>Website</td>\n",
       "      <td>XXXXXXX</td>\n",
       "      <td>rXXXXXXX@gmail.com</td>\n",
       "      <td>Sales-Agent-10</td>\n",
       "      <td>NaN</td>\n",
       "      <td>Mode-5</td>\n",
       "      <td>Open</td>\n",
       "    </tr>\n",
       "    <tr>\n",
       "      <th>8</th>\n",
       "      <td>14-11-2018 05:40</td>\n",
       "      <td>NaN</td>\n",
       "      <td>Website</td>\n",
       "      <td>078XXXXXXX</td>\n",
       "      <td>DXXXXXXXheblue.com</td>\n",
       "      <td>Sales-Agent-10</td>\n",
       "      <td>NaN</td>\n",
       "      <td>Mode-5</td>\n",
       "      <td>Open</td>\n",
       "    </tr>\n",
       "    <tr>\n",
       "      <th>9</th>\n",
       "      <td>14-11-2018 05:06</td>\n",
       "      <td>NaN</td>\n",
       "      <td>Website</td>\n",
       "      <td>XXXXXXX</td>\n",
       "      <td>jXXXXXXX@gmail.com</td>\n",
       "      <td>Sales-Agent-10</td>\n",
       "      <td>NaN</td>\n",
       "      <td>Mode-5</td>\n",
       "      <td>Open</td>\n",
       "    </tr>\n",
       "    <tr>\n",
       "      <th>10</th>\n",
       "      <td>14-11-2018 05:03</td>\n",
       "      <td>NaN</td>\n",
       "      <td>Website</td>\n",
       "      <td>XXXXXXX</td>\n",
       "      <td>dXXXXXXXt9@aol.com</td>\n",
       "      <td>Sales-Agent-10</td>\n",
       "      <td>NaN</td>\n",
       "      <td>Mode-5</td>\n",
       "      <td>Open</td>\n",
       "    </tr>\n",
       "    <tr>\n",
       "      <th>11</th>\n",
       "      <td>14-11-2018 04:52</td>\n",
       "      <td>NaN</td>\n",
       "      <td>Website</td>\n",
       "      <td>XXXXXXX</td>\n",
       "      <td>eXXXXXXX@gmail.com</td>\n",
       "      <td>Sales-Agent-10</td>\n",
       "      <td>NaN</td>\n",
       "      <td>Mode-5</td>\n",
       "      <td>Open</td>\n",
       "    </tr>\n",
       "    <tr>\n",
       "      <th>12</th>\n",
       "      <td>14-11-2018 02:37</td>\n",
       "      <td>NaN</td>\n",
       "      <td>Website</td>\n",
       "      <td>467XXXXXXX</td>\n",
       "      <td>bXXXXXXX@gmail.com</td>\n",
       "      <td>Sales-Agent-10</td>\n",
       "      <td>NaN</td>\n",
       "      <td>Mode-5</td>\n",
       "      <td>Open</td>\n",
       "    </tr>\n",
       "    <tr>\n",
       "      <th>13</th>\n",
       "      <td>13-11-2018 23:40</td>\n",
       "      <td>NaN</td>\n",
       "      <td>NaN</td>\n",
       "      <td>XXXXXXX</td>\n",
       "      <td>#VALUE!</td>\n",
       "      <td>Sales-Agent-10</td>\n",
       "      <td>NaN</td>\n",
       "      <td>Mode-5</td>\n",
       "      <td>Open</td>\n",
       "    </tr>\n",
       "    <tr>\n",
       "      <th>14</th>\n",
       "      <td>13-11-2018 21:14</td>\n",
       "      <td>NaN</td>\n",
       "      <td>Website</td>\n",
       "      <td>984XXXXXXX</td>\n",
       "      <td>SXXXXXXXutlook.com</td>\n",
       "      <td>Sales-Agent-10</td>\n",
       "      <td>NaN</td>\n",
       "      <td>Mode-5</td>\n",
       "      <td>Open</td>\n",
       "    </tr>\n",
       "    <tr>\n",
       "      <th>15</th>\n",
       "      <td>13-11-2018 20:45</td>\n",
       "      <td>NaN</td>\n",
       "      <td>NaN</td>\n",
       "      <td>XXXXXXX</td>\n",
       "      <td>#VALUE!</td>\n",
       "      <td>Sales-Agent-10</td>\n",
       "      <td>NaN</td>\n",
       "      <td>Mode-5</td>\n",
       "      <td>Open</td>\n",
       "    </tr>\n",
       "    <tr>\n",
       "      <th>16</th>\n",
       "      <td>13-11-2018 20:15</td>\n",
       "      <td>NaN</td>\n",
       "      <td>Website</td>\n",
       "      <td>XXXXXXX</td>\n",
       "      <td>#VALUE!</td>\n",
       "      <td>Sales-Agent-10</td>\n",
       "      <td>NaN</td>\n",
       "      <td>Mode-5</td>\n",
       "      <td>Open</td>\n",
       "    </tr>\n",
       "    <tr>\n",
       "      <th>17</th>\n",
       "      <td>13-11-2018 20:14</td>\n",
       "      <td>NaN</td>\n",
       "      <td>Website</td>\n",
       "      <td>XXXXXXX</td>\n",
       "      <td>#VALUE!</td>\n",
       "      <td>Sales-Agent-10</td>\n",
       "      <td>NaN</td>\n",
       "      <td>Mode-5</td>\n",
       "      <td>Open</td>\n",
       "    </tr>\n",
       "    <tr>\n",
       "      <th>20</th>\n",
       "      <td>13-11-2018 18:41</td>\n",
       "      <td>NaN</td>\n",
       "      <td>Website</td>\n",
       "      <td>04.XXXXXXX</td>\n",
       "      <td>WXXXXXXXlowpol.com</td>\n",
       "      <td>Sales-Agent-10</td>\n",
       "      <td>NaN</td>\n",
       "      <td>Mode-5</td>\n",
       "      <td>Open</td>\n",
       "    </tr>\n",
       "    <tr>\n",
       "      <th>21</th>\n",
       "      <td>13-11-2018 18:25</td>\n",
       "      <td>NaN</td>\n",
       "      <td>NaN</td>\n",
       "      <td>XXXXXXX</td>\n",
       "      <td>#VALUE!</td>\n",
       "      <td>Sales-Agent-10</td>\n",
       "      <td>NaN</td>\n",
       "      <td>Mode-5</td>\n",
       "      <td>Open</td>\n",
       "    </tr>\n",
       "    <tr>\n",
       "      <th>22</th>\n",
       "      <td>13-11-2018 18:03</td>\n",
       "      <td>NaN</td>\n",
       "      <td>Website</td>\n",
       "      <td>805XXXXXXX</td>\n",
       "      <td>eXXXXXXX@gmail.com</td>\n",
       "      <td>Sales-Agent-10</td>\n",
       "      <td>NaN</td>\n",
       "      <td>Mode-5</td>\n",
       "      <td>Open</td>\n",
       "    </tr>\n",
       "    <tr>\n",
       "      <th>23</th>\n",
       "      <td>13-11-2018 17:25</td>\n",
       "      <td>NaN</td>\n",
       "      <td>Call</td>\n",
       "      <td>+96XXXXXXX</td>\n",
       "      <td>hXXXXXXX@gmail.com</td>\n",
       "      <td>Sales-Agent-9</td>\n",
       "      <td>UAE</td>\n",
       "      <td>Mode-3</td>\n",
       "      <td>In Progress Positive</td>\n",
       "    </tr>\n",
       "    <tr>\n",
       "      <th>126</th>\n",
       "      <td>10-11-2018 22:34</td>\n",
       "      <td>NaN</td>\n",
       "      <td>Website</td>\n",
       "      <td>988XXXXXXX</td>\n",
       "      <td>VXXXXXXX@gmail.com</td>\n",
       "      <td>Sales-Agent-10</td>\n",
       "      <td>NaN</td>\n",
       "      <td>Mode-5</td>\n",
       "      <td>Open</td>\n",
       "    </tr>\n",
       "    <tr>\n",
       "      <th>127</th>\n",
       "      <td>10-11-2018 21:41</td>\n",
       "      <td>NaN</td>\n",
       "      <td>Website</td>\n",
       "      <td>719XXXXXXX</td>\n",
       "      <td>AXXXXXXXheblue.com</td>\n",
       "      <td>Sales-Agent-10</td>\n",
       "      <td>NaN</td>\n",
       "      <td>Mode-5</td>\n",
       "      <td>Open</td>\n",
       "    </tr>\n",
       "    <tr>\n",
       "      <th>128</th>\n",
       "      <td>10-11-2018 20:40</td>\n",
       "      <td>NaN</td>\n",
       "      <td>NaN</td>\n",
       "      <td>XXXXXXX</td>\n",
       "      <td>#VALUE!</td>\n",
       "      <td>Sales-Agent-10</td>\n",
       "      <td>NaN</td>\n",
       "      <td>Mode-5</td>\n",
       "      <td>Open</td>\n",
       "    </tr>\n",
       "    <tr>\n",
       "      <th>129</th>\n",
       "      <td>10-11-2018 20:27</td>\n",
       "      <td>NaN</td>\n",
       "      <td>Website</td>\n",
       "      <td>XXXXXXX</td>\n",
       "      <td>#VALUE!</td>\n",
       "      <td>Sales-Agent-10</td>\n",
       "      <td>NaN</td>\n",
       "      <td>Mode-5</td>\n",
       "      <td>Open</td>\n",
       "    </tr>\n",
       "    <tr>\n",
       "      <th>131</th>\n",
       "      <td>10-11-2018 20:25</td>\n",
       "      <td>NaN</td>\n",
       "      <td>Website</td>\n",
       "      <td>XXXXXXX</td>\n",
       "      <td>#VALUE!</td>\n",
       "      <td>Sales-Agent-10</td>\n",
       "      <td>NaN</td>\n",
       "      <td>Mode-5</td>\n",
       "      <td>Open</td>\n",
       "    </tr>\n",
       "    <tr>\n",
       "      <th>132</th>\n",
       "      <td>10-11-2018 20:20</td>\n",
       "      <td>NaN</td>\n",
       "      <td>Website</td>\n",
       "      <td>XXXXXXX</td>\n",
       "      <td>#VALUE!</td>\n",
       "      <td>Sales-Agent-10</td>\n",
       "      <td>NaN</td>\n",
       "      <td>Mode-5</td>\n",
       "      <td>Open</td>\n",
       "    </tr>\n",
       "    <tr>\n",
       "      <th>133</th>\n",
       "      <td>10-11-2018 20:19</td>\n",
       "      <td>NaN</td>\n",
       "      <td>Website</td>\n",
       "      <td>XXXXXXX</td>\n",
       "      <td>#VALUE!</td>\n",
       "      <td>Sales-Agent-10</td>\n",
       "      <td>NaN</td>\n",
       "      <td>Mode-5</td>\n",
       "      <td>Open</td>\n",
       "    </tr>\n",
       "    <tr>\n",
       "      <th>134</th>\n",
       "      <td>10-11-2018 20:17</td>\n",
       "      <td>NaN</td>\n",
       "      <td>Website</td>\n",
       "      <td>XXXXXXX</td>\n",
       "      <td>#VALUE!</td>\n",
       "      <td>Sales-Agent-10</td>\n",
       "      <td>NaN</td>\n",
       "      <td>Mode-5</td>\n",
       "      <td>Open</td>\n",
       "    </tr>\n",
       "    <tr>\n",
       "      <th>136</th>\n",
       "      <td>10-11-2018 19:39</td>\n",
       "      <td>NaN</td>\n",
       "      <td>Website</td>\n",
       "      <td>932XXXXXXX</td>\n",
       "      <td>CXXXXXXX@yahoo.com</td>\n",
       "      <td>Sales-Agent-10</td>\n",
       "      <td>NaN</td>\n",
       "      <td>Mode-5</td>\n",
       "      <td>Open</td>\n",
       "    </tr>\n",
       "    <tr>\n",
       "      <th>137</th>\n",
       "      <td>10-11-2018 19:13</td>\n",
       "      <td>NaN</td>\n",
       "      <td>Website</td>\n",
       "      <td>999XXXXXXX</td>\n",
       "      <td>aXXXXXXX@gmail.com</td>\n",
       "      <td>Sales-Agent-10</td>\n",
       "      <td>NaN</td>\n",
       "      <td>Mode-5</td>\n",
       "      <td>Open</td>\n",
       "    </tr>\n",
       "    <tr>\n",
       "      <th>138</th>\n",
       "      <td>10-11-2018 18:00</td>\n",
       "      <td>NaN</td>\n",
       "      <td>NaN</td>\n",
       "      <td>XXXXXXX</td>\n",
       "      <td>#VALUE!</td>\n",
       "      <td>Sales-Agent-10</td>\n",
       "      <td>NaN</td>\n",
       "      <td>Mode-5</td>\n",
       "      <td>Open</td>\n",
       "    </tr>\n",
       "    <tr>\n",
       "      <th>1888</th>\n",
       "      <td>17-09-2018 18:55</td>\n",
       "      <td>NaN</td>\n",
       "      <td>Live Chat-Direct</td>\n",
       "      <td>704XXXXXXX</td>\n",
       "      <td>aXXXXXXX4@nitie.ac</td>\n",
       "      <td>Sales-Agent-5</td>\n",
       "      <td>Mumbai</td>\n",
       "      <td>Mode-3</td>\n",
       "      <td>Junk Lead</td>\n",
       "    </tr>\n",
       "    <tr>\n",
       "      <th>2487</th>\n",
       "      <td>31-08-2018 22:31</td>\n",
       "      <td>NaN</td>\n",
       "      <td>Website</td>\n",
       "      <td>704XXXXXXX</td>\n",
       "      <td>pXXXXXXX@gmail.com</td>\n",
       "      <td>Sales-Agent-10</td>\n",
       "      <td>NaN</td>\n",
       "      <td>Mode-5</td>\n",
       "      <td>Open</td>\n",
       "    </tr>\n",
       "    <tr>\n",
       "      <th>2488</th>\n",
       "      <td>31-08-2018 21:26</td>\n",
       "      <td>NaN</td>\n",
       "      <td>Website</td>\n",
       "      <td>932XXXXXXX</td>\n",
       "      <td>pXXXXXXX@gmail.com</td>\n",
       "      <td>Sales-Agent-10</td>\n",
       "      <td>NaN</td>\n",
       "      <td>Mode-5</td>\n",
       "      <td>Open</td>\n",
       "    </tr>\n",
       "    <tr>\n",
       "      <th>2489</th>\n",
       "      <td>31-08-2018 20:34</td>\n",
       "      <td>NaN</td>\n",
       "      <td>Website</td>\n",
       "      <td>01.XXXXXXX</td>\n",
       "      <td>mXXXXXXXaskpsi.com</td>\n",
       "      <td>Sales-Agent-10</td>\n",
       "      <td>NaN</td>\n",
       "      <td>Mode-5</td>\n",
       "      <td>Open</td>\n",
       "    </tr>\n",
       "    <tr>\n",
       "      <th>2556</th>\n",
       "      <td>29-08-2018 19:41</td>\n",
       "      <td>NaN</td>\n",
       "      <td>NaN</td>\n",
       "      <td>XXXXXXX</td>\n",
       "      <td>#VALUE!</td>\n",
       "      <td>Sales-Agent-1</td>\n",
       "      <td>NaN</td>\n",
       "      <td>Mode-5</td>\n",
       "      <td>Open</td>\n",
       "    </tr>\n",
       "    <tr>\n",
       "      <th>2726</th>\n",
       "      <td>24-08-2018 15:20</td>\n",
       "      <td>NaN</td>\n",
       "      <td>Website</td>\n",
       "      <td>735XXXXXXX</td>\n",
       "      <td>PXXXXXXXOTMAIL.COM</td>\n",
       "      <td>Sales-Agent-11</td>\n",
       "      <td>NaN</td>\n",
       "      <td>Mode-5</td>\n",
       "      <td>Just Enquiry</td>\n",
       "    </tr>\n",
       "    <tr>\n",
       "      <th>2727</th>\n",
       "      <td>24-08-2018 14:36</td>\n",
       "      <td>NaN</td>\n",
       "      <td>US Website</td>\n",
       "      <td>091XXXXXXX</td>\n",
       "      <td>hXXXXXXXailbox.com</td>\n",
       "      <td>Sales-Agent-5</td>\n",
       "      <td>NaN</td>\n",
       "      <td>Mode-5</td>\n",
       "      <td>Not Responding</td>\n",
       "    </tr>\n",
       "    <tr>\n",
       "      <th>2729</th>\n",
       "      <td>24-08-2018 13:50</td>\n",
       "      <td>NaN</td>\n",
       "      <td>US Website</td>\n",
       "      <td>077XXXXXXX</td>\n",
       "      <td>kXXXXXXXstabbi.com</td>\n",
       "      <td>Sales-Agent-11</td>\n",
       "      <td>NaN</td>\n",
       "      <td>Mode-5</td>\n",
       "      <td>Just Enquiry</td>\n",
       "    </tr>\n",
       "    <tr>\n",
       "      <th>3023</th>\n",
       "      <td>16-08-2018 12:08</td>\n",
       "      <td>NaN</td>\n",
       "      <td>Call</td>\n",
       "      <td>948XXXXXXX</td>\n",
       "      <td>#VALUE!</td>\n",
       "      <td>Sales-Agent-5</td>\n",
       "      <td>Other Locations</td>\n",
       "      <td>Mode-5</td>\n",
       "      <td>Junk Lead</td>\n",
       "    </tr>\n",
       "    <tr>\n",
       "      <th>3051</th>\n",
       "      <td>15-08-2018 21:44</td>\n",
       "      <td>NaN</td>\n",
       "      <td>NaN</td>\n",
       "      <td>XXXXXXX</td>\n",
       "      <td>#VALUE!</td>\n",
       "      <td>Sales-Agent-1</td>\n",
       "      <td>NaN</td>\n",
       "      <td>Mode-5</td>\n",
       "      <td>Open</td>\n",
       "    </tr>\n",
       "    <tr>\n",
       "      <th>3053</th>\n",
       "      <td>15-08-2018 20:36</td>\n",
       "      <td>NaN</td>\n",
       "      <td>Website</td>\n",
       "      <td>037XXXXXXX</td>\n",
       "      <td>bXXXXXXXieblog.com</td>\n",
       "      <td>Sales-Agent-10</td>\n",
       "      <td>NaN</td>\n",
       "      <td>Mode-5</td>\n",
       "      <td>Open</td>\n",
       "    </tr>\n",
       "    <tr>\n",
       "      <th>3061</th>\n",
       "      <td>14-08-2018 21:43</td>\n",
       "      <td>NaN</td>\n",
       "      <td>Website</td>\n",
       "      <td>893XXXXXXX</td>\n",
       "      <td>rXXXXXXX@gmail.com</td>\n",
       "      <td>Sales-Agent-10</td>\n",
       "      <td>NaN</td>\n",
       "      <td>Mode-5</td>\n",
       "      <td>Open</td>\n",
       "    </tr>\n",
       "    <tr>\n",
       "      <th>3130</th>\n",
       "      <td>13-08-2018 16:59</td>\n",
       "      <td>NaN</td>\n",
       "      <td>Website</td>\n",
       "      <td>889XXXXXXX</td>\n",
       "      <td>tXXXXXXX@gmail.com</td>\n",
       "      <td>Sales-Agent-10</td>\n",
       "      <td>NaN</td>\n",
       "      <td>Mode-5</td>\n",
       "      <td>Open</td>\n",
       "    </tr>\n",
       "    <tr>\n",
       "      <th>3250</th>\n",
       "      <td>09-08-2018 18:26</td>\n",
       "      <td>NaN</td>\n",
       "      <td>Website</td>\n",
       "      <td>990XXXXXXX</td>\n",
       "      <td>dXXXXXXXllogic.com</td>\n",
       "      <td>Sales-Agent-10</td>\n",
       "      <td>NaN</td>\n",
       "      <td>Mode-5</td>\n",
       "      <td>Open</td>\n",
       "    </tr>\n",
       "    <tr>\n",
       "      <th>3384</th>\n",
       "      <td>06-08-2018 20:42</td>\n",
       "      <td>NaN</td>\n",
       "      <td>US Website</td>\n",
       "      <td>418XXXXXXX</td>\n",
       "      <td>sXXXXXXXamiami.com</td>\n",
       "      <td>Sales-Agent-10</td>\n",
       "      <td>NaN</td>\n",
       "      <td>Mode-5</td>\n",
       "      <td>Open</td>\n",
       "    </tr>\n",
       "    <tr>\n",
       "      <th>3740</th>\n",
       "      <td>28-07-2018 23:11</td>\n",
       "      <td>NaN</td>\n",
       "      <td>Website</td>\n",
       "      <td>919XXXXXXX</td>\n",
       "      <td>rXXXXXXX@gmail.com</td>\n",
       "      <td>Sales-Agent-10</td>\n",
       "      <td>NaN</td>\n",
       "      <td>Mode-5</td>\n",
       "      <td>Open</td>\n",
       "    </tr>\n",
       "    <tr>\n",
       "      <th>3752</th>\n",
       "      <td>28-07-2018 12:25</td>\n",
       "      <td>NaN</td>\n",
       "      <td>Live Chat-Direct</td>\n",
       "      <td>974XXXXXXX</td>\n",
       "      <td>sXXXXXXX@yahoo.com</td>\n",
       "      <td>Sales-Agent-5</td>\n",
       "      <td>Other Locations</td>\n",
       "      <td>Mode-5</td>\n",
       "      <td>Just Enquiry</td>\n",
       "    </tr>\n",
       "    <tr>\n",
       "      <th>4979</th>\n",
       "      <td>25-06-2018 16:31</td>\n",
       "      <td>NaN</td>\n",
       "      <td>NaN</td>\n",
       "      <td>XXXXXXX</td>\n",
       "      <td>#VALUE!</td>\n",
       "      <td>Sales-Agent-1</td>\n",
       "      <td>NaN</td>\n",
       "      <td>Mode-5</td>\n",
       "      <td>Open</td>\n",
       "    </tr>\n",
       "    <tr>\n",
       "      <th>5086</th>\n",
       "      <td>22-06-2018 15:03</td>\n",
       "      <td>NaN</td>\n",
       "      <td>Website</td>\n",
       "      <td>916XXXXXXX</td>\n",
       "      <td>cXXXXXXX@gmail.com</td>\n",
       "      <td>Sales-Agent-4</td>\n",
       "      <td>Other Locations</td>\n",
       "      <td>Mode-3</td>\n",
       "      <td>Long Term</td>\n",
       "    </tr>\n",
       "    <tr>\n",
       "      <th>5235</th>\n",
       "      <td>19-06-2018 23:41</td>\n",
       "      <td>NaN</td>\n",
       "      <td>Website</td>\n",
       "      <td>975XXXXXXX</td>\n",
       "      <td>SXXXXXXX@gmail.com</td>\n",
       "      <td>Sales-Agent-10</td>\n",
       "      <td>NaN</td>\n",
       "      <td>Mode-5</td>\n",
       "      <td>Open</td>\n",
       "    </tr>\n",
       "    <tr>\n",
       "      <th>5258</th>\n",
       "      <td>19-06-2018 17:12</td>\n",
       "      <td>NaN</td>\n",
       "      <td>NaN</td>\n",
       "      <td>987XXXXXXX</td>\n",
       "      <td>#VALUE!</td>\n",
       "      <td>Sales-Agent-1</td>\n",
       "      <td>NaN</td>\n",
       "      <td>Mode-5</td>\n",
       "      <td>Open</td>\n",
       "    </tr>\n",
       "    <tr>\n",
       "      <th>5549</th>\n",
       "      <td>12-06-2018 21:00</td>\n",
       "      <td>NaN</td>\n",
       "      <td>NaN</td>\n",
       "      <td>705XXXXXXX</td>\n",
       "      <td>jXXXXXXX@gmail.com</td>\n",
       "      <td>Sales-Agent-10</td>\n",
       "      <td>NaN</td>\n",
       "      <td>Mode-5</td>\n",
       "      <td>Open</td>\n",
       "    </tr>\n",
       "    <tr>\n",
       "      <th>5664</th>\n",
       "      <td>10-06-2018 11:12</td>\n",
       "      <td>NaN</td>\n",
       "      <td>US Website</td>\n",
       "      <td>NaN</td>\n",
       "      <td>vXXXXXXXaz@mail.ru</td>\n",
       "      <td>Sales-Agent-4</td>\n",
       "      <td>Other Locations</td>\n",
       "      <td>Mode-5</td>\n",
       "      <td>Not Responding</td>\n",
       "    </tr>\n",
       "  </tbody>\n",
       "</table>\n",
       "</div>"
      ],
      "text/plain": [
       "               Created  Product_ID            Source      Mobile  \\\n",
       "0     14-11-2018 10:05         NaN           Website  984XXXXXXX   \n",
       "1     14-11-2018 09:22         NaN           Website     XXXXXXX   \n",
       "2     14-11-2018 09:21         NaN           Website     XXXXXXX   \n",
       "3     14-11-2018 08:46         NaN           Website     XXXXXXX   \n",
       "4     14-11-2018 07:34         NaN           Website     XXXXXXX   \n",
       "5     14-11-2018 07:33         NaN           Website     XXXXXXX   \n",
       "6     14-11-2018 05:58         NaN           Website     XXXXXXX   \n",
       "7     14-11-2018 05:49         NaN           Website     XXXXXXX   \n",
       "8     14-11-2018 05:40         NaN           Website  078XXXXXXX   \n",
       "9     14-11-2018 05:06         NaN           Website     XXXXXXX   \n",
       "10    14-11-2018 05:03         NaN           Website     XXXXXXX   \n",
       "11    14-11-2018 04:52         NaN           Website     XXXXXXX   \n",
       "12    14-11-2018 02:37         NaN           Website  467XXXXXXX   \n",
       "13    13-11-2018 23:40         NaN               NaN     XXXXXXX   \n",
       "14    13-11-2018 21:14         NaN           Website  984XXXXXXX   \n",
       "15    13-11-2018 20:45         NaN               NaN     XXXXXXX   \n",
       "16    13-11-2018 20:15         NaN           Website     XXXXXXX   \n",
       "17    13-11-2018 20:14         NaN           Website     XXXXXXX   \n",
       "20    13-11-2018 18:41         NaN           Website  04.XXXXXXX   \n",
       "21    13-11-2018 18:25         NaN               NaN     XXXXXXX   \n",
       "22    13-11-2018 18:03         NaN           Website  805XXXXXXX   \n",
       "23    13-11-2018 17:25         NaN              Call  +96XXXXXXX   \n",
       "126   10-11-2018 22:34         NaN           Website  988XXXXXXX   \n",
       "127   10-11-2018 21:41         NaN           Website  719XXXXXXX   \n",
       "128   10-11-2018 20:40         NaN               NaN     XXXXXXX   \n",
       "129   10-11-2018 20:27         NaN           Website     XXXXXXX   \n",
       "131   10-11-2018 20:25         NaN           Website     XXXXXXX   \n",
       "132   10-11-2018 20:20         NaN           Website     XXXXXXX   \n",
       "133   10-11-2018 20:19         NaN           Website     XXXXXXX   \n",
       "134   10-11-2018 20:17         NaN           Website     XXXXXXX   \n",
       "136   10-11-2018 19:39         NaN           Website  932XXXXXXX   \n",
       "137   10-11-2018 19:13         NaN           Website  999XXXXXXX   \n",
       "138   10-11-2018 18:00         NaN               NaN     XXXXXXX   \n",
       "1888  17-09-2018 18:55         NaN  Live Chat-Direct  704XXXXXXX   \n",
       "2487  31-08-2018 22:31         NaN           Website  704XXXXXXX   \n",
       "2488  31-08-2018 21:26         NaN           Website  932XXXXXXX   \n",
       "2489  31-08-2018 20:34         NaN           Website  01.XXXXXXX   \n",
       "2556  29-08-2018 19:41         NaN               NaN     XXXXXXX   \n",
       "2726  24-08-2018 15:20         NaN           Website  735XXXXXXX   \n",
       "2727  24-08-2018 14:36         NaN        US Website  091XXXXXXX   \n",
       "2729  24-08-2018 13:50         NaN        US Website  077XXXXXXX   \n",
       "3023  16-08-2018 12:08         NaN              Call  948XXXXXXX   \n",
       "3051  15-08-2018 21:44         NaN               NaN     XXXXXXX   \n",
       "3053  15-08-2018 20:36         NaN           Website  037XXXXXXX   \n",
       "3061  14-08-2018 21:43         NaN           Website  893XXXXXXX   \n",
       "3130  13-08-2018 16:59         NaN           Website  889XXXXXXX   \n",
       "3250  09-08-2018 18:26         NaN           Website  990XXXXXXX   \n",
       "3384  06-08-2018 20:42         NaN        US Website  418XXXXXXX   \n",
       "3740  28-07-2018 23:11         NaN           Website  919XXXXXXX   \n",
       "3752  28-07-2018 12:25         NaN  Live Chat-Direct  974XXXXXXX   \n",
       "4979  25-06-2018 16:31         NaN               NaN     XXXXXXX   \n",
       "5086  22-06-2018 15:03         NaN           Website  916XXXXXXX   \n",
       "5235  19-06-2018 23:41         NaN           Website  975XXXXXXX   \n",
       "5258  19-06-2018 17:12         NaN               NaN  987XXXXXXX   \n",
       "5549  12-06-2018 21:00         NaN               NaN  705XXXXXXX   \n",
       "5664  10-06-2018 11:12         NaN        US Website         NaN   \n",
       "\n",
       "                   EMAIL     Sales_Agent         Location Delivery_Mode  \\\n",
       "0     aXXXXXXX@gmail.com  Sales-Agent-11              NaN        Mode-5   \n",
       "1                #VALUE!  Sales-Agent-10              NaN        Mode-5   \n",
       "2     dXXXXXXX@yahoo.com  Sales-Agent-10              NaN        Mode-5   \n",
       "3     wXXXXXXX@gmail.com  Sales-Agent-10              NaN        Mode-5   \n",
       "4     cXXXXXXX@gmail.com  Sales-Agent-10              NaN        Mode-5   \n",
       "5     rXXXXXXX@gmail.com  Sales-Agent-10              NaN        Mode-5   \n",
       "6     aXXXXXXX@gmail.com  Sales-Agent-10              NaN        Mode-5   \n",
       "7     rXXXXXXX@gmail.com  Sales-Agent-10              NaN        Mode-5   \n",
       "8     DXXXXXXXheblue.com  Sales-Agent-10              NaN        Mode-5   \n",
       "9     jXXXXXXX@gmail.com  Sales-Agent-10              NaN        Mode-5   \n",
       "10    dXXXXXXXt9@aol.com  Sales-Agent-10              NaN        Mode-5   \n",
       "11    eXXXXXXX@gmail.com  Sales-Agent-10              NaN        Mode-5   \n",
       "12    bXXXXXXX@gmail.com  Sales-Agent-10              NaN        Mode-5   \n",
       "13               #VALUE!  Sales-Agent-10              NaN        Mode-5   \n",
       "14    SXXXXXXXutlook.com  Sales-Agent-10              NaN        Mode-5   \n",
       "15               #VALUE!  Sales-Agent-10              NaN        Mode-5   \n",
       "16               #VALUE!  Sales-Agent-10              NaN        Mode-5   \n",
       "17               #VALUE!  Sales-Agent-10              NaN        Mode-5   \n",
       "20    WXXXXXXXlowpol.com  Sales-Agent-10              NaN        Mode-5   \n",
       "21               #VALUE!  Sales-Agent-10              NaN        Mode-5   \n",
       "22    eXXXXXXX@gmail.com  Sales-Agent-10              NaN        Mode-5   \n",
       "23    hXXXXXXX@gmail.com   Sales-Agent-9              UAE        Mode-3   \n",
       "126   VXXXXXXX@gmail.com  Sales-Agent-10              NaN        Mode-5   \n",
       "127   AXXXXXXXheblue.com  Sales-Agent-10              NaN        Mode-5   \n",
       "128              #VALUE!  Sales-Agent-10              NaN        Mode-5   \n",
       "129              #VALUE!  Sales-Agent-10              NaN        Mode-5   \n",
       "131              #VALUE!  Sales-Agent-10              NaN        Mode-5   \n",
       "132              #VALUE!  Sales-Agent-10              NaN        Mode-5   \n",
       "133              #VALUE!  Sales-Agent-10              NaN        Mode-5   \n",
       "134              #VALUE!  Sales-Agent-10              NaN        Mode-5   \n",
       "136   CXXXXXXX@yahoo.com  Sales-Agent-10              NaN        Mode-5   \n",
       "137   aXXXXXXX@gmail.com  Sales-Agent-10              NaN        Mode-5   \n",
       "138              #VALUE!  Sales-Agent-10              NaN        Mode-5   \n",
       "1888  aXXXXXXX4@nitie.ac   Sales-Agent-5           Mumbai        Mode-3   \n",
       "2487  pXXXXXXX@gmail.com  Sales-Agent-10              NaN        Mode-5   \n",
       "2488  pXXXXXXX@gmail.com  Sales-Agent-10              NaN        Mode-5   \n",
       "2489  mXXXXXXXaskpsi.com  Sales-Agent-10              NaN        Mode-5   \n",
       "2556             #VALUE!   Sales-Agent-1              NaN        Mode-5   \n",
       "2726  PXXXXXXXOTMAIL.COM  Sales-Agent-11              NaN        Mode-5   \n",
       "2727  hXXXXXXXailbox.com   Sales-Agent-5              NaN        Mode-5   \n",
       "2729  kXXXXXXXstabbi.com  Sales-Agent-11              NaN        Mode-5   \n",
       "3023             #VALUE!   Sales-Agent-5  Other Locations        Mode-5   \n",
       "3051             #VALUE!   Sales-Agent-1              NaN        Mode-5   \n",
       "3053  bXXXXXXXieblog.com  Sales-Agent-10              NaN        Mode-5   \n",
       "3061  rXXXXXXX@gmail.com  Sales-Agent-10              NaN        Mode-5   \n",
       "3130  tXXXXXXX@gmail.com  Sales-Agent-10              NaN        Mode-5   \n",
       "3250  dXXXXXXXllogic.com  Sales-Agent-10              NaN        Mode-5   \n",
       "3384  sXXXXXXXamiami.com  Sales-Agent-10              NaN        Mode-5   \n",
       "3740  rXXXXXXX@gmail.com  Sales-Agent-10              NaN        Mode-5   \n",
       "3752  sXXXXXXX@yahoo.com   Sales-Agent-5  Other Locations        Mode-5   \n",
       "4979             #VALUE!   Sales-Agent-1              NaN        Mode-5   \n",
       "5086  cXXXXXXX@gmail.com   Sales-Agent-4  Other Locations        Mode-3   \n",
       "5235  SXXXXXXX@gmail.com  Sales-Agent-10              NaN        Mode-5   \n",
       "5258             #VALUE!   Sales-Agent-1              NaN        Mode-5   \n",
       "5549  jXXXXXXX@gmail.com  Sales-Agent-10              NaN        Mode-5   \n",
       "5664  vXXXXXXXaz@mail.ru   Sales-Agent-4  Other Locations        Mode-5   \n",
       "\n",
       "                    Status  \n",
       "0                     Open  \n",
       "1                     Open  \n",
       "2                     Open  \n",
       "3                     Open  \n",
       "4                     Open  \n",
       "5                     Open  \n",
       "6                     Open  \n",
       "7                     Open  \n",
       "8                     Open  \n",
       "9                     Open  \n",
       "10                    Open  \n",
       "11                    Open  \n",
       "12                    Open  \n",
       "13                    Open  \n",
       "14                    Open  \n",
       "15                    Open  \n",
       "16                    Open  \n",
       "17                    Open  \n",
       "20                    Open  \n",
       "21                    Open  \n",
       "22                    Open  \n",
       "23    In Progress Positive  \n",
       "126                   Open  \n",
       "127                   Open  \n",
       "128                   Open  \n",
       "129                   Open  \n",
       "131                   Open  \n",
       "132                   Open  \n",
       "133                   Open  \n",
       "134                   Open  \n",
       "136                   Open  \n",
       "137                   Open  \n",
       "138                   Open  \n",
       "1888             Junk Lead  \n",
       "2487                  Open  \n",
       "2488                  Open  \n",
       "2489                  Open  \n",
       "2556                  Open  \n",
       "2726          Just Enquiry  \n",
       "2727        Not Responding  \n",
       "2729          Just Enquiry  \n",
       "3023             Junk Lead  \n",
       "3051                  Open  \n",
       "3053                  Open  \n",
       "3061                  Open  \n",
       "3130                  Open  \n",
       "3250                  Open  \n",
       "3384                  Open  \n",
       "3740                  Open  \n",
       "3752          Just Enquiry  \n",
       "4979                  Open  \n",
       "5086             Long Term  \n",
       "5235                  Open  \n",
       "5258                  Open  \n",
       "5549                  Open  \n",
       "5664        Not Responding  "
      ]
     },
     "execution_count": 32,
     "metadata": {},
     "output_type": "execute_result"
    }
   ],
   "source": [
    "# view tha records that contain null values in Feature 'product_ID'\n",
    "data[ax]"
   ]
  },
  {
   "cell_type": "markdown",
   "id": "0fb46d84",
   "metadata": {},
   "source": [
    "* You can notice that when there's a missing value in the \"Product_ID,\" there's also a missing value in the \"Location.\"\n",
    "\n",
    "* Since we have 7000+ records so we can drop the records which contain null values to clean the data "
   ]
  },
  {
   "cell_type": "code",
   "execution_count": 33,
   "id": "d6914138",
   "metadata": {},
   "outputs": [
    {
     "data": {
      "text/plain": [
       "Created             0\n",
       "Product_ID         56\n",
       "Source             17\n",
       "Mobile           1810\n",
       "EMAIL               0\n",
       "Sales_Agent        23\n",
       "Location           56\n",
       "Delivery_Mode       0\n",
       "Status              0\n",
       "dtype: int64"
      ]
     },
     "execution_count": 33,
     "metadata": {},
     "output_type": "execute_result"
    }
   ],
   "source": [
    "data.isnull().sum()"
   ]
  },
  {
   "cell_type": "code",
   "execution_count": 34,
   "id": "ea9e49ba",
   "metadata": {},
   "outputs": [],
   "source": [
    "# dropping the records containing null values\n",
    "data = data.dropna(subset=['Product_ID'])"
   ]
  },
  {
   "cell_type": "code",
   "execution_count": 35,
   "id": "51efe6be",
   "metadata": {},
   "outputs": [],
   "source": [
    "# filling null values with backword fill method in source feature\n",
    "data['Source'].fillna(method = 'bfill',inplace=True)"
   ]
  },
  {
   "cell_type": "code",
   "execution_count": 36,
   "id": "71b1d937",
   "metadata": {},
   "outputs": [],
   "source": [
    "# filling null values with backword fill method in Sales_Agent feature\n",
    "data['Sales_Agent'].fillna(method = 'bfill',inplace=True)"
   ]
  },
  {
   "cell_type": "code",
   "execution_count": 37,
   "id": "94f385ab",
   "metadata": {},
   "outputs": [],
   "source": [
    "# filling null values with backword fill method in Location feature\n",
    "data['Location'].fillna(method = 'bfill',inplace=True)"
   ]
  },
  {
   "cell_type": "code",
   "execution_count": 38,
   "id": "1f6779d5",
   "metadata": {},
   "outputs": [
    {
     "data": {
      "text/plain": [
       "Created             0\n",
       "Product_ID          0\n",
       "Source              0\n",
       "Mobile           1809\n",
       "EMAIL               0\n",
       "Sales_Agent         0\n",
       "Location            0\n",
       "Delivery_Mode       0\n",
       "Status              0\n",
       "dtype: int64"
      ]
     },
     "execution_count": 38,
     "metadata": {},
     "output_type": "execute_result"
    }
   ],
   "source": [
    "data.isnull().sum()"
   ]
  },
  {
   "cell_type": "markdown",
   "id": "424b4500",
   "metadata": {},
   "source": [
    "**Now we can see that there is no null value present in our dataframe except in mobile column**"
   ]
  },
  {
   "cell_type": "markdown",
   "id": "9815c22a",
   "metadata": {},
   "source": [
    "**High Potential:**\n",
    "1. \"CONVERTED\": Leads that have successfully converted into sales or have achieved the desired outcome.\n",
    "2. \"In Progress Positive\": Leads that are actively being worked on and have a positive outlook toward conversion.\n",
    "3. \"converted\" : similar to \"CONVERTED\" but in lowercase\n",
    "4. \"Long Term\": Leads that may have potential but are expected to convert over a longer time horizon.\n",
    "5. \"Potential\": Leads that are considered to have potential for conversion but have not reached a definitive status yet.\n",
    "\n",
    "**Low Potential:**\n",
    "1. \"Junk Lead\": Leads that are typically considered low-quality or not relevant for conversion.\n",
    "2. \"Not Responding\": Leads that have not responded to previous attempts at communication or engagement and are often challenging to convert.\n",
    "3. \"LOST\": Leads that have been lost, meaning they did not convert into sales.\n",
    "4. \"Just Enquiry\": Leads that have shown some initial interest but may not have progressed further in the sales process.\n",
    "5. \"In Progress Negative\": Leads that are actively being worked on but face challenges or are less likely to convert.\n",
    "6. \"Open\": Leads with an \"Open\" status that requires further clarification or categorization."
   ]
  },
  {
   "cell_type": "code",
   "execution_count": 39,
   "id": "67ca3864",
   "metadata": {},
   "outputs": [
    {
     "data": {
      "text/plain": [
       "Junk Lead               1534\n",
       "Not Responding          1127\n",
       "CONVERTED                834\n",
       "Just Enquiry             757\n",
       "Potential                708\n",
       "Long Term                645\n",
       "In Progress Positive     642\n",
       "In Progress Negative     626\n",
       "LOST                     440\n",
       "Open                      33\n",
       "converted                 18\n",
       "Name: Status, dtype: int64"
      ]
     },
     "execution_count": 39,
     "metadata": {},
     "output_type": "execute_result"
    }
   ],
   "source": [
    "data.Status.value_counts()"
   ]
  },
  {
   "cell_type": "code",
   "execution_count": 40,
   "id": "f813e828",
   "metadata": {},
   "outputs": [],
   "source": [
    "# Create a mapping dictionary for categorization\n",
    "status_mapping = {\n",
    "    'In Progress Positive': 'High Potential',\n",
    "    'CONVERTED': 'High Potential',\n",
    "    'converted': 'High Potential',\n",
    "    'Not Responding': 'Low Potential',\n",
    "    'Potential': 'High Potential',\n",
    "    'Just Enquiry': 'Low Potential',\n",
    "    'Junk Lead': 'Low Potential',\n",
    "    'Open': 'Low Potential',\n",
    "    'In Progress Negative': 'Low Potential',\n",
    "    'Long Term': 'High Potential',\n",
    "    'LOST': 'Low Potential'\n",
    "}\n",
    "\n",
    "# Apply the mapping to create a new 'Lead Category' column\n",
    "data['Lead Category'] = data['Status'].map(status_mapping)"
   ]
  },
  {
   "cell_type": "code",
   "execution_count": 41,
   "id": "d51a641d",
   "metadata": {},
   "outputs": [
    {
     "data": {
      "text/html": [
       "<div>\n",
       "<style scoped>\n",
       "    .dataframe tbody tr th:only-of-type {\n",
       "        vertical-align: middle;\n",
       "    }\n",
       "\n",
       "    .dataframe tbody tr th {\n",
       "        vertical-align: top;\n",
       "    }\n",
       "\n",
       "    .dataframe thead th {\n",
       "        text-align: right;\n",
       "    }\n",
       "</style>\n",
       "<table border=\"1\" class=\"dataframe\">\n",
       "  <thead>\n",
       "    <tr style=\"text-align: right;\">\n",
       "      <th></th>\n",
       "      <th>Created</th>\n",
       "      <th>Product_ID</th>\n",
       "      <th>Source</th>\n",
       "      <th>Mobile</th>\n",
       "      <th>EMAIL</th>\n",
       "      <th>Sales_Agent</th>\n",
       "      <th>Location</th>\n",
       "      <th>Delivery_Mode</th>\n",
       "      <th>Status</th>\n",
       "      <th>Lead Category</th>\n",
       "    </tr>\n",
       "  </thead>\n",
       "  <tbody>\n",
       "    <tr>\n",
       "      <th>18</th>\n",
       "      <td>13-11-2018 18:51</td>\n",
       "      <td>9.0</td>\n",
       "      <td>Live Chat-Google Organic</td>\n",
       "      <td>971XXXXXXX</td>\n",
       "      <td>mXXXXXXX@gmail.com</td>\n",
       "      <td>Sales-Agent-3</td>\n",
       "      <td>Bangalore</td>\n",
       "      <td>Mode-1</td>\n",
       "      <td>Potential</td>\n",
       "      <td>High Potential</td>\n",
       "    </tr>\n",
       "    <tr>\n",
       "      <th>19</th>\n",
       "      <td>13-11-2018 18:48</td>\n",
       "      <td>19.0</td>\n",
       "      <td>Call</td>\n",
       "      <td>701XXXXXXX</td>\n",
       "      <td>#VALUE!</td>\n",
       "      <td>Sales-Agent-4</td>\n",
       "      <td>Other Locations</td>\n",
       "      <td>Mode-5</td>\n",
       "      <td>Potential</td>\n",
       "      <td>High Potential</td>\n",
       "    </tr>\n",
       "    <tr>\n",
       "      <th>24</th>\n",
       "      <td>13-11-2018 17:09</td>\n",
       "      <td>18.0</td>\n",
       "      <td>Website</td>\n",
       "      <td>790XXXXXXX</td>\n",
       "      <td>gXXXXXXX@gmail.com</td>\n",
       "      <td>Sales-Agent-11</td>\n",
       "      <td>Trivandrum</td>\n",
       "      <td>Mode-1</td>\n",
       "      <td>Potential</td>\n",
       "      <td>High Potential</td>\n",
       "    </tr>\n",
       "    <tr>\n",
       "      <th>25</th>\n",
       "      <td>13-11-2018 16:49</td>\n",
       "      <td>15.0</td>\n",
       "      <td>Website</td>\n",
       "      <td>970XXXXXXX</td>\n",
       "      <td>aXXXXXXX@gmail.com</td>\n",
       "      <td>Sales-Agent-7</td>\n",
       "      <td>Hyderabad</td>\n",
       "      <td>Mode-1</td>\n",
       "      <td>Not Responding</td>\n",
       "      <td>Low Potential</td>\n",
       "    </tr>\n",
       "    <tr>\n",
       "      <th>26</th>\n",
       "      <td>13-11-2018 16:37</td>\n",
       "      <td>18.0</td>\n",
       "      <td>Call</td>\n",
       "      <td>740XXXXXXX</td>\n",
       "      <td>nXXXXXXX@gmail.com</td>\n",
       "      <td>Sales-Agent-7</td>\n",
       "      <td>Bangalore</td>\n",
       "      <td>Mode-1</td>\n",
       "      <td>In Progress Positive</td>\n",
       "      <td>High Potential</td>\n",
       "    </tr>\n",
       "  </tbody>\n",
       "</table>\n",
       "</div>"
      ],
      "text/plain": [
       "             Created  Product_ID                    Source      Mobile  \\\n",
       "18  13-11-2018 18:51         9.0  Live Chat-Google Organic  971XXXXXXX   \n",
       "19  13-11-2018 18:48        19.0                      Call  701XXXXXXX   \n",
       "24  13-11-2018 17:09        18.0                   Website  790XXXXXXX   \n",
       "25  13-11-2018 16:49        15.0                   Website  970XXXXXXX   \n",
       "26  13-11-2018 16:37        18.0                      Call  740XXXXXXX   \n",
       "\n",
       "                 EMAIL     Sales_Agent         Location Delivery_Mode  \\\n",
       "18  mXXXXXXX@gmail.com   Sales-Agent-3        Bangalore        Mode-1   \n",
       "19             #VALUE!   Sales-Agent-4  Other Locations        Mode-5   \n",
       "24  gXXXXXXX@gmail.com  Sales-Agent-11       Trivandrum        Mode-1   \n",
       "25  aXXXXXXX@gmail.com   Sales-Agent-7        Hyderabad        Mode-1   \n",
       "26  nXXXXXXX@gmail.com   Sales-Agent-7        Bangalore        Mode-1   \n",
       "\n",
       "                  Status   Lead Category  \n",
       "18             Potential  High Potential  \n",
       "19             Potential  High Potential  \n",
       "24             Potential  High Potential  \n",
       "25        Not Responding   Low Potential  \n",
       "26  In Progress Positive  High Potential  "
      ]
     },
     "execution_count": 41,
     "metadata": {},
     "output_type": "execute_result"
    }
   ],
   "source": [
    "data.head()"
   ]
  },
  {
   "cell_type": "markdown",
   "id": "9718c99d",
   "metadata": {},
   "source": [
    "## 1. Created"
   ]
  },
  {
   "cell_type": "code",
   "execution_count": 42,
   "id": "34b8fd63",
   "metadata": {},
   "outputs": [],
   "source": [
    "data['Created'] = pd.to_datetime(data['Created'])"
   ]
  },
  {
   "cell_type": "code",
   "execution_count": 43,
   "id": "4dcfc96e",
   "metadata": {},
   "outputs": [],
   "source": [
    "# Extracting valuable information from created feature\n",
    "data['Month'] = data['Created'].dt.month\n",
    "data['Day'] = data['Created'].dt.day"
   ]
  },
  {
   "cell_type": "markdown",
   "id": "cad95d18",
   "metadata": {},
   "source": [
    "## 2. Source"
   ]
  },
  {
   "cell_type": "code",
   "execution_count": 44,
   "id": "e75da9b6",
   "metadata": {},
   "outputs": [
    {
     "data": {
      "text/plain": [
       "Call                             2546\n",
       "Live Chat-Direct                 1833\n",
       "Website                          1555\n",
       "Live Chat-Google Organic          275\n",
       "Live Chat -PPC                    250\n",
       "Live Chat-Blog                    238\n",
       "Customer Referral                 180\n",
       "US Website                        134\n",
       "Just Dial                          56\n",
       "Existing Client                    51\n",
       "Personal Contact                   50\n",
       "Live Chat-CPC                      50\n",
       "By Recommendation                  32\n",
       "CRM form                           23\n",
       "Existing Customer                  22\n",
       "Live Chat-Google Ads               21\n",
       "Campaign                           19\n",
       "E-mail Campaign                    12\n",
       "Live Chat-Adwords Remarketing       7\n",
       "Live Chat-Quora                     2\n",
       "Other                               2\n",
       "SMS Campaign                        2\n",
       "Live Chat-Youtube                   2\n",
       "E-Mail Message                      1\n",
       "Live Chat-Justdial                  1\n",
       "Name: Source, dtype: int64"
      ]
     },
     "execution_count": 44,
     "metadata": {},
     "output_type": "execute_result"
    }
   ],
   "source": [
    "data.Source.value_counts()"
   ]
  },
  {
   "cell_type": "code",
   "execution_count": 45,
   "id": "ac343f85",
   "metadata": {},
   "outputs": [],
   "source": [
    "# This feature contains total 25 labels in that synthetic search OR inquery of customer in different category\n",
    "# making groups and putting them in one group of similar labels as we can see below.\n",
    "\n",
    "# first group - Live chat\n",
    "data.Source.replace(['Live Chat-Direct','Live Chat-Google Organic','Live Chat -PPC','Live Chat-Blog','Live Chat-CPC',\n",
    "                    'Live Chat-Google Ads','Live Chat-Adwords Remarketing','Live Chat-Quora','Live Chat-Youtube',\n",
    "                    'Live Chat-Justdial'],'live chat',inplace=True)\n",
    "\n",
    "# second group - new client\n",
    "data.Source.replace(['Existing Client','Personal Contact','CRM form','Existing Customer'],'existing client',inplace=True)\n",
    "\n",
    "# 3rd group - website\n",
    "data.Source.replace(['US Website','Just Dial'],'social',inplace=True)\n",
    "\n",
    "# 4th group - recommendation\n",
    "data.Source.replace(['Customer Referral','By Recommendation'],'recommendation',inplace=True)\n",
    "\n",
    "# 5th group - campaign\n",
    "data.Source.replace(['Campaign','E-mail Campaign','SMS Campaign','E-Mail Message'],'campaign',inplace=True)"
   ]
  },
  {
   "cell_type": "code",
   "execution_count": 46,
   "id": "0a6a4766",
   "metadata": {},
   "outputs": [
    {
     "data": {
      "text/plain": [
       "live chat          2679\n",
       "Call               2546\n",
       "Website            1555\n",
       "recommendation      212\n",
       "social              190\n",
       "existing client     146\n",
       "campaign             34\n",
       "Other                 2\n",
       "Name: Source, dtype: int64"
      ]
     },
     "execution_count": 46,
     "metadata": {},
     "output_type": "execute_result"
    }
   ],
   "source": [
    "data.Source.value_counts()"
   ]
  },
  {
   "cell_type": "code",
   "execution_count": 47,
   "id": "65d5580a",
   "metadata": {},
   "outputs": [],
   "source": [
    "source = pd.get_dummies(data['Source'],drop_first = True)"
   ]
  },
  {
   "cell_type": "code",
   "execution_count": 48,
   "id": "df94e6be",
   "metadata": {},
   "outputs": [],
   "source": [
    "data = pd.concat([data,source],axis = 1)"
   ]
  },
  {
   "cell_type": "markdown",
   "id": "a8fd0506",
   "metadata": {},
   "source": [
    "## 3. SalesAgent"
   ]
  },
  {
   "cell_type": "code",
   "execution_count": 49,
   "id": "a8c57ce3",
   "metadata": {},
   "outputs": [],
   "source": [
    "SalesAgents = pd.get_dummies(data['Sales_Agent'],drop_first = True)"
   ]
  },
  {
   "cell_type": "code",
   "execution_count": 50,
   "id": "8f81a042",
   "metadata": {
    "scrolled": true
   },
   "outputs": [
    {
     "data": {
      "text/html": [
       "<div>\n",
       "<style scoped>\n",
       "    .dataframe tbody tr th:only-of-type {\n",
       "        vertical-align: middle;\n",
       "    }\n",
       "\n",
       "    .dataframe tbody tr th {\n",
       "        vertical-align: top;\n",
       "    }\n",
       "\n",
       "    .dataframe thead th {\n",
       "        text-align: right;\n",
       "    }\n",
       "</style>\n",
       "<table border=\"1\" class=\"dataframe\">\n",
       "  <thead>\n",
       "    <tr style=\"text-align: right;\">\n",
       "      <th></th>\n",
       "      <th>Sales-Agent-11</th>\n",
       "      <th>Sales-Agent-12</th>\n",
       "      <th>Sales-Agent-2</th>\n",
       "      <th>Sales-Agent-3</th>\n",
       "      <th>Sales-Agent-4</th>\n",
       "      <th>Sales-Agent-5</th>\n",
       "      <th>Sales-Agent-6</th>\n",
       "      <th>Sales-Agent-7</th>\n",
       "      <th>Sales-Agent-8</th>\n",
       "      <th>Sales-Agent-9</th>\n",
       "    </tr>\n",
       "  </thead>\n",
       "  <tbody>\n",
       "    <tr>\n",
       "      <th>18</th>\n",
       "      <td>0</td>\n",
       "      <td>0</td>\n",
       "      <td>0</td>\n",
       "      <td>1</td>\n",
       "      <td>0</td>\n",
       "      <td>0</td>\n",
       "      <td>0</td>\n",
       "      <td>0</td>\n",
       "      <td>0</td>\n",
       "      <td>0</td>\n",
       "    </tr>\n",
       "    <tr>\n",
       "      <th>19</th>\n",
       "      <td>0</td>\n",
       "      <td>0</td>\n",
       "      <td>0</td>\n",
       "      <td>0</td>\n",
       "      <td>1</td>\n",
       "      <td>0</td>\n",
       "      <td>0</td>\n",
       "      <td>0</td>\n",
       "      <td>0</td>\n",
       "      <td>0</td>\n",
       "    </tr>\n",
       "    <tr>\n",
       "      <th>24</th>\n",
       "      <td>1</td>\n",
       "      <td>0</td>\n",
       "      <td>0</td>\n",
       "      <td>0</td>\n",
       "      <td>0</td>\n",
       "      <td>0</td>\n",
       "      <td>0</td>\n",
       "      <td>0</td>\n",
       "      <td>0</td>\n",
       "      <td>0</td>\n",
       "    </tr>\n",
       "    <tr>\n",
       "      <th>25</th>\n",
       "      <td>0</td>\n",
       "      <td>0</td>\n",
       "      <td>0</td>\n",
       "      <td>0</td>\n",
       "      <td>0</td>\n",
       "      <td>0</td>\n",
       "      <td>0</td>\n",
       "      <td>1</td>\n",
       "      <td>0</td>\n",
       "      <td>0</td>\n",
       "    </tr>\n",
       "    <tr>\n",
       "      <th>26</th>\n",
       "      <td>0</td>\n",
       "      <td>0</td>\n",
       "      <td>0</td>\n",
       "      <td>0</td>\n",
       "      <td>0</td>\n",
       "      <td>0</td>\n",
       "      <td>0</td>\n",
       "      <td>1</td>\n",
       "      <td>0</td>\n",
       "      <td>0</td>\n",
       "    </tr>\n",
       "    <tr>\n",
       "      <th>...</th>\n",
       "      <td>...</td>\n",
       "      <td>...</td>\n",
       "      <td>...</td>\n",
       "      <td>...</td>\n",
       "      <td>...</td>\n",
       "      <td>...</td>\n",
       "      <td>...</td>\n",
       "      <td>...</td>\n",
       "      <td>...</td>\n",
       "      <td>...</td>\n",
       "    </tr>\n",
       "    <tr>\n",
       "      <th>7417</th>\n",
       "      <td>0</td>\n",
       "      <td>0</td>\n",
       "      <td>0</td>\n",
       "      <td>0</td>\n",
       "      <td>0</td>\n",
       "      <td>0</td>\n",
       "      <td>1</td>\n",
       "      <td>0</td>\n",
       "      <td>0</td>\n",
       "      <td>0</td>\n",
       "    </tr>\n",
       "    <tr>\n",
       "      <th>7418</th>\n",
       "      <td>0</td>\n",
       "      <td>1</td>\n",
       "      <td>0</td>\n",
       "      <td>0</td>\n",
       "      <td>0</td>\n",
       "      <td>0</td>\n",
       "      <td>0</td>\n",
       "      <td>0</td>\n",
       "      <td>0</td>\n",
       "      <td>0</td>\n",
       "    </tr>\n",
       "    <tr>\n",
       "      <th>7419</th>\n",
       "      <td>1</td>\n",
       "      <td>0</td>\n",
       "      <td>0</td>\n",
       "      <td>0</td>\n",
       "      <td>0</td>\n",
       "      <td>0</td>\n",
       "      <td>0</td>\n",
       "      <td>0</td>\n",
       "      <td>0</td>\n",
       "      <td>0</td>\n",
       "    </tr>\n",
       "    <tr>\n",
       "      <th>7420</th>\n",
       "      <td>0</td>\n",
       "      <td>0</td>\n",
       "      <td>0</td>\n",
       "      <td>0</td>\n",
       "      <td>1</td>\n",
       "      <td>0</td>\n",
       "      <td>0</td>\n",
       "      <td>0</td>\n",
       "      <td>0</td>\n",
       "      <td>0</td>\n",
       "    </tr>\n",
       "    <tr>\n",
       "      <th>7421</th>\n",
       "      <td>0</td>\n",
       "      <td>0</td>\n",
       "      <td>0</td>\n",
       "      <td>1</td>\n",
       "      <td>0</td>\n",
       "      <td>0</td>\n",
       "      <td>0</td>\n",
       "      <td>0</td>\n",
       "      <td>0</td>\n",
       "      <td>0</td>\n",
       "    </tr>\n",
       "  </tbody>\n",
       "</table>\n",
       "<p>7364 rows × 10 columns</p>\n",
       "</div>"
      ],
      "text/plain": [
       "      Sales-Agent-11  Sales-Agent-12  Sales-Agent-2  Sales-Agent-3  \\\n",
       "18                 0               0              0              1   \n",
       "19                 0               0              0              0   \n",
       "24                 1               0              0              0   \n",
       "25                 0               0              0              0   \n",
       "26                 0               0              0              0   \n",
       "...              ...             ...            ...            ...   \n",
       "7417               0               0              0              0   \n",
       "7418               0               1              0              0   \n",
       "7419               1               0              0              0   \n",
       "7420               0               0              0              0   \n",
       "7421               0               0              0              1   \n",
       "\n",
       "      Sales-Agent-4  Sales-Agent-5  Sales-Agent-6  Sales-Agent-7  \\\n",
       "18                0              0              0              0   \n",
       "19                1              0              0              0   \n",
       "24                0              0              0              0   \n",
       "25                0              0              0              1   \n",
       "26                0              0              0              1   \n",
       "...             ...            ...            ...            ...   \n",
       "7417              0              0              1              0   \n",
       "7418              0              0              0              0   \n",
       "7419              0              0              0              0   \n",
       "7420              1              0              0              0   \n",
       "7421              0              0              0              0   \n",
       "\n",
       "      Sales-Agent-8  Sales-Agent-9  \n",
       "18                0              0  \n",
       "19                0              0  \n",
       "24                0              0  \n",
       "25                0              0  \n",
       "26                0              0  \n",
       "...             ...            ...  \n",
       "7417              0              0  \n",
       "7418              0              0  \n",
       "7419              0              0  \n",
       "7420              0              0  \n",
       "7421              0              0  \n",
       "\n",
       "[7364 rows x 10 columns]"
      ]
     },
     "execution_count": 50,
     "metadata": {},
     "output_type": "execute_result"
    }
   ],
   "source": [
    "SalesAgents"
   ]
  },
  {
   "cell_type": "code",
   "execution_count": 51,
   "id": "8440cf40",
   "metadata": {},
   "outputs": [],
   "source": [
    "data = pd.concat([data,SalesAgents],axis = 1)"
   ]
  },
  {
   "cell_type": "markdown",
   "id": "79061b2d",
   "metadata": {},
   "source": [
    "## 4. Location"
   ]
  },
  {
   "cell_type": "code",
   "execution_count": 52,
   "id": "ccb7880e",
   "metadata": {},
   "outputs": [
    {
     "data": {
      "text/plain": [
       "Other Locations    2497\n",
       "Bangalore          2085\n",
       "Chennai             911\n",
       "Hyderabad           528\n",
       "Delhi               472\n",
       "Mumbai              401\n",
       "Pune                142\n",
       "UAE                  79\n",
       "Trivandrum           58\n",
       "Kolkata              55\n",
       "USA                  45\n",
       "UK                   41\n",
       "AUSTRALIA            25\n",
       "Singapore            17\n",
       "Malaysia              4\n",
       "EUROPE                3\n",
       "Howrah                1\n",
       "Name: Location, dtype: int64"
      ]
     },
     "execution_count": 52,
     "metadata": {},
     "output_type": "execute_result"
    }
   ],
   "source": [
    "data.Location.value_counts()"
   ]
  },
  {
   "cell_type": "code",
   "execution_count": 53,
   "id": "89f774ab",
   "metadata": {},
   "outputs": [
    {
     "data": {
      "text/html": [
       "<div>\n",
       "<style scoped>\n",
       "    .dataframe tbody tr th:only-of-type {\n",
       "        vertical-align: middle;\n",
       "    }\n",
       "\n",
       "    .dataframe tbody tr th {\n",
       "        vertical-align: top;\n",
       "    }\n",
       "\n",
       "    .dataframe thead th {\n",
       "        text-align: right;\n",
       "    }\n",
       "</style>\n",
       "<table border=\"1\" class=\"dataframe\">\n",
       "  <thead>\n",
       "    <tr style=\"text-align: right;\">\n",
       "      <th></th>\n",
       "      <th>Created</th>\n",
       "      <th>Product_ID</th>\n",
       "      <th>Source</th>\n",
       "      <th>Mobile</th>\n",
       "      <th>EMAIL</th>\n",
       "      <th>Sales_Agent</th>\n",
       "      <th>Location</th>\n",
       "      <th>Delivery_Mode</th>\n",
       "      <th>Status</th>\n",
       "      <th>Lead Category</th>\n",
       "      <th>...</th>\n",
       "      <th>Sales-Agent-11</th>\n",
       "      <th>Sales-Agent-12</th>\n",
       "      <th>Sales-Agent-2</th>\n",
       "      <th>Sales-Agent-3</th>\n",
       "      <th>Sales-Agent-4</th>\n",
       "      <th>Sales-Agent-5</th>\n",
       "      <th>Sales-Agent-6</th>\n",
       "      <th>Sales-Agent-7</th>\n",
       "      <th>Sales-Agent-8</th>\n",
       "      <th>Sales-Agent-9</th>\n",
       "    </tr>\n",
       "  </thead>\n",
       "  <tbody>\n",
       "    <tr>\n",
       "      <th>18</th>\n",
       "      <td>2018-11-13 18:51:00</td>\n",
       "      <td>9.0</td>\n",
       "      <td>live chat</td>\n",
       "      <td>971XXXXXXX</td>\n",
       "      <td>mXXXXXXX@gmail.com</td>\n",
       "      <td>Sales-Agent-3</td>\n",
       "      <td>Bangalore</td>\n",
       "      <td>Mode-1</td>\n",
       "      <td>Potential</td>\n",
       "      <td>High Potential</td>\n",
       "      <td>...</td>\n",
       "      <td>0</td>\n",
       "      <td>0</td>\n",
       "      <td>0</td>\n",
       "      <td>1</td>\n",
       "      <td>0</td>\n",
       "      <td>0</td>\n",
       "      <td>0</td>\n",
       "      <td>0</td>\n",
       "      <td>0</td>\n",
       "      <td>0</td>\n",
       "    </tr>\n",
       "    <tr>\n",
       "      <th>19</th>\n",
       "      <td>2018-11-13 18:48:00</td>\n",
       "      <td>19.0</td>\n",
       "      <td>Call</td>\n",
       "      <td>701XXXXXXX</td>\n",
       "      <td>#VALUE!</td>\n",
       "      <td>Sales-Agent-4</td>\n",
       "      <td>Other Locations</td>\n",
       "      <td>Mode-5</td>\n",
       "      <td>Potential</td>\n",
       "      <td>High Potential</td>\n",
       "      <td>...</td>\n",
       "      <td>0</td>\n",
       "      <td>0</td>\n",
       "      <td>0</td>\n",
       "      <td>0</td>\n",
       "      <td>1</td>\n",
       "      <td>0</td>\n",
       "      <td>0</td>\n",
       "      <td>0</td>\n",
       "      <td>0</td>\n",
       "      <td>0</td>\n",
       "    </tr>\n",
       "    <tr>\n",
       "      <th>24</th>\n",
       "      <td>2018-11-13 17:09:00</td>\n",
       "      <td>18.0</td>\n",
       "      <td>Website</td>\n",
       "      <td>790XXXXXXX</td>\n",
       "      <td>gXXXXXXX@gmail.com</td>\n",
       "      <td>Sales-Agent-11</td>\n",
       "      <td>Trivandrum</td>\n",
       "      <td>Mode-1</td>\n",
       "      <td>Potential</td>\n",
       "      <td>High Potential</td>\n",
       "      <td>...</td>\n",
       "      <td>1</td>\n",
       "      <td>0</td>\n",
       "      <td>0</td>\n",
       "      <td>0</td>\n",
       "      <td>0</td>\n",
       "      <td>0</td>\n",
       "      <td>0</td>\n",
       "      <td>0</td>\n",
       "      <td>0</td>\n",
       "      <td>0</td>\n",
       "    </tr>\n",
       "    <tr>\n",
       "      <th>25</th>\n",
       "      <td>2018-11-13 16:49:00</td>\n",
       "      <td>15.0</td>\n",
       "      <td>Website</td>\n",
       "      <td>970XXXXXXX</td>\n",
       "      <td>aXXXXXXX@gmail.com</td>\n",
       "      <td>Sales-Agent-7</td>\n",
       "      <td>Hyderabad</td>\n",
       "      <td>Mode-1</td>\n",
       "      <td>Not Responding</td>\n",
       "      <td>Low Potential</td>\n",
       "      <td>...</td>\n",
       "      <td>0</td>\n",
       "      <td>0</td>\n",
       "      <td>0</td>\n",
       "      <td>0</td>\n",
       "      <td>0</td>\n",
       "      <td>0</td>\n",
       "      <td>0</td>\n",
       "      <td>1</td>\n",
       "      <td>0</td>\n",
       "      <td>0</td>\n",
       "    </tr>\n",
       "    <tr>\n",
       "      <th>26</th>\n",
       "      <td>2018-11-13 16:37:00</td>\n",
       "      <td>18.0</td>\n",
       "      <td>Call</td>\n",
       "      <td>740XXXXXXX</td>\n",
       "      <td>nXXXXXXX@gmail.com</td>\n",
       "      <td>Sales-Agent-7</td>\n",
       "      <td>Bangalore</td>\n",
       "      <td>Mode-1</td>\n",
       "      <td>In Progress Positive</td>\n",
       "      <td>High Potential</td>\n",
       "      <td>...</td>\n",
       "      <td>0</td>\n",
       "      <td>0</td>\n",
       "      <td>0</td>\n",
       "      <td>0</td>\n",
       "      <td>0</td>\n",
       "      <td>0</td>\n",
       "      <td>0</td>\n",
       "      <td>1</td>\n",
       "      <td>0</td>\n",
       "      <td>0</td>\n",
       "    </tr>\n",
       "  </tbody>\n",
       "</table>\n",
       "<p>5 rows × 29 columns</p>\n",
       "</div>"
      ],
      "text/plain": [
       "               Created  Product_ID     Source      Mobile               EMAIL  \\\n",
       "18 2018-11-13 18:51:00         9.0  live chat  971XXXXXXX  mXXXXXXX@gmail.com   \n",
       "19 2018-11-13 18:48:00        19.0       Call  701XXXXXXX             #VALUE!   \n",
       "24 2018-11-13 17:09:00        18.0    Website  790XXXXXXX  gXXXXXXX@gmail.com   \n",
       "25 2018-11-13 16:49:00        15.0    Website  970XXXXXXX  aXXXXXXX@gmail.com   \n",
       "26 2018-11-13 16:37:00        18.0       Call  740XXXXXXX  nXXXXXXX@gmail.com   \n",
       "\n",
       "       Sales_Agent         Location Delivery_Mode                Status  \\\n",
       "18   Sales-Agent-3        Bangalore        Mode-1             Potential   \n",
       "19   Sales-Agent-4  Other Locations        Mode-5             Potential   \n",
       "24  Sales-Agent-11       Trivandrum        Mode-1             Potential   \n",
       "25   Sales-Agent-7        Hyderabad        Mode-1        Not Responding   \n",
       "26   Sales-Agent-7        Bangalore        Mode-1  In Progress Positive   \n",
       "\n",
       "     Lead Category  ...  Sales-Agent-11  Sales-Agent-12  Sales-Agent-2  \\\n",
       "18  High Potential  ...               0               0              0   \n",
       "19  High Potential  ...               0               0              0   \n",
       "24  High Potential  ...               1               0              0   \n",
       "25   Low Potential  ...               0               0              0   \n",
       "26  High Potential  ...               0               0              0   \n",
       "\n",
       "    Sales-Agent-3  Sales-Agent-4  Sales-Agent-5  Sales-Agent-6  Sales-Agent-7  \\\n",
       "18              1              0              0              0              0   \n",
       "19              0              1              0              0              0   \n",
       "24              0              0              0              0              0   \n",
       "25              0              0              0              0              1   \n",
       "26              0              0              0              0              1   \n",
       "\n",
       "    Sales-Agent-8  Sales-Agent-9  \n",
       "18              0              0  \n",
       "19              0              0  \n",
       "24              0              0  \n",
       "25              0              0  \n",
       "26              0              0  \n",
       "\n",
       "[5 rows x 29 columns]"
      ]
     },
     "execution_count": 53,
     "metadata": {},
     "output_type": "execute_result"
    }
   ],
   "source": [
    "data.head()"
   ]
  },
  {
   "cell_type": "code",
   "execution_count": 54,
   "id": "a823bcee",
   "metadata": {},
   "outputs": [],
   "source": [
    "from sklearn.preprocessing import LabelEncoder\n",
    "label_encoder = LabelEncoder()\n",
    "data['Location']=label_encoder.fit_transform(data['Location'])"
   ]
  },
  {
   "cell_type": "markdown",
   "id": "70398368",
   "metadata": {},
   "source": [
    "## 5. Delivery_mode"
   ]
  },
  {
   "cell_type": "code",
   "execution_count": 55,
   "id": "877dc7ea",
   "metadata": {},
   "outputs": [],
   "source": [
    "data['Delivery_Mode'].replace({'Mode-1':1,'Mode-2':2,'Mode-3':3,'Mode-4':4,'Mode-5':5},inplace=True)"
   ]
  },
  {
   "cell_type": "markdown",
   "id": "581629d1",
   "metadata": {},
   "source": [
    "## 6. Lead Category"
   ]
  },
  {
   "cell_type": "code",
   "execution_count": 56,
   "id": "b63bcdc9",
   "metadata": {},
   "outputs": [],
   "source": [
    "data['Lead Category'].replace({'High Potential':1,'Low Potential':0},inplace=True)"
   ]
  },
  {
   "cell_type": "code",
   "execution_count": 58,
   "id": "3a2464f4",
   "metadata": {},
   "outputs": [
    {
     "data": {
      "text/html": [
       "<div>\n",
       "<style scoped>\n",
       "    .dataframe tbody tr th:only-of-type {\n",
       "        vertical-align: middle;\n",
       "    }\n",
       "\n",
       "    .dataframe tbody tr th {\n",
       "        vertical-align: top;\n",
       "    }\n",
       "\n",
       "    .dataframe thead th {\n",
       "        text-align: right;\n",
       "    }\n",
       "</style>\n",
       "<table border=\"1\" class=\"dataframe\">\n",
       "  <thead>\n",
       "    <tr style=\"text-align: right;\">\n",
       "      <th></th>\n",
       "      <th>Created</th>\n",
       "      <th>Product_ID</th>\n",
       "      <th>Source</th>\n",
       "      <th>Mobile</th>\n",
       "      <th>EMAIL</th>\n",
       "      <th>Sales_Agent</th>\n",
       "      <th>Location</th>\n",
       "      <th>Delivery_Mode</th>\n",
       "      <th>Status</th>\n",
       "      <th>Lead Category</th>\n",
       "      <th>Month</th>\n",
       "      <th>Day</th>\n",
       "      <th>Other</th>\n",
       "      <th>Website</th>\n",
       "      <th>campaign</th>\n",
       "      <th>existing client</th>\n",
       "      <th>live chat</th>\n",
       "      <th>recommendation</th>\n",
       "      <th>social</th>\n",
       "      <th>Sales-Agent-11</th>\n",
       "      <th>Sales-Agent-12</th>\n",
       "      <th>Sales-Agent-2</th>\n",
       "      <th>Sales-Agent-3</th>\n",
       "      <th>Sales-Agent-4</th>\n",
       "      <th>Sales-Agent-5</th>\n",
       "      <th>Sales-Agent-6</th>\n",
       "      <th>Sales-Agent-7</th>\n",
       "      <th>Sales-Agent-8</th>\n",
       "      <th>Sales-Agent-9</th>\n",
       "    </tr>\n",
       "  </thead>\n",
       "  <tbody>\n",
       "    <tr>\n",
       "      <th>18</th>\n",
       "      <td>2018-11-13 18:51:00</td>\n",
       "      <td>9.0</td>\n",
       "      <td>live chat</td>\n",
       "      <td>971XXXXXXX</td>\n",
       "      <td>mXXXXXXX@gmail.com</td>\n",
       "      <td>Sales-Agent-3</td>\n",
       "      <td>1</td>\n",
       "      <td>1</td>\n",
       "      <td>Potential</td>\n",
       "      <td>1</td>\n",
       "      <td>11</td>\n",
       "      <td>13</td>\n",
       "      <td>0</td>\n",
       "      <td>0</td>\n",
       "      <td>0</td>\n",
       "      <td>0</td>\n",
       "      <td>1</td>\n",
       "      <td>0</td>\n",
       "      <td>0</td>\n",
       "      <td>0</td>\n",
       "      <td>0</td>\n",
       "      <td>0</td>\n",
       "      <td>1</td>\n",
       "      <td>0</td>\n",
       "      <td>0</td>\n",
       "      <td>0</td>\n",
       "      <td>0</td>\n",
       "      <td>0</td>\n",
       "      <td>0</td>\n",
       "    </tr>\n",
       "    <tr>\n",
       "      <th>19</th>\n",
       "      <td>2018-11-13 18:48:00</td>\n",
       "      <td>19.0</td>\n",
       "      <td>Call</td>\n",
       "      <td>701XXXXXXX</td>\n",
       "      <td>#VALUE!</td>\n",
       "      <td>Sales-Agent-4</td>\n",
       "      <td>10</td>\n",
       "      <td>5</td>\n",
       "      <td>Potential</td>\n",
       "      <td>1</td>\n",
       "      <td>11</td>\n",
       "      <td>13</td>\n",
       "      <td>0</td>\n",
       "      <td>0</td>\n",
       "      <td>0</td>\n",
       "      <td>0</td>\n",
       "      <td>0</td>\n",
       "      <td>0</td>\n",
       "      <td>0</td>\n",
       "      <td>0</td>\n",
       "      <td>0</td>\n",
       "      <td>0</td>\n",
       "      <td>0</td>\n",
       "      <td>1</td>\n",
       "      <td>0</td>\n",
       "      <td>0</td>\n",
       "      <td>0</td>\n",
       "      <td>0</td>\n",
       "      <td>0</td>\n",
       "    </tr>\n",
       "    <tr>\n",
       "      <th>24</th>\n",
       "      <td>2018-11-13 17:09:00</td>\n",
       "      <td>18.0</td>\n",
       "      <td>Website</td>\n",
       "      <td>790XXXXXXX</td>\n",
       "      <td>gXXXXXXX@gmail.com</td>\n",
       "      <td>Sales-Agent-11</td>\n",
       "      <td>13</td>\n",
       "      <td>1</td>\n",
       "      <td>Potential</td>\n",
       "      <td>1</td>\n",
       "      <td>11</td>\n",
       "      <td>13</td>\n",
       "      <td>0</td>\n",
       "      <td>1</td>\n",
       "      <td>0</td>\n",
       "      <td>0</td>\n",
       "      <td>0</td>\n",
       "      <td>0</td>\n",
       "      <td>0</td>\n",
       "      <td>1</td>\n",
       "      <td>0</td>\n",
       "      <td>0</td>\n",
       "      <td>0</td>\n",
       "      <td>0</td>\n",
       "      <td>0</td>\n",
       "      <td>0</td>\n",
       "      <td>0</td>\n",
       "      <td>0</td>\n",
       "      <td>0</td>\n",
       "    </tr>\n",
       "    <tr>\n",
       "      <th>25</th>\n",
       "      <td>2018-11-13 16:49:00</td>\n",
       "      <td>15.0</td>\n",
       "      <td>Website</td>\n",
       "      <td>970XXXXXXX</td>\n",
       "      <td>aXXXXXXX@gmail.com</td>\n",
       "      <td>Sales-Agent-7</td>\n",
       "      <td>6</td>\n",
       "      <td>1</td>\n",
       "      <td>Not Responding</td>\n",
       "      <td>0</td>\n",
       "      <td>11</td>\n",
       "      <td>13</td>\n",
       "      <td>0</td>\n",
       "      <td>1</td>\n",
       "      <td>0</td>\n",
       "      <td>0</td>\n",
       "      <td>0</td>\n",
       "      <td>0</td>\n",
       "      <td>0</td>\n",
       "      <td>0</td>\n",
       "      <td>0</td>\n",
       "      <td>0</td>\n",
       "      <td>0</td>\n",
       "      <td>0</td>\n",
       "      <td>0</td>\n",
       "      <td>0</td>\n",
       "      <td>1</td>\n",
       "      <td>0</td>\n",
       "      <td>0</td>\n",
       "    </tr>\n",
       "    <tr>\n",
       "      <th>26</th>\n",
       "      <td>2018-11-13 16:37:00</td>\n",
       "      <td>18.0</td>\n",
       "      <td>Call</td>\n",
       "      <td>740XXXXXXX</td>\n",
       "      <td>nXXXXXXX@gmail.com</td>\n",
       "      <td>Sales-Agent-7</td>\n",
       "      <td>1</td>\n",
       "      <td>1</td>\n",
       "      <td>In Progress Positive</td>\n",
       "      <td>1</td>\n",
       "      <td>11</td>\n",
       "      <td>13</td>\n",
       "      <td>0</td>\n",
       "      <td>0</td>\n",
       "      <td>0</td>\n",
       "      <td>0</td>\n",
       "      <td>0</td>\n",
       "      <td>0</td>\n",
       "      <td>0</td>\n",
       "      <td>0</td>\n",
       "      <td>0</td>\n",
       "      <td>0</td>\n",
       "      <td>0</td>\n",
       "      <td>0</td>\n",
       "      <td>0</td>\n",
       "      <td>0</td>\n",
       "      <td>1</td>\n",
       "      <td>0</td>\n",
       "      <td>0</td>\n",
       "    </tr>\n",
       "  </tbody>\n",
       "</table>\n",
       "</div>"
      ],
      "text/plain": [
       "               Created  Product_ID     Source      Mobile               EMAIL  \\\n",
       "18 2018-11-13 18:51:00         9.0  live chat  971XXXXXXX  mXXXXXXX@gmail.com   \n",
       "19 2018-11-13 18:48:00        19.0       Call  701XXXXXXX             #VALUE!   \n",
       "24 2018-11-13 17:09:00        18.0    Website  790XXXXXXX  gXXXXXXX@gmail.com   \n",
       "25 2018-11-13 16:49:00        15.0    Website  970XXXXXXX  aXXXXXXX@gmail.com   \n",
       "26 2018-11-13 16:37:00        18.0       Call  740XXXXXXX  nXXXXXXX@gmail.com   \n",
       "\n",
       "       Sales_Agent  Location  Delivery_Mode                Status  \\\n",
       "18   Sales-Agent-3         1              1             Potential   \n",
       "19   Sales-Agent-4        10              5             Potential   \n",
       "24  Sales-Agent-11        13              1             Potential   \n",
       "25   Sales-Agent-7         6              1        Not Responding   \n",
       "26   Sales-Agent-7         1              1  In Progress Positive   \n",
       "\n",
       "    Lead Category  Month  Day  Other  Website  campaign  existing client  \\\n",
       "18              1     11   13      0        0         0                0   \n",
       "19              1     11   13      0        0         0                0   \n",
       "24              1     11   13      0        1         0                0   \n",
       "25              0     11   13      0        1         0                0   \n",
       "26              1     11   13      0        0         0                0   \n",
       "\n",
       "    live chat  recommendation  social  Sales-Agent-11  Sales-Agent-12  \\\n",
       "18          1               0       0               0               0   \n",
       "19          0               0       0               0               0   \n",
       "24          0               0       0               1               0   \n",
       "25          0               0       0               0               0   \n",
       "26          0               0       0               0               0   \n",
       "\n",
       "    Sales-Agent-2  Sales-Agent-3  Sales-Agent-4  Sales-Agent-5  Sales-Agent-6  \\\n",
       "18              0              1              0              0              0   \n",
       "19              0              0              1              0              0   \n",
       "24              0              0              0              0              0   \n",
       "25              0              0              0              0              0   \n",
       "26              0              0              0              0              0   \n",
       "\n",
       "    Sales-Agent-7  Sales-Agent-8  Sales-Agent-9  \n",
       "18              0              0              0  \n",
       "19              0              0              0  \n",
       "24              0              0              0  \n",
       "25              1              0              0  \n",
       "26              1              0              0  "
      ]
     },
     "execution_count": 58,
     "metadata": {},
     "output_type": "execute_result"
    }
   ],
   "source": [
    "pd.set_option('display.max_columns',None)\n",
    "data.head()"
   ]
  },
  {
   "cell_type": "code",
   "execution_count": 59,
   "id": "2ed6f2d7",
   "metadata": {},
   "outputs": [],
   "source": [
    "# dripping unwanted features for further analysis\n",
    "data.drop('Status',inplace = True,axis = 1)\n",
    "data.drop('Sales_Agent',inplace = True,axis = 1)\n",
    "data.drop('EMAIL',inplace = True,axis = 1)\n",
    "data.drop('Mobile',inplace=True,axis = 1)\n",
    "data.drop('Created',inplace = True, axis = 1)\n",
    "data.drop('Source',axis =1 , inplace = True)"
   ]
  },
  {
   "cell_type": "code",
   "execution_count": 60,
   "id": "4c755e07",
   "metadata": {},
   "outputs": [
    {
     "data": {
      "text/plain": [
       "(7364, 23)"
      ]
     },
     "execution_count": 60,
     "metadata": {},
     "output_type": "execute_result"
    }
   ],
   "source": [
    "data.shape"
   ]
  },
  {
   "cell_type": "code",
   "execution_count": 61,
   "id": "9ac2135f",
   "metadata": {},
   "outputs": [],
   "source": [
    "data['Product_ID'] = data['Product_ID'].astype(int)"
   ]
  },
  {
   "cell_type": "code",
   "execution_count": 62,
   "id": "11775b46",
   "metadata": {
    "scrolled": true
   },
   "outputs": [
    {
     "name": "stdout",
     "output_type": "stream",
     "text": [
      "<class 'pandas.core.frame.DataFrame'>\n",
      "Int64Index: 7364 entries, 18 to 7421\n",
      "Data columns (total 23 columns):\n",
      " #   Column           Non-Null Count  Dtype\n",
      "---  ------           --------------  -----\n",
      " 0   Product_ID       7364 non-null   int32\n",
      " 1   Location         7364 non-null   int32\n",
      " 2   Delivery_Mode    7364 non-null   int64\n",
      " 3   Lead Category    7364 non-null   int64\n",
      " 4   Month            7364 non-null   int64\n",
      " 5   Day              7364 non-null   int64\n",
      " 6   Other            7364 non-null   uint8\n",
      " 7   Website          7364 non-null   uint8\n",
      " 8   campaign         7364 non-null   uint8\n",
      " 9   existing client  7364 non-null   uint8\n",
      " 10  live chat        7364 non-null   uint8\n",
      " 11  recommendation   7364 non-null   uint8\n",
      " 12  social           7364 non-null   uint8\n",
      " 13  Sales-Agent-11   7364 non-null   uint8\n",
      " 14  Sales-Agent-12   7364 non-null   uint8\n",
      " 15  Sales-Agent-2    7364 non-null   uint8\n",
      " 16  Sales-Agent-3    7364 non-null   uint8\n",
      " 17  Sales-Agent-4    7364 non-null   uint8\n",
      " 18  Sales-Agent-5    7364 non-null   uint8\n",
      " 19  Sales-Agent-6    7364 non-null   uint8\n",
      " 20  Sales-Agent-7    7364 non-null   uint8\n",
      " 21  Sales-Agent-8    7364 non-null   uint8\n",
      " 22  Sales-Agent-9    7364 non-null   uint8\n",
      "dtypes: int32(2), int64(4), uint8(17)\n",
      "memory usage: 467.4 KB\n"
     ]
    }
   ],
   "source": [
    "data.info()"
   ]
  },
  {
   "cell_type": "code",
   "execution_count": 63,
   "id": "00e018b6",
   "metadata": {},
   "outputs": [
    {
     "data": {
      "text/plain": [
       "Product_ID         0\n",
       "Location           0\n",
       "Delivery_Mode      0\n",
       "Lead Category      0\n",
       "Month              0\n",
       "Day                0\n",
       "Other              0\n",
       "Website            0\n",
       "campaign           0\n",
       "existing client    0\n",
       "live chat          0\n",
       "recommendation     0\n",
       "social             0\n",
       "Sales-Agent-11     0\n",
       "Sales-Agent-12     0\n",
       "Sales-Agent-2      0\n",
       "Sales-Agent-3      0\n",
       "Sales-Agent-4      0\n",
       "Sales-Agent-5      0\n",
       "Sales-Agent-6      0\n",
       "Sales-Agent-7      0\n",
       "Sales-Agent-8      0\n",
       "Sales-Agent-9      0\n",
       "dtype: int64"
      ]
     },
     "execution_count": 63,
     "metadata": {},
     "output_type": "execute_result"
    }
   ],
   "source": [
    "data.isnull().sum()"
   ]
  },
  {
   "cell_type": "code",
   "execution_count": 64,
   "id": "14ee12c1",
   "metadata": {},
   "outputs": [],
   "source": [
    "# Splitting the data into two variables that is input and output variables\n",
    "x = data.drop('Lead Category',axis = 1)\n",
    "y = data['Lead Category']"
   ]
  },
  {
   "cell_type": "code",
   "execution_count": 65,
   "id": "800ab1e7",
   "metadata": {},
   "outputs": [
    {
     "data": {
      "text/plain": [
       "0    4517\n",
       "1    2847\n",
       "Name: Lead Category, dtype: int64"
      ]
     },
     "execution_count": 65,
     "metadata": {},
     "output_type": "execute_result"
    }
   ],
   "source": [
    "y.value_counts()"
   ]
  },
  {
   "cell_type": "code",
   "execution_count": 66,
   "id": "3c6aeaa3",
   "metadata": {},
   "outputs": [
    {
     "data": {
      "text/plain": [
       "18      1\n",
       "19      1\n",
       "24      1\n",
       "25      0\n",
       "26      1\n",
       "       ..\n",
       "7417    0\n",
       "7418    0\n",
       "7419    0\n",
       "7420    0\n",
       "7421    1\n",
       "Name: Lead Category, Length: 7364, dtype: int64"
      ]
     },
     "execution_count": 66,
     "metadata": {},
     "output_type": "execute_result"
    }
   ],
   "source": [
    "y"
   ]
  },
  {
   "cell_type": "code",
   "execution_count": 67,
   "id": "6df0f400",
   "metadata": {},
   "outputs": [
    {
     "name": "stdout",
     "output_type": "stream",
     "text": [
      "Before balancing Counter({0: 4517, 1: 2847})\n",
      "After balancing Counter({1: 4517, 0: 4517})\n"
     ]
    }
   ],
   "source": [
    "#we can see that this is an imbalanced dataset \n",
    "# balancing the data\n",
    "from collections import Counter\n",
    "from imblearn.over_sampling import SMOTE\n",
    "sm = SMOTE()\n",
    "print('Before balancing',Counter(y))\n",
    "x_sm,y_sm = sm.fit_resample(x,y)\n",
    "print('After balancing',Counter(y_sm))"
   ]
  },
  {
   "cell_type": "code",
   "execution_count": 68,
   "id": "1cbb8b1c",
   "metadata": {},
   "outputs": [],
   "source": [
    "# splitting the data using train_test_split\n",
    "from sklearn.model_selection import train_test_split\n",
    "x_train,x_test,y_train,y_test = train_test_split(x_sm,y_sm,test_size = 0.2,random_state = 42)"
   ]
  },
  {
   "cell_type": "markdown",
   "id": "3503e745",
   "metadata": {},
   "source": [
    "## Logistic Regression"
   ]
  },
  {
   "cell_type": "code",
   "execution_count": 69,
   "id": "7da03572",
   "metadata": {},
   "outputs": [],
   "source": [
    "from sklearn.linear_model import LogisticRegression"
   ]
  },
  {
   "cell_type": "code",
   "execution_count": 70,
   "id": "473e52e9",
   "metadata": {},
   "outputs": [
    {
     "data": {
      "text/html": [
       "<style>#sk-container-id-1 {color: black;background-color: white;}#sk-container-id-1 pre{padding: 0;}#sk-container-id-1 div.sk-toggleable {background-color: white;}#sk-container-id-1 label.sk-toggleable__label {cursor: pointer;display: block;width: 100%;margin-bottom: 0;padding: 0.3em;box-sizing: border-box;text-align: center;}#sk-container-id-1 label.sk-toggleable__label-arrow:before {content: \"▸\";float: left;margin-right: 0.25em;color: #696969;}#sk-container-id-1 label.sk-toggleable__label-arrow:hover:before {color: black;}#sk-container-id-1 div.sk-estimator:hover label.sk-toggleable__label-arrow:before {color: black;}#sk-container-id-1 div.sk-toggleable__content {max-height: 0;max-width: 0;overflow: hidden;text-align: left;background-color: #f0f8ff;}#sk-container-id-1 div.sk-toggleable__content pre {margin: 0.2em;color: black;border-radius: 0.25em;background-color: #f0f8ff;}#sk-container-id-1 input.sk-toggleable__control:checked~div.sk-toggleable__content {max-height: 200px;max-width: 100%;overflow: auto;}#sk-container-id-1 input.sk-toggleable__control:checked~label.sk-toggleable__label-arrow:before {content: \"▾\";}#sk-container-id-1 div.sk-estimator input.sk-toggleable__control:checked~label.sk-toggleable__label {background-color: #d4ebff;}#sk-container-id-1 div.sk-label input.sk-toggleable__control:checked~label.sk-toggleable__label {background-color: #d4ebff;}#sk-container-id-1 input.sk-hidden--visually {border: 0;clip: rect(1px 1px 1px 1px);clip: rect(1px, 1px, 1px, 1px);height: 1px;margin: -1px;overflow: hidden;padding: 0;position: absolute;width: 1px;}#sk-container-id-1 div.sk-estimator {font-family: monospace;background-color: #f0f8ff;border: 1px dotted black;border-radius: 0.25em;box-sizing: border-box;margin-bottom: 0.5em;}#sk-container-id-1 div.sk-estimator:hover {background-color: #d4ebff;}#sk-container-id-1 div.sk-parallel-item::after {content: \"\";width: 100%;border-bottom: 1px solid gray;flex-grow: 1;}#sk-container-id-1 div.sk-label:hover label.sk-toggleable__label {background-color: #d4ebff;}#sk-container-id-1 div.sk-serial::before {content: \"\";position: absolute;border-left: 1px solid gray;box-sizing: border-box;top: 0;bottom: 0;left: 50%;z-index: 0;}#sk-container-id-1 div.sk-serial {display: flex;flex-direction: column;align-items: center;background-color: white;padding-right: 0.2em;padding-left: 0.2em;position: relative;}#sk-container-id-1 div.sk-item {position: relative;z-index: 1;}#sk-container-id-1 div.sk-parallel {display: flex;align-items: stretch;justify-content: center;background-color: white;position: relative;}#sk-container-id-1 div.sk-item::before, #sk-container-id-1 div.sk-parallel-item::before {content: \"\";position: absolute;border-left: 1px solid gray;box-sizing: border-box;top: 0;bottom: 0;left: 50%;z-index: -1;}#sk-container-id-1 div.sk-parallel-item {display: flex;flex-direction: column;z-index: 1;position: relative;background-color: white;}#sk-container-id-1 div.sk-parallel-item:first-child::after {align-self: flex-end;width: 50%;}#sk-container-id-1 div.sk-parallel-item:last-child::after {align-self: flex-start;width: 50%;}#sk-container-id-1 div.sk-parallel-item:only-child::after {width: 0;}#sk-container-id-1 div.sk-dashed-wrapped {border: 1px dashed gray;margin: 0 0.4em 0.5em 0.4em;box-sizing: border-box;padding-bottom: 0.4em;background-color: white;}#sk-container-id-1 div.sk-label label {font-family: monospace;font-weight: bold;display: inline-block;line-height: 1.2em;}#sk-container-id-1 div.sk-label-container {text-align: center;}#sk-container-id-1 div.sk-container {/* jupyter's `normalize.less` sets `[hidden] { display: none; }` but bootstrap.min.css set `[hidden] { display: none !important; }` so we also need the `!important` here to be able to override the default hidden behavior on the sphinx rendered scikit-learn.org. See: https://github.com/scikit-learn/scikit-learn/issues/21755 */display: inline-block !important;position: relative;}#sk-container-id-1 div.sk-text-repr-fallback {display: none;}</style><div id=\"sk-container-id-1\" class=\"sk-top-container\"><div class=\"sk-text-repr-fallback\"><pre>LogisticRegression()</pre><b>In a Jupyter environment, please rerun this cell to show the HTML representation or trust the notebook. <br />On GitHub, the HTML representation is unable to render, please try loading this page with nbviewer.org.</b></div><div class=\"sk-container\" hidden><div class=\"sk-item\"><div class=\"sk-estimator sk-toggleable\"><input class=\"sk-toggleable__control sk-hidden--visually\" id=\"sk-estimator-id-1\" type=\"checkbox\" checked><label for=\"sk-estimator-id-1\" class=\"sk-toggleable__label sk-toggleable__label-arrow\">LogisticRegression</label><div class=\"sk-toggleable__content\"><pre>LogisticRegression()</pre></div></div></div></div></div>"
      ],
      "text/plain": [
       "LogisticRegression()"
      ]
     },
     "execution_count": 70,
     "metadata": {},
     "output_type": "execute_result"
    }
   ],
   "source": [
    "model = LogisticRegression()\n",
    "model.fit(x_train,y_train)"
   ]
  },
  {
   "cell_type": "code",
   "execution_count": 71,
   "id": "1d2579ad",
   "metadata": {},
   "outputs": [],
   "source": [
    "y_pred = model.predict(x_test)\n",
    "y_pred1 = model.predict(x_train)"
   ]
  },
  {
   "cell_type": "code",
   "execution_count": 72,
   "id": "3c2f6e18",
   "metadata": {},
   "outputs": [
    {
     "name": "stdout",
     "output_type": "stream",
     "text": [
      "              precision    recall  f1-score   support\n",
      "\n",
      "           0       0.72      0.74      0.73       914\n",
      "           1       0.73      0.70      0.71       893\n",
      "\n",
      "    accuracy                           0.72      1807\n",
      "   macro avg       0.72      0.72      0.72      1807\n",
      "weighted avg       0.72      0.72      0.72      1807\n",
      "\n"
     ]
    }
   ],
   "source": [
    "from sklearn.metrics import classification_report\n",
    "# Testing Accuracy\n",
    "print(classification_report(y_test,y_pred))"
   ]
  },
  {
   "cell_type": "code",
   "execution_count": 73,
   "id": "5f52a731",
   "metadata": {},
   "outputs": [
    {
     "name": "stdout",
     "output_type": "stream",
     "text": [
      "              precision    recall  f1-score   support\n",
      "\n",
      "           0       0.71      0.77      0.73      3603\n",
      "           1       0.75      0.68      0.71      3624\n",
      "\n",
      "    accuracy                           0.72      7227\n",
      "   macro avg       0.73      0.72      0.72      7227\n",
      "weighted avg       0.73      0.72      0.72      7227\n",
      "\n"
     ]
    }
   ],
   "source": [
    "# Training Accuracy\n",
    "print(classification_report(y_train,y_pred1))"
   ]
  },
  {
   "cell_type": "markdown",
   "id": "7c518d74",
   "metadata": {},
   "source": [
    "## Naive Bayes"
   ]
  },
  {
   "cell_type": "code",
   "execution_count": 74,
   "id": "17ba4db5",
   "metadata": {},
   "outputs": [],
   "source": [
    "from sklearn.naive_bayes import MultinomialNB\n",
    "NB = MultinomialNB()\n",
    "NB.fit(x_train,y_train)\n",
    "y_pred_NB = NB.predict(x_test)\n",
    "y_pred_NBtrain = NB.predict(x_train)"
   ]
  },
  {
   "cell_type": "code",
   "execution_count": 75,
   "id": "210acd6b",
   "metadata": {},
   "outputs": [
    {
     "name": "stdout",
     "output_type": "stream",
     "text": [
      "              precision    recall  f1-score   support\n",
      "\n",
      "           0       0.69      0.65      0.67       914\n",
      "           1       0.66      0.70      0.68       893\n",
      "\n",
      "    accuracy                           0.67      1807\n",
      "   macro avg       0.67      0.67      0.67      1807\n",
      "weighted avg       0.67      0.67      0.67      1807\n",
      "\n"
     ]
    }
   ],
   "source": [
    "# Testing score\n",
    "print(classification_report(y_test,y_pred_NB))"
   ]
  },
  {
   "cell_type": "code",
   "execution_count": 76,
   "id": "32e9d424",
   "metadata": {},
   "outputs": [],
   "source": [
    "# Predicting for training data\n",
    "y_pred_NB1 = NB.predict(x_train)"
   ]
  },
  {
   "cell_type": "code",
   "execution_count": 77,
   "id": "e792610a",
   "metadata": {},
   "outputs": [
    {
     "name": "stdout",
     "output_type": "stream",
     "text": [
      "              precision    recall  f1-score   support\n",
      "\n",
      "           0       0.67      0.66      0.67      3603\n",
      "           1       0.67      0.68      0.67      3624\n",
      "\n",
      "    accuracy                           0.67      7227\n",
      "   macro avg       0.67      0.67      0.67      7227\n",
      "weighted avg       0.67      0.67      0.67      7227\n",
      "\n"
     ]
    }
   ],
   "source": [
    "# Training Accuracy\n",
    "print(classification_report(y_train,y_pred_NB1))"
   ]
  },
  {
   "cell_type": "markdown",
   "id": "12080f49",
   "metadata": {},
   "source": [
    "## Decision Tree"
   ]
  },
  {
   "cell_type": "code",
   "execution_count": 78,
   "id": "2a914956",
   "metadata": {},
   "outputs": [],
   "source": [
    "from sklearn.tree import DecisionTreeClassifier\n",
    "dtc = DecisionTreeClassifier()\n",
    "dtc.fit(x_train,y_train)\n",
    "y_pred_dtc = dtc.predict(x_test)"
   ]
  },
  {
   "cell_type": "code",
   "execution_count": 79,
   "id": "3bb1951d",
   "metadata": {},
   "outputs": [
    {
     "name": "stdout",
     "output_type": "stream",
     "text": [
      "              precision    recall  f1-score   support\n",
      "\n",
      "           0       0.72      0.71      0.71       914\n",
      "           1       0.70      0.72      0.71       893\n",
      "\n",
      "    accuracy                           0.71      1807\n",
      "   macro avg       0.71      0.71      0.71      1807\n",
      "weighted avg       0.71      0.71      0.71      1807\n",
      "\n"
     ]
    }
   ],
   "source": [
    "# Testing score\n",
    "print(classification_report(y_test,y_pred_dtc))"
   ]
  },
  {
   "cell_type": "code",
   "execution_count": 80,
   "id": "c02adc96",
   "metadata": {},
   "outputs": [],
   "source": [
    "# Predicting for training data\n",
    "y_pred_dtctrain = dtc.predict(x_train)"
   ]
  },
  {
   "cell_type": "code",
   "execution_count": 81,
   "id": "2f579752",
   "metadata": {},
   "outputs": [
    {
     "name": "stdout",
     "output_type": "stream",
     "text": [
      "              precision    recall  f1-score   support\n",
      "\n",
      "           0       0.98      1.00      0.99      3603\n",
      "           1       1.00      0.97      0.99      3624\n",
      "\n",
      "    accuracy                           0.99      7227\n",
      "   macro avg       0.99      0.99      0.99      7227\n",
      "weighted avg       0.99      0.99      0.99      7227\n",
      "\n"
     ]
    }
   ],
   "source": [
    "# Training Accuracy\n",
    "print(classification_report(y_train,y_pred_dtctrain))"
   ]
  },
  {
   "cell_type": "markdown",
   "id": "e9771eb3",
   "metadata": {},
   "source": [
    "## Random Forest"
   ]
  },
  {
   "cell_type": "code",
   "execution_count": 82,
   "id": "07d56716",
   "metadata": {},
   "outputs": [],
   "source": [
    "from sklearn.ensemble import RandomForestClassifier\n",
    "rfc = RandomForestClassifier(n_estimators=200)\n",
    "rfc.fit(x_train,y_train)\n",
    "y_pred_rfc = rfc.predict(x_test)\n",
    "y_pred_rfctrain = rfc.predict(x_train)"
   ]
  },
  {
   "cell_type": "code",
   "execution_count": 83,
   "id": "9132cf2e",
   "metadata": {},
   "outputs": [
    {
     "name": "stdout",
     "output_type": "stream",
     "text": [
      "              precision    recall  f1-score   support\n",
      "\n",
      "           0       0.77      0.74      0.75       914\n",
      "           1       0.74      0.77      0.76       893\n",
      "\n",
      "    accuracy                           0.76      1807\n",
      "   macro avg       0.76      0.76      0.76      1807\n",
      "weighted avg       0.76      0.76      0.76      1807\n",
      "\n"
     ]
    }
   ],
   "source": [
    "# Testing score\n",
    "print(classification_report(y_test,y_pred_rfc))"
   ]
  },
  {
   "cell_type": "code",
   "execution_count": 84,
   "id": "ea750d47",
   "metadata": {},
   "outputs": [
    {
     "name": "stdout",
     "output_type": "stream",
     "text": [
      "              precision    recall  f1-score   support\n",
      "\n",
      "           0       0.99      0.99      0.99      3603\n",
      "           1       0.99      0.99      0.99      3624\n",
      "\n",
      "    accuracy                           0.99      7227\n",
      "   macro avg       0.99      0.99      0.99      7227\n",
      "weighted avg       0.99      0.99      0.99      7227\n",
      "\n"
     ]
    }
   ],
   "source": [
    "# Training Accuracy\n",
    "print(classification_report(y_train,y_pred_rfctrain))"
   ]
  },
  {
   "cell_type": "markdown",
   "id": "c871c7ca",
   "metadata": {},
   "source": [
    "## SVC"
   ]
  },
  {
   "cell_type": "code",
   "execution_count": 85,
   "id": "253a6c71",
   "metadata": {},
   "outputs": [],
   "source": [
    "from sklearn.svm import SVC\n",
    "svc = SVC()\n",
    "svc.fit(x_train,y_train)\n",
    "y_pred_svc = svc.predict(x_test)\n",
    "y_pred_svctrain = svc.predict(x_train)"
   ]
  },
  {
   "cell_type": "code",
   "execution_count": 86,
   "id": "a7b8269d",
   "metadata": {},
   "outputs": [
    {
     "name": "stdout",
     "output_type": "stream",
     "text": [
      "              precision    recall  f1-score   support\n",
      "\n",
      "           0       0.68      0.64      0.66       914\n",
      "           1       0.65      0.69      0.67       893\n",
      "\n",
      "    accuracy                           0.67      1807\n",
      "   macro avg       0.67      0.67      0.67      1807\n",
      "weighted avg       0.67      0.67      0.67      1807\n",
      "\n"
     ]
    }
   ],
   "source": [
    "# Testing score\n",
    "print(classification_report(y_test,y_pred_svc))"
   ]
  },
  {
   "cell_type": "code",
   "execution_count": 87,
   "id": "9ab510bd",
   "metadata": {},
   "outputs": [
    {
     "name": "stdout",
     "output_type": "stream",
     "text": [
      "              precision    recall  f1-score   support\n",
      "\n",
      "           0       0.67      0.64      0.66      3603\n",
      "           1       0.66      0.69      0.67      3624\n",
      "\n",
      "    accuracy                           0.66      7227\n",
      "   macro avg       0.66      0.66      0.66      7227\n",
      "weighted avg       0.66      0.66      0.66      7227\n",
      "\n"
     ]
    }
   ],
   "source": [
    "# Training Accuracy\n",
    "print(classification_report(y_train,y_pred_svctrain))"
   ]
  },
  {
   "cell_type": "markdown",
   "id": "3bb2d193",
   "metadata": {},
   "source": [
    "## KNN"
   ]
  },
  {
   "cell_type": "code",
   "execution_count": 88,
   "id": "6360fc71",
   "metadata": {},
   "outputs": [],
   "source": [
    "from sklearn.neighbors import KNeighborsClassifier\n",
    "error_rate = []\n",
    "for i in range(1,11):\n",
    "    knn = KNeighborsClassifier(n_neighbors = i)\n",
    "    knn.fit(x_train,y_train)\n",
    "    pred_i = knn.predict(x_test)\n",
    "    error_rate.append(np.mean(pred_i != y_test))"
   ]
  },
  {
   "cell_type": "code",
   "execution_count": 89,
   "id": "b8b4abc1",
   "metadata": {},
   "outputs": [
    {
     "data": {
      "text/plain": [
       "[0.2783619258439402,\n",
       " 0.28555617044825676,\n",
       " 0.29385722191477587,\n",
       " 0.2805755395683453,\n",
       " 0.28832318760376313,\n",
       " 0.2872163807415606,\n",
       " 0.2927504150525733,\n",
       " 0.2955174322080797,\n",
       " 0.2955174322080797,\n",
       " 0.2916436081903708]"
      ]
     },
     "execution_count": 89,
     "metadata": {},
     "output_type": "execute_result"
    }
   ],
   "source": [
    "error_rate"
   ]
  },
  {
   "cell_type": "code",
   "execution_count": 90,
   "id": "706cfe39",
   "metadata": {},
   "outputs": [
    {
     "data": {
      "image/png": "[encoded data removed]",
      "text/plain": [
       "<Figure size 576x576 with 1 Axes>"
      ]
     },
     "metadata": {
      "needs_background": "light"
     },
     "output_type": "display_data"
    }
   ],
   "source": [
    "plt.figure(figsize = (8,8))\n",
    "plt.plot(range(1,11),error_rate,marker = '*')\n",
    "plt.title('error rate vs K value')\n",
    "plt.xlabel('K value')\n",
    "plt.ylabel('error_rate')\n",
    "plt.show()"
   ]
  },
  {
   "cell_type": "code",
   "execution_count": 91,
   "id": "1a9d4067",
   "metadata": {},
   "outputs": [],
   "source": [
    "KNN = KNeighborsClassifier(n_neighbors = 3)\n",
    "KNN.fit(x_train,y_train)\n",
    "y_pred_knn = KNN.predict(x_test)\n",
    "y_pred_knntrain = KNN.predict(x_train)"
   ]
  },
  {
   "cell_type": "code",
   "execution_count": 92,
   "id": "8b00e5c7",
   "metadata": {},
   "outputs": [
    {
     "name": "stdout",
     "output_type": "stream",
     "text": [
      "              precision    recall  f1-score   support\n",
      "\n",
      "           0       0.76      0.62      0.68       914\n",
      "           1       0.67      0.80      0.73       893\n",
      "\n",
      "    accuracy                           0.71      1807\n",
      "   macro avg       0.71      0.71      0.70      1807\n",
      "weighted avg       0.71      0.71      0.70      1807\n",
      "\n"
     ]
    }
   ],
   "source": [
    "print(classification_report(y_test,y_pred_knn))"
   ]
  },
  {
   "cell_type": "code",
   "execution_count": 93,
   "id": "c89e4bf5",
   "metadata": {},
   "outputs": [
    {
     "name": "stdout",
     "output_type": "stream",
     "text": [
      "              precision    recall  f1-score   support\n",
      "\n",
      "           0       0.90      0.80      0.84      3603\n",
      "           1       0.82      0.91      0.86      3624\n",
      "\n",
      "    accuracy                           0.85      7227\n",
      "   macro avg       0.86      0.85      0.85      7227\n",
      "weighted avg       0.86      0.85      0.85      7227\n",
      "\n"
     ]
    }
   ],
   "source": [
    "# Training Accuracy\n",
    "print(classification_report(y_train,y_pred_knntrain))"
   ]
  },
  {
   "cell_type": "markdown",
   "id": "217ece67",
   "metadata": {},
   "source": [
    "## Hyperparameter tuning for Decision tree"
   ]
  },
  {
   "cell_type": "code",
   "execution_count": 94,
   "id": "30399cc9",
   "metadata": {},
   "outputs": [
    {
     "name": "stdout",
     "output_type": "stream",
     "text": [
      "Fitting 5 folds for each of 27436 candidates, totalling 137180 fits\n",
      "best_parameters: {'criterion': 'entropy', 'max_depth': 15, 'min_samples_leaf': 6, 'min_samples_split': 13, 'splitter': 'random'}\n"
     ]
    }
   ],
   "source": [
    "from sklearn.model_selection import GridSearchCV\n",
    "\n",
    "# Hyper parameters for decision tree\n",
    "params = {\n",
    "    'criterion':('ginni','entropy'),\n",
    "    'splitter':('best','random'),\n",
    "    'max_depth':(list(range(1,20))),\n",
    "    'min_samples_split':(list(range(1,20))),\n",
    "    'min_samples_leaf':(list(range(1,20)))\n",
    "}\n",
    "\n",
    "rfc = DecisionTreeClassifier(random_state=23)\n",
    "rfc_cv = GridSearchCV(rfc,params,verbose=2,n_jobs=-1,cv=5,scoring='accuracy')\n",
    "\n",
    "rfc_cv.fit(x_train,y_train) # Training the data on GridSearchCV\n",
    "best_parameters = rfc_cv.best_params_ # it will give us best parameters\n",
    "# Printing the best parameters for further predictions\n",
    "print('best_parameters:',best_parameters)"
   ]
  },
  {
   "cell_type": "code",
   "execution_count": 117,
   "id": "ab12be68",
   "metadata": {},
   "outputs": [],
   "source": [
    "rfcclassifier = DecisionTreeClassifier(criterion= 'entropy', max_depth= 15, min_samples_leaf= 6, min_samples_split= 13, splitter= 'random',random_state = 54)\n",
    "rfcclassifier.fit(x_train,y_train)\n",
    "y_predrfc = rfcclassifier.predict(x_test)\n",
    "y_predrfc_train = rfcclassifier.predict(x_train)"
   ]
  },
  {
   "cell_type": "code",
   "execution_count": 118,
   "id": "df2ce6cb",
   "metadata": {},
   "outputs": [
    {
     "name": "stdout",
     "output_type": "stream",
     "text": [
      "              precision    recall  f1-score   support\n",
      "\n",
      "           0       0.73      0.74      0.73       914\n",
      "           1       0.73      0.71      0.72       893\n",
      "\n",
      "    accuracy                           0.73      1807\n",
      "   macro avg       0.73      0.73      0.73      1807\n",
      "weighted avg       0.73      0.73      0.73      1807\n",
      "\n"
     ]
    }
   ],
   "source": [
    "# Testing Accuracy\n",
    "print(classification_report(y_test,y_predrfc))"
   ]
  },
  {
   "cell_type": "code",
   "execution_count": 119,
   "id": "90dea7b6",
   "metadata": {},
   "outputs": [
    {
     "name": "stdout",
     "output_type": "stream",
     "text": [
      "              precision    recall  f1-score   support\n",
      "\n",
      "           0       0.77      0.81      0.79      3603\n",
      "           1       0.80      0.76      0.78      3624\n",
      "\n",
      "    accuracy                           0.79      7227\n",
      "   macro avg       0.79      0.79      0.79      7227\n",
      "weighted avg       0.79      0.79      0.79      7227\n",
      "\n"
     ]
    }
   ],
   "source": [
    "# Training Accuracy\n",
    "print(classification_report(y_train,y_predrfc_train))"
   ]
  },
  {
   "cell_type": "markdown",
   "id": "02bc6b01",
   "metadata": {},
   "source": [
    "## Hyperparameter tuning for Random Forest"
   ]
  },
  {
   "cell_type": "code",
   "execution_count": 98,
   "id": "87151713",
   "metadata": {},
   "outputs": [],
   "source": [
    "from sklearn.model_selection import RandomizedSearchCV"
   ]
  },
  {
   "cell_type": "code",
   "execution_count": 99,
   "id": "e2192de8",
   "metadata": {},
   "outputs": [
    {
     "name": "stdout",
     "output_type": "stream",
     "text": [
      "Fitting 3 folds for each of 200 candidates, totalling 600 fits\n",
      "best parameters: {'n_estimators': 400, 'min_samples_split': 2, 'min_samples_leaf': 2, 'max_features': 'sqrt', 'max_depth': 12, 'bootstrap': False}\n"
     ]
    }
   ],
   "source": [
    "# Hyper parameters for Random Forest\n",
    "param_grid = {\n",
    "    'n_estimators':[400,600,800,1000,1200,1400,1600,1800,2000,2200],\n",
    "    'max_depth':(list(range(1,13))),\n",
    "    'min_samples_split':(list(range(1,9))),\n",
    "    'min_samples_leaf':(list(range(1,6))),\n",
    "    'max_features':['auto','sqrt'],\n",
    "    'bootstrap':[True,False]}\n",
    "\n",
    "rfclassifier = RandomForestClassifier(random_state=43)\n",
    "rf_tree_rcv = RandomizedSearchCV(rfclassifier,param_grid,verbose=2,n_jobs=-1,cv=3,n_iter=200,scoring='accuracy')\n",
    "\n",
    "rf_tree_rcv.fit(x_train,y_train) # Training the data on GridSearchCV\n",
    "\n",
    "best_parameters1 = rf_tree_rcv.best_params_\n",
    "# printing best parameters for further prediction\n",
    "print('best parameters:',best_parameters1)"
   ]
  },
  {
   "cell_type": "code",
   "execution_count": 100,
   "id": "a19984d6",
   "metadata": {},
   "outputs": [],
   "source": [
    "random_forest = RandomForestClassifier(n_estimators= 1000, min_samples_split= 5, min_samples_leaf= 1, max_features = 'sqrt', max_depth= 10, bootstrap= True)\n",
    "random_forest.fit(x_train,y_train)\n",
    "y_predRF = random_forest.predict(x_test)\n",
    "y_predRF_train = random_forest.predict(x_train)"
   ]
  },
  {
   "cell_type": "code",
   "execution_count": 101,
   "id": "ad8e7d0e",
   "metadata": {},
   "outputs": [
    {
     "name": "stdout",
     "output_type": "stream",
     "text": [
      "              precision    recall  f1-score   support\n",
      "\n",
      "           0       0.78      0.70      0.74       914\n",
      "           1       0.72      0.79      0.76       893\n",
      "\n",
      "    accuracy                           0.75      1807\n",
      "   macro avg       0.75      0.75      0.75      1807\n",
      "weighted avg       0.75      0.75      0.75      1807\n",
      "\n"
     ]
    }
   ],
   "source": [
    "# Testing Accuracy\n",
    "print(classification_report(y_test,y_predRF))"
   ]
  },
  {
   "cell_type": "code",
   "execution_count": 103,
   "id": "cabac229",
   "metadata": {},
   "outputs": [
    {
     "name": "stdout",
     "output_type": "stream",
     "text": [
      "              precision    recall  f1-score   support\n",
      "\n",
      "           0       0.84      0.78      0.81      3603\n",
      "           1       0.80      0.85      0.82      3624\n",
      "\n",
      "    accuracy                           0.82      7227\n",
      "   macro avg       0.82      0.82      0.82      7227\n",
      "weighted avg       0.82      0.82      0.82      7227\n",
      "\n"
     ]
    }
   ],
   "source": [
    "# Training Accuracy\n",
    "print(classification_report(y_train,y_predRF_train))"
   ]
  },
  {
   "cell_type": "markdown",
   "id": "730f33d2",
   "metadata": {},
   "source": [
    "## Using Bagging for Random Forest"
   ]
  },
  {
   "cell_type": "code",
   "execution_count": 104,
   "id": "86cee00d",
   "metadata": {},
   "outputs": [],
   "source": [
    "from sklearn.ensemble import BaggingClassifier\n",
    "model_bag = BaggingClassifier(base_estimator = rfc, n_estimators = 100,random_state = 87)\n",
    "model_bag.fit(x_train,y_train)\n",
    "y_pred_bag = model_bag.predict(x_test)\n",
    "y_pred_bagtrain = model_bag.predict(x_train)"
   ]
  },
  {
   "cell_type": "code",
   "execution_count": 105,
   "id": "bf4fc5c3",
   "metadata": {},
   "outputs": [
    {
     "name": "stdout",
     "output_type": "stream",
     "text": [
      "              precision    recall  f1-score   support\n",
      "\n",
      "           0       0.74      0.75      0.74       914\n",
      "           1       0.74      0.74      0.74       893\n",
      "\n",
      "    accuracy                           0.74      1807\n",
      "   macro avg       0.74      0.74      0.74      1807\n",
      "weighted avg       0.74      0.74      0.74      1807\n",
      "\n"
     ]
    }
   ],
   "source": [
    "# Testing Accuracy\n",
    "print(classification_report(y_test,y_pred_bag))"
   ]
  },
  {
   "cell_type": "code",
   "execution_count": 106,
   "id": "4ec000e0",
   "metadata": {},
   "outputs": [
    {
     "name": "stdout",
     "output_type": "stream",
     "text": [
      "              precision    recall  f1-score   support\n",
      "\n",
      "           0       0.98      0.99      0.99      3603\n",
      "           1       0.99      0.98      0.99      3624\n",
      "\n",
      "    accuracy                           0.99      7227\n",
      "   macro avg       0.99      0.99      0.99      7227\n",
      "weighted avg       0.99      0.99      0.99      7227\n",
      "\n"
     ]
    }
   ],
   "source": [
    "# Training Accuracy\n",
    "print(classification_report(y_train,y_pred_bagtrain))"
   ]
  },
  {
   "cell_type": "markdown",
   "id": "867813eb",
   "metadata": {},
   "source": [
    "## Using Bagging for Logistic Regression"
   ]
  },
  {
   "cell_type": "code",
   "execution_count": 107,
   "id": "481339af",
   "metadata": {},
   "outputs": [],
   "source": [
    "from sklearn.ensemble import BaggingClassifier\n",
    "model_bag1 = BaggingClassifier(base_estimator = model, n_estimators = 100,random_state = 7)\n",
    "model_bag1.fit(x_train,y_train)\n",
    "y_pred_bag1 = model_bag.predict(x_test)\n",
    "y_pred_bag1train = model_bag.predict(x_train)"
   ]
  },
  {
   "cell_type": "code",
   "execution_count": 108,
   "id": "b85ef8b2",
   "metadata": {},
   "outputs": [
    {
     "name": "stdout",
     "output_type": "stream",
     "text": [
      "              precision    recall  f1-score   support\n",
      "\n",
      "           0       0.74      0.75      0.74       914\n",
      "           1       0.74      0.74      0.74       893\n",
      "\n",
      "    accuracy                           0.74      1807\n",
      "   macro avg       0.74      0.74      0.74      1807\n",
      "weighted avg       0.74      0.74      0.74      1807\n",
      "\n"
     ]
    }
   ],
   "source": [
    "# Testing Accuracy\n",
    "print(classification_report(y_test,y_pred_bag1))"
   ]
  },
  {
   "cell_type": "code",
   "execution_count": 109,
   "id": "190e198b",
   "metadata": {},
   "outputs": [
    {
     "name": "stdout",
     "output_type": "stream",
     "text": [
      "              precision    recall  f1-score   support\n",
      "\n",
      "           0       0.98      0.99      0.99      3603\n",
      "           1       0.99      0.98      0.99      3624\n",
      "\n",
      "    accuracy                           0.99      7227\n",
      "   macro avg       0.99      0.99      0.99      7227\n",
      "weighted avg       0.99      0.99      0.99      7227\n",
      "\n"
     ]
    }
   ],
   "source": [
    "# Training Accuracy\n",
    "print(classification_report(y_train,y_pred_bag1train))"
   ]
  },
  {
   "cell_type": "markdown",
   "id": "3e0f47e5",
   "metadata": {},
   "source": [
    "## GB : Gradient Boosting"
   ]
  },
  {
   "cell_type": "code",
   "execution_count": 110,
   "id": "b3a94292",
   "metadata": {},
   "outputs": [],
   "source": [
    "from sklearn.ensemble import GradientBoostingClassifier\n",
    "gbr = GradientBoostingClassifier() \n",
    "gbr.fit(x_train,y_train)\n",
    "y_pred_gb = gbr.predict(x_test)\n",
    "y_pred_gbtrain = gbr.predict(x_train)"
   ]
  },
  {
   "cell_type": "code",
   "execution_count": 111,
   "id": "58665ccf",
   "metadata": {},
   "outputs": [
    {
     "name": "stdout",
     "output_type": "stream",
     "text": [
      "              precision    recall  f1-score   support\n",
      "\n",
      "           0       0.78      0.71      0.74       914\n",
      "           1       0.73      0.79      0.76       893\n",
      "\n",
      "    accuracy                           0.75      1807\n",
      "   macro avg       0.75      0.75      0.75      1807\n",
      "weighted avg       0.75      0.75      0.75      1807\n",
      "\n"
     ]
    }
   ],
   "source": [
    "# Testing Accuracy\n",
    "print(classification_report(y_test,y_pred_gb))"
   ]
  },
  {
   "cell_type": "code",
   "execution_count": 112,
   "id": "578e957c",
   "metadata": {},
   "outputs": [
    {
     "name": "stdout",
     "output_type": "stream",
     "text": [
      "              precision    recall  f1-score   support\n",
      "\n",
      "           0       0.78      0.74      0.76      3603\n",
      "           1       0.76      0.79      0.78      3624\n",
      "\n",
      "    accuracy                           0.77      7227\n",
      "   macro avg       0.77      0.77      0.77      7227\n",
      "weighted avg       0.77      0.77      0.77      7227\n",
      "\n"
     ]
    }
   ],
   "source": [
    "# Training Accuracy\n",
    "print(classification_report(y_train,y_pred_gbtrain))"
   ]
  },
  {
   "cell_type": "markdown",
   "id": "4fa17580",
   "metadata": {},
   "source": [
    "## XGB"
   ]
  },
  {
   "cell_type": "code",
   "execution_count": 113,
   "id": "1d043ab4",
   "metadata": {},
   "outputs": [],
   "source": [
    "from xgboost import XGBClassifier\n",
    "xgb = XGBClassifier(random_state = 34)\n",
    "xgb.fit(x_train,y_train)\n",
    "y_pred_xgb = xgb.predict(x_test)"
   ]
  },
  {
   "cell_type": "code",
   "execution_count": 114,
   "id": "d289cf63",
   "metadata": {},
   "outputs": [
    {
     "name": "stdout",
     "output_type": "stream",
     "text": [
      "              precision    recall  f1-score   support\n",
      "\n",
      "           0       0.78      0.76      0.77       914\n",
      "           1       0.76      0.78      0.77       893\n",
      "\n",
      "    accuracy                           0.77      1807\n",
      "   macro avg       0.77      0.77      0.77      1807\n",
      "weighted avg       0.77      0.77      0.77      1807\n",
      "\n"
     ]
    }
   ],
   "source": [
    "# Testing Accuracy\n",
    "print(classification_report(y_test,y_pred_xgb))"
   ]
  },
  {
   "cell_type": "code",
   "execution_count": 115,
   "id": "39053ec3",
   "metadata": {},
   "outputs": [],
   "source": [
    "y_pred_train = xgb.predict(x_train)"
   ]
  },
  {
   "cell_type": "code",
   "execution_count": 116,
   "id": "13352814",
   "metadata": {},
   "outputs": [
    {
     "name": "stdout",
     "output_type": "stream",
     "text": [
      "              precision    recall  f1-score   support\n",
      "\n",
      "           0       0.87      0.88      0.88      3603\n",
      "           1       0.88      0.88      0.88      3624\n",
      "\n",
      "    accuracy                           0.88      7227\n",
      "   macro avg       0.88      0.88      0.88      7227\n",
      "weighted avg       0.88      0.88      0.88      7227\n",
      "\n"
     ]
    }
   ],
   "source": [
    "# Training Accuracy\n",
    "print(classification_report(y_train,y_pred_train))"
   ]
  },
  {
   "cell_type": "code",
   "execution_count": 120,
   "id": "5817b484",
   "metadata": {},
   "outputs": [],
   "source": [
    "my_dictionary = {'Model':['Logistic regression','Naive Bayes','Decision Tree','Random Forest','SVC','KNN','Tuning for Decision Tree',\n",
    "                         'Tuning for Random Forest','Bagging for Random Forest','Bagging for Logistic Regression','Gradient Boosting','XGB'],\n",
    "                'Testing Accuracy':[0.72,0.67,0.71,0.76,0.67,0.71,0.73,0.75,0.74,0.74,0.75,0.77],\n",
    "                'Training Accuracy':[0.72,0.67,0.99,0.99,0.66,0.85,0.79,0.82,0.99,0.99,0.77,0.88]}"
   ]
  },
  {
   "cell_type": "code",
   "execution_count": 122,
   "id": "4302abd5",
   "metadata": {},
   "outputs": [
    {
     "data": {
      "text/html": [
       "<div>\n",
       "<style scoped>\n",
       "    .dataframe tbody tr th:only-of-type {\n",
       "        vertical-align: middle;\n",
       "    }\n",
       "\n",
       "    .dataframe tbody tr th {\n",
       "        vertical-align: top;\n",
       "    }\n",
       "\n",
       "    .dataframe thead th {\n",
       "        text-align: right;\n",
       "    }\n",
       "</style>\n",
       "<table border=\"1\" class=\"dataframe\">\n",
       "  <thead>\n",
       "    <tr style=\"text-align: right;\">\n",
       "      <th></th>\n",
       "      <th>Model</th>\n",
       "      <th>Testing Accuracy</th>\n",
       "      <th>Training Accuracy</th>\n",
       "    </tr>\n",
       "  </thead>\n",
       "  <tbody>\n",
       "    <tr>\n",
       "      <th>0</th>\n",
       "      <td>Logistic regression</td>\n",
       "      <td>0.72</td>\n",
       "      <td>0.72</td>\n",
       "    </tr>\n",
       "    <tr>\n",
       "      <th>1</th>\n",
       "      <td>Naive Bayes</td>\n",
       "      <td>0.67</td>\n",
       "      <td>0.67</td>\n",
       "    </tr>\n",
       "    <tr>\n",
       "      <th>2</th>\n",
       "      <td>Decision Tree</td>\n",
       "      <td>0.71</td>\n",
       "      <td>0.99</td>\n",
       "    </tr>\n",
       "    <tr>\n",
       "      <th>3</th>\n",
       "      <td>Random Forest</td>\n",
       "      <td>0.76</td>\n",
       "      <td>0.99</td>\n",
       "    </tr>\n",
       "    <tr>\n",
       "      <th>4</th>\n",
       "      <td>SVC</td>\n",
       "      <td>0.67</td>\n",
       "      <td>0.66</td>\n",
       "    </tr>\n",
       "    <tr>\n",
       "      <th>5</th>\n",
       "      <td>KNN</td>\n",
       "      <td>0.71</td>\n",
       "      <td>0.85</td>\n",
       "    </tr>\n",
       "    <tr>\n",
       "      <th>6</th>\n",
       "      <td>Tuning for Decision Tree</td>\n",
       "      <td>0.73</td>\n",
       "      <td>0.79</td>\n",
       "    </tr>\n",
       "    <tr>\n",
       "      <th>7</th>\n",
       "      <td>Tuning for Random Forest</td>\n",
       "      <td>0.75</td>\n",
       "      <td>0.82</td>\n",
       "    </tr>\n",
       "    <tr>\n",
       "      <th>8</th>\n",
       "      <td>Bagging for Random Forest</td>\n",
       "      <td>0.74</td>\n",
       "      <td>0.99</td>\n",
       "    </tr>\n",
       "    <tr>\n",
       "      <th>9</th>\n",
       "      <td>Bagging for Logistic Regression</td>\n",
       "      <td>0.74</td>\n",
       "      <td>0.99</td>\n",
       "    </tr>\n",
       "    <tr>\n",
       "      <th>10</th>\n",
       "      <td>Gradient Boosting</td>\n",
       "      <td>0.75</td>\n",
       "      <td>0.77</td>\n",
       "    </tr>\n",
       "    <tr>\n",
       "      <th>11</th>\n",
       "      <td>XGB</td>\n",
       "      <td>0.77</td>\n",
       "      <td>0.88</td>\n",
       "    </tr>\n",
       "  </tbody>\n",
       "</table>\n",
       "</div>"
      ],
      "text/plain": [
       "                              Model  Testing Accuracy  Training Accuracy\n",
       "0               Logistic regression              0.72               0.72\n",
       "1                       Naive Bayes              0.67               0.67\n",
       "2                     Decision Tree              0.71               0.99\n",
       "3                     Random Forest              0.76               0.99\n",
       "4                               SVC              0.67               0.66\n",
       "5                               KNN              0.71               0.85\n",
       "6          Tuning for Decision Tree              0.73               0.79\n",
       "7          Tuning for Random Forest              0.75               0.82\n",
       "8         Bagging for Random Forest              0.74               0.99\n",
       "9   Bagging for Logistic Regression              0.74               0.99\n",
       "10                Gradient Boosting              0.75               0.77\n",
       "11                              XGB              0.77               0.88"
      ]
     },
     "execution_count": 122,
     "metadata": {},
     "output_type": "execute_result"
    }
   ],
   "source": [
    "Scores = pd.DataFrame(my_dictionary)\n",
    "Scores"
   ]
  },
  {
   "cell_type": "markdown",
   "id": "946a44c8",
   "metadata": {},
   "source": [
    "# Conclusion: "
   ]
  },
  {
   "cell_type": "markdown",
   "id": "ea973736",
   "metadata": {},
   "source": [
    "Task 1: Data Exploration insights - Sales effectiveness\n",
    "\n",
    "Exploratory Data Analysis and insights are given above."
   ]
  },
  {
   "cell_type": "markdown",
   "id": "34789a25",
   "metadata": {},
   "source": [
    "Task 2: ML model to predict the Lead Category (High Potential, Low Potential)\n",
    "After data preprocessing the data was trained and tested by different ML models.\n",
    "\n",
    "I have used different techniques that are Normal approach then performed Hyperparameter tuning when model was overfitting or underfitting and Boosting.\n",
    "\n",
    "Logistic Regression did performed moderately on training as well as testing data. so I used bagging to logistic regression after that it performed better but that was not sufficient for us.\n",
    "\n",
    "Naive Bayes and SVC did not performed well on training as well as testing data.\n",
    "\n",
    "Decision Tree also performed moderately on both training and testing data. Then I did Hyperparameter tuning for decision tree but then performence of the model incresed by 2%.\n",
    "\n",
    "Random Forest performed well on both training and testing data but it looks overfitted, to generalize the model I did hyperparameter tuning for random forest but model's performance decreased by 1% but good thing is it is generalized model.\n",
    "\n",
    "KNN model also a moderate performer.\n",
    "\n",
    "Bagging for Random Forest and Logistic Regression gives us the same results.\n",
    "\n",
    "Gradient Boosting performed well on both training and testing data that is 75% testing accuracy and 77% training accuracy\n",
    "\n",
    "Extreme Gradient Boosting [XGB] Gives us Highest accuracy score for both training data and testing data that is 77% testing accuracy and 88% training accuracy.\n",
    "\n",
    "XGB model is the generalized and high performed Model among all of them."
   ]
  },
  {
   "cell_type": "code",
   "execution_count": null,
   "id": "2a2f4cd2",
   "metadata": {},
   "outputs": [],
   "source": []
  }
 ],
 "metadata": {
  "kernelspec": {
   "display_name": "Python 3 (ipykernel)",
   "language": "python",
   "name": "python3"
  },
  "language_info": {
   "codemirror_mode": {
    "name": "ipython",
    "version": 3
   },
   "file_extension": ".py",
   "mimetype": "text/x-python",
   "name": "python",
   "nbconvert_exporter": "python",
   "pygments_lexer": "ipython3",
   "version": "3.9.7"
  }
 },
 "nbformat": 4,
 "nbformat_minor": 5
}
